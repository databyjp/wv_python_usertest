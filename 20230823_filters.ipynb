{
 "cells": [
  {
   "cell_type": "code",
   "execution_count": 1,
   "metadata": {
    "collapsed": true,
    "ExecuteTime": {
     "end_time": "2023-08-23T12:32:23.667497Z",
     "start_time": "2023-08-23T12:32:23.346421Z"
    }
   },
   "outputs": [],
   "source": [
    "from weaviate import Config\n",
    "import weaviate\n",
    "\n",
    "client = weaviate.Client(\n",
    "    \"http://localhost:8080\", additional_config=Config(grpc_port_experimental=50051)\n",
    ")"
   ]
  },
  {
   "cell_type": "code",
   "execution_count": 2,
   "outputs": [],
   "source": [
    "from weaviate.collection.classes import CollectionConfig, Vectorizer, Property, DataType\n",
    "\n",
    "collection = client.collection.create(\n",
    "    CollectionConfig(\n",
    "        name=\"TestFilterText\",\n",
    "        vectorizer=Vectorizer.NONE,\n",
    "        properties=[Property(name=\"name\", data_type=DataType.TEXT)],\n",
    "    )\n",
    ")\n",
    "\n",
    "uuids = [\n",
    "    collection.data.insert({\"name\": \"Banana\"}),\n",
    "    collection.data.insert({\"name\": \"Apple\"}),\n",
    "    collection.data.insert({\"name\": \"Mountain\"}),\n",
    "]"
   ],
   "metadata": {
    "collapsed": false,
    "ExecuteTime": {
     "end_time": "2023-08-23T12:33:21.198259Z",
     "start_time": "2023-08-23T12:33:21.168632Z"
    }
   }
  },
  {
   "cell_type": "code",
   "execution_count": 4,
   "outputs": [
    {
     "name": "stdout",
     "output_type": "stream",
     "text": [
      "[_Object(data={'name': 'Banana'}, metadata=_MetadataReturn(uuid=UUID('07f60a4b-3bd5-45cf-9c86-beba1ce44ef3'), vector=None, creation_time_unix=1692794001188, last_update_time_unix=1692794001188, distance=None, certainty=None, score=0.0, explain_score='', is_consistent=None))]\n",
      "[_Object(data={'name': 'Apple'}, metadata=_MetadataReturn(uuid=UUID('dc5c8478-bf2a-4152-a7c0-12a4cd9bf888'), vector=None, creation_time_unix=1692794001191, last_update_time_unix=1692794001191, distance=None, certainty=None, score=0.0, explain_score='', is_consistent=None)), _Object(data={'name': 'Mountain'}, metadata=_MetadataReturn(uuid=UUID('85c45623-4813-4354-8358-1700ab510e26'), vector=None, creation_time_unix=1692794001194, last_update_time_unix=1692794001194, distance=None, certainty=None, score=0.0, explain_score='', is_consistent=None))]\n",
      "[_Object(data={'name': 'Banana'}, metadata=_MetadataReturn(uuid=UUID('07f60a4b-3bd5-45cf-9c86-beba1ce44ef3'), vector=None, creation_time_unix=1692794001188, last_update_time_unix=1692794001188, distance=None, certainty=None, score=0.0, explain_score='', is_consistent=None))]\n"
     ]
    }
   ],
   "source": [
    "from weaviate.collection.classes import FilterProp\n",
    "\n",
    "for weaviate_filter in [\n",
    "    (FilterProp(path=\"name\") == \"Banana\"),\n",
    "    (FilterProp(path=\"name\") != \"Banana\"),\n",
    "    (FilterProp(path=\"name\") * \"*nana\"),\n",
    "]:\n",
    "    objects = collection.query.get_flat(filters=weaviate_filter)\n",
    "    print(objects)"
   ],
   "metadata": {
    "collapsed": false,
    "ExecuteTime": {
     "end_time": "2023-08-23T12:35:50.980609Z",
     "start_time": "2023-08-23T12:35:50.969248Z"
    }
   }
  },
  {
   "cell_type": "code",
   "execution_count": null,
   "outputs": [],
   "source": [],
   "metadata": {
    "collapsed": false
   }
  }
 ],
 "metadata": {
  "kernelspec": {
   "display_name": "Python 3",
   "language": "python",
   "name": "python3"
  },
  "language_info": {
   "codemirror_mode": {
    "name": "ipython",
    "version": 2
   },
   "file_extension": ".py",
   "mimetype": "text/x-python",
   "name": "python",
   "nbconvert_exporter": "python",
   "pygments_lexer": "ipython2",
   "version": "2.7.6"
  }
 },
 "nbformat": 4,
 "nbformat_minor": 0
}
