{
 "cells": [
  {
   "cell_type": "markdown",
   "metadata": {
    "collapsed": false,
    "jupyter": {
     "outputs_hidden": false
    }
   },
   "source": [
    "# Early user testing for the Weaviate 'collections' client\n",
    "\n",
    "Welcome!\n",
    "\n",
    "We have been working on a new (and hopefully improved) API for our Python client. We are excited for you to try it out and provide feedback for us.\n",
    "\n",
    "## Feedback\n",
    "\n",
    "If you have feedback about any part of this, we tell us to know. No answers or impressions are wrong.\n",
    "\n",
    "Also, you will see sections marked **Please provide feedback from this section**. These are areas in which we are particularly interested.\n",
    "\n",
    "## Installation\n",
    "\n",
    "We recommend you create a **new environment** (whether venv, or Conda/Mamba) for this, in a new project directory.\n",
    "\n",
    "#### How to create a virtual environment with `venv`\n",
    "\n",
    "Go to your project directory and run:\n",
    "\n",
    "```shell\n",
    "python -m venv .venv\n",
    "```\n",
    "\n",
    "(Depending on your setup, `python` might need to be `python3`)\n",
    "\n",
    "Then activate it with:\n",
    "\n",
    "```shell\n",
    "source .venv/bin/activate\n",
    "```\n",
    "\n",
    "### Client installation\n",
    "\n",
    "Once you are in your desired environment:\n",
    "\n",
    "```shell\n",
    "pip install -U \"git+https://github.com/weaviate/weaviate-python-client.git@pydantic_experiment#egg=weaviate-client[GRPC]\"\n",
    "```\n",
    "#### Start Weaviate\n",
    "\n",
    "You will also need a pre-release version of Weaviate.\n",
    "\n",
    "Save the below to `docker-compose.yml` in the project directory. Then, go to the directory and run `docker compose up -d`.\n",
    "\n",
    "```yaml\n",
    "---\n",
    "version: '3.4'\n",
    "services:\n",
    "  weaviate:\n",
    "    command:\n",
    "    - --host\n",
    "    - 0.0.0.0\n",
    "    - --port\n",
    "    - '8080'\n",
    "    - --scheme\n",
    "    - http\n",
    "    image: semitechnologies/weaviate:preview-automatically-return-all-props-metadata-for-refs-07fce6f\n",
    "    restart: on-failure:0\n",
    "    ports:\n",
    "     - \"8080:8080\"\n",
    "     - \"50051:50051\"\n",
    "    environment:\n",
    "      QUERY_DEFAULTS_LIMIT: 25\n",
    "      QUERY_MAXIMUM_RESULTS: 10000\n",
    "      AUTHENTICATION_ANONYMOUS_ACCESS_ENABLED: 'true'\n",
    "      PERSISTENCE_DATA_PATH: '/var/lib/weaviate'\n",
    "      DEFAULT_VECTORIZER_MODULE: 'text2vec-openai'\n",
    "      ENABLE_MODULES: 'text2vec-contextionary,text2vec-openai,text2vec-cohere,text2vec-huggingface,text2vec-palm,generative-openai'\n",
    "      CLUSTER_HOSTNAME: 'node1'\n",
    "      CONTEXTIONARY_URL: contextionary:9999\n",
    "      AUTOSCHEMA_ENABLED: 'false'\n",
    "  contextionary:\n",
    "    environment:\n",
    "      OCCURRENCE_WEIGHT_LINEAR_FACTOR: 0.75\n",
    "      EXTENSIONS_STORAGE_MODE: weaviate\n",
    "      EXTENSIONS_STORAGE_ORIGIN: http://weaviate:8080\n",
    "      NEIGHBOR_OCCURRENCE_IGNORE_PERCENTILE: 5\n",
    "      ENABLE_COMPOUND_SPLITTING: 'false'\n",
    "    image: semitechnologies/contextionary:en0.16.0-v1.2.1\n",
    "    ports:\n",
    "    - 9999:9999\n",
    "...\n",
    "```\n",
    "\n",
    "You can check that the containers are up and available by running `docker ps` from the shell. This should show two Docker containers running - like:\n",
    "\n",
    "```shell\n",
    "CONTAINER ID   IMAGE                                                                                        COMMAND                  CREATED          STATUS         PORTS                                              NAMES\n",
    "4be7efdff229   semitechnologies/contextionary:en0.16.0-v1.2.1                                               \"/contextionary-serv…\"   10 seconds ago   Up 9 seconds   0.0.0.0:9999->9999/tcp                             try_new_wv_api_202306-contextionary-1\n",
    "e90a63fe1e15   semitechnologies/weaviate:preview-automatically-return-all-props-metadata-for-refs-07fce6f   \"/bin/weaviate --hos…\"   10 seconds ago   Up 9 seconds   0.0.0.0:8080->8080/tcp, 0.0.0.0:50055->50051/tcp   try_new_wv_api_202306-weaviate-1\n",
    "```\n",
    "\n",
    "The `STATUS` should include `Up` and closely match the `CREATED` time.\n",
    "\n",
    "#### Troubleshooting\n",
    "\n",
    "If your gRPC port is not open, try remapping it to another port (it can be anything). For example, you can change it from 50051 to 50055 by editing:\n",
    "\n",
    "```yaml\n",
    "    ports:\n",
    "     - \"8080:8080\"\n",
    "     - \"50051:50051\"\n",
    "```\n",
    "\n",
    "To\n",
    "\n",
    "```yaml\n",
    "    ports:\n",
    "     - \"8080:8080\"\n",
    "     - \"50055:50051\"\n",
    "```\n",
    "\n",
    "Note that this will require you to edit the gRPC port in the client for `grpc_port_experimental` below.\n",
    "\n",
    "## Try out the client\n",
    "\n",
    "We're good to go! Fire up your preferred way to edit / run Python code (Jupyter, VSCode, PyCharm, vim, whatever) and follow along.\n",
    "\n",
    "### Key ideas\n",
    "\n",
    "We are calling this the `collections` client, because many of the data interactions will be at the collections (currently called `Class` in Weaviate) level.\n",
    "\n",
    "From here, we will call Weaviate `classes`\n",
    "\n",
    "This client also includes custom Python classes to provide assistance for building collection definitions, objects, performing searches, and so on.\n",
    "\n",
    "You can import them individually, like so:\n",
    "\n",
    "```\n",
    "from weaviate.weaviate_classes import Property, ConfigFactory, VectorizerFactory, DataObject\n",
    "```\n",
    "\n",
    "But you can import the whole set of classes like this.\n",
    "\n",
    "```\n",
    "import weaviate.weaviate_classes as wvc\n",
    "```\n",
    "\n",
    "This will let you use them as required like `wvc.Property(...)` and so on.\n",
    "\n",
    "### Instantiation\n",
    "\n",
    "Run the below to connect to Weaviate. Note that you need a `grpc` port specified. It should return `True`."
   ]
  },
  {
   "cell_type": "code",
   "execution_count": 1,
   "metadata": {
    "ExecuteTime": {
     "end_time": "2023-09-15T19:44:44.018506Z",
     "start_time": "2023-09-15T19:44:43.635042Z"
    },
    "collapsed": false,
    "jupyter": {
     "outputs_hidden": false
    }
   },
   "outputs": [
    {
     "name": "stdout",
     "output_type": "stream",
     "text": [
      "True\n"
     ]
    }
   ],
   "source": [
    "# user_test.py\n",
    "import weaviate\n",
    "from weaviate import Config\n",
    "import weaviate.weaviate_classes as wvc\n",
    "import os\n",
    "\n",
    "client = weaviate.Client(\n",
    "    \"http://localhost:8080\",\n",
    "    additional_config=Config(grpc_port_experimental=50051),\n",
    "    # ⬇️ Optional, if you want to try it with an inference API:\n",
    "    additional_headers={\n",
    "        \"X-OpenAI-Api-Key\": os.environ[\"OPENAI_APIKEY\"],  # Replace with your key\n",
    "    },\n",
    ")\n",
    "\n",
    "print(client.is_ready())"
   ]
  },
  {
   "cell_type": "markdown",
   "metadata": {
    "collapsed": false,
    "jupyter": {
     "outputs_hidden": false
    }
   },
   "source": [
    "Run the below delete any existing classes, or in case you are re-running the same code:"
   ]
  },
  {
   "cell_type": "code",
   "execution_count": 2,
   "metadata": {
    "ExecuteTime": {
     "end_time": "2023-09-15T19:44:44.058539Z",
     "start_time": "2023-09-15T19:44:44.019768Z"
    },
    "collapsed": false,
    "jupyter": {
     "outputs_hidden": false
    }
   },
   "outputs": [],
   "source": [
    "# user_test.py\n",
    "for collection_name in [\"TestArticle\", \"TestAuthor\"]:\n",
    "    client.collection.delete(collection_name)"
   ]
  },
  {
   "cell_type": "markdown",
   "metadata": {
    "collapsed": false,
    "jupyter": {
     "outputs_hidden": false
    }
   },
   "source": [
    "\n",
    "### Collection creation\n",
    "\n",
    "#### Existing API\n",
    "\n",
    "The existing API uses a raw dictionary / JSON object to create classes, like so:\n",
    "\n",
    "```python\n",
    "# Old API example\n",
    "collection_definition = {\n",
    "    \"class\": \"Article\",\n",
    "    \"vectorizer\": \"text2vec-openai\",\n",
    "    \"vectorIndexConfig\": {\n",
    "        \"distance\": \"cosine\"\n",
    "    },\n",
    "    \"moduleConfig\": {\n",
    "        \"generative-openai\": {}\n",
    "    },\n",
    "    \"properties\": [\n",
    "        {\n",
    "            \"name\": \"title\",\n",
    "            \"dataType\": [\"text\"]\n",
    "        },\n",
    "        {\n",
    "            \"name\": \"chunk_no\",\n",
    "            \"dataType\": [\"int\"]\n",
    "        },\n",
    "        {\n",
    "            \"name\": \"url\",\n",
    "            \"dataType\": [\"text\"],\n",
    "            \"tokenization\": \"field\",\n",
    "            \"moduleConfig\": {\n",
    "                \"text2vec-openai\": {\n",
    "                    \"skip\": True\n",
    "                }\n",
    "            }\n",
    "        }\n",
    "    ]\n",
    "}\n",
    "\n",
    "client.schema.create_class(collection_definition)\n",
    "```\n",
    "\n",
    "Now, collection creation looks like this\n",
    "\n",
    "```python\n",
    "# New API example\n",
    "articles = client.collection.create(\n",
    "    name=\"TestArticle\",\n",
    "    properties=[\n",
    "        wvc.Property(\n",
    "            name=\"title\",\n",
    "            data_type=wvc.DataType.TEXT,\n",
    "        ),\n",
    "    ],\n",
    "    vectorizer_config=wvc.VectorizerFactory.text2vec_openai(),\n",
    "    replication_config=wvc.ConfigFactory.replication(factor=1),\n",
    ")\n",
    "```\n",
    "\n",
    "\n",
    "It uses Weaviate-specific classes to define properties (`wvc.Property`), specify vectorizers (`wvc.ConfigFactory`), and complex configuration options (`wvc.ConfigFactory`) and so on.\n",
    "\n",
    "The below is a partially complete collection definition. Please see if you can edit the below based on the comments:"
   ]
  },
  {
   "cell_type": "code",
   "execution_count": 3,
   "metadata": {
    "ExecuteTime": {
     "end_time": "2023-09-15T19:44:44.065279Z",
     "start_time": "2023-09-15T19:44:44.045176Z"
    },
    "collapsed": false,
    "jupyter": {
     "outputs_hidden": false
    }
   },
   "outputs": [],
   "source": [
    "# Edit the following to create collection definitions\n",
    "articles = client.collection.create(\n",
    "    name=\"TestArticle\",\n",
    "    properties=[\n",
    "        wvc.Property(\n",
    "            name=\"title\",\n",
    "            data_type=wvc.DataType.TEXT,\n",
    "        ),\n",
    "        # Try creating a new property 'body', with the text datatype\n",
    "        # Try creating a new property 'url', with the text datatype and field tokenization\n",
    "    ],\n",
    "    vectorizer_config=wvc.VectorizerFactory.text2vec_openai(),\n",
    "    replication_config=wvc.ConfigFactory.replication(factor=1),\n",
    "    # Try adding an inverted index config with property length\n",
    ")\n",
    "\n",
    "authors = client.collection.create(\n",
    "    name=\"TestAuthor\",\n",
    "    properties=[\n",
    "        wvc.Property(\n",
    "            name=\"name\",\n",
    "            data_type=wvc.DataType.TEXT,\n",
    "        ),\n",
    "        # Try creating a new property 'birth_year', with the int datatype\n",
    "        # Try creating a new cross-reference 'wroteArticle', linking to `TestArticle` collection\n",
    "    ],\n",
    "    # Add a Contextionary vectorizer\n",
    ")"
   ]
  },
  {
   "cell_type": "markdown",
   "metadata": {
    "collapsed": false,
    "jupyter": {
     "outputs_hidden": false
    }
   },
   "source": [
    "Here is one that we created as an example. Did you end up with the same?"
   ]
  },
  {
   "cell_type": "code",
   "execution_count": 4,
   "metadata": {
    "ExecuteTime": {
     "end_time": "2023-09-15T19:44:44.090868Z",
     "start_time": "2023-09-15T19:44:44.066435Z"
    },
    "collapsed": false,
    "jupyter": {
     "outputs_hidden": false
    }
   },
   "outputs": [
    {
     "name": "stdout",
     "output_type": "stream",
     "text": [
      "True\n",
      "True\n"
     ]
    }
   ],
   "source": [
    "# user_test.py\n",
    "for collection_name in [\"TestArticle\", \"TestAuthor\"]:\n",
    "    client.collection.delete(collection_name)\n",
    "\n",
    "articles = client.collection.create(\n",
    "    name=\"TestArticle\",\n",
    "    properties=[\n",
    "        wvc.Property(\n",
    "            name=\"title\",\n",
    "            data_type=wvc.DataType.TEXT,\n",
    "        ),\n",
    "        wvc.Property(\n",
    "            name=\"body\",\n",
    "            data_type=wvc.DataType.TEXT,\n",
    "        ),\n",
    "        wvc.Property(\n",
    "            name=\"url\",\n",
    "            data_type=wvc.DataType.TEXT,\n",
    "            tokenization=wvc.Tokenization.FIELD,\n",
    "            vectorizer_config=wvc.PropertyVectorizerConfig()\n",
    "        ),\n",
    "    ],\n",
    "    vectorizer_config=wvc.VectorizerFactory.text2vec_openai(),\n",
    "    replication_config=wvc.ConfigFactory.replication(factor=1),\n",
    "    inverted_index_config=wvc.ConfigFactory.inverted_index(\n",
    "        index_property_length=True\n",
    "    )\n",
    ")\n",
    "\n",
    "authors = client.collection.create(\n",
    "    name=\"TestAuthor\",\n",
    "    properties=[\n",
    "        wvc.Property(\n",
    "            name=\"name\",\n",
    "            data_type=wvc.DataType.TEXT,\n",
    "        ),\n",
    "        wvc.Property(\n",
    "            name=\"birth_year\",\n",
    "            data_type=wvc.DataType.INT,\n",
    "        ),\n",
    "        wvc.ReferenceProperty(name=\"wroteArticle\", target_collection=\"TestArticle\")\n",
    "    ],\n",
    "    vectorizer_config=wvc.VectorizerFactory.text2vec_openai(),\n",
    ")\n",
    "\n",
    "print(client.collection.exists(\"TestAuthor\"))\n",
    "print(client.collection.exists(\"TestArticle\"))"
   ]
  },
  {
   "cell_type": "markdown",
   "metadata": {
    "collapsed": false,
    "jupyter": {
     "outputs_hidden": false
    }
   },
   "source": [
    "You can also create an object from existing collections in Weaviate like this:"
   ]
  },
  {
   "cell_type": "code",
   "execution_count": 5,
   "metadata": {
    "ExecuteTime": {
     "end_time": "2023-09-15T19:44:44.092970Z",
     "start_time": "2023-09-15T19:44:44.091144Z"
    },
    "collapsed": false,
    "jupyter": {
     "outputs_hidden": false
    }
   },
   "outputs": [],
   "source": [
    "# user_test.py\n",
    "articles = client.collection.get(\"TestArticle\")\n",
    "authors = client.collection.get(\"TestAuthor\")"
   ]
  },
  {
   "cell_type": "markdown",
   "metadata": {
    "collapsed": false,
    "jupyter": {
     "outputs_hidden": false
    }
   },
   "source": [
    "#### Collection creation feedback\n",
    "\n",
    "Please score this on a scale of 1-5, where 1 is bad, 5 is good.\n",
    "\n",
    "- Was it an improvement (5), similar (3), or worse (1) than the existing API?\n",
    "    - Score?\n",
    "    - Any reasons?\n",
    "- How intuitive was the syntax to use? (Very intuitive: 5, unintuitive: 1)\n",
    "    - Score?\n",
    "    - Any reasons?\n",
    "- Are you happpy with this section in general? (Very happy: 5, not happy: 1)\n",
    "    - Score?\n",
    "    - Any reasons?\n",
    "- Any other notes?"
   ]
  },
  {
   "cell_type": "markdown",
   "metadata": {
    "collapsed": false,
    "jupyter": {
     "outputs_hidden": false
    }
   },
   "source": [
    "\n",
    "### Collection methods\n",
    "\n",
    "You should now see code autocomplete suggestions for the `articles` / `authors` objects. Two key submodules are:\n",
    "\n",
    "-  `data`: CRUD operations\n",
    "-  `query`: Search operations (old GraphQL, now gRPC)\n",
    "\n",
    "### CRUD operations\n",
    "\n",
    "You can add objects with the `insert` method.\n",
    "\n",
    "Run this to add an object to the `articles` collection:"
   ]
  },
  {
   "cell_type": "code",
   "execution_count": 6,
   "metadata": {
    "ExecuteTime": {
     "end_time": "2023-09-15T19:44:45.198108Z",
     "start_time": "2023-09-15T19:44:44.093598Z"
    },
    "collapsed": false,
    "jupyter": {
     "outputs_hidden": false
    }
   },
   "outputs": [
    {
     "name": "stdout",
     "output_type": "stream",
     "text": [
      "3434c361-bcaf-4e20-abde-ef99682b7794\n"
     ]
    }
   ],
   "source": [
    "# user_test.py\n",
    "my_first_obj = {\n",
    "    \"title\": \"Something something dark side\",\n",
    "    \"body\": \"A long long time ago, in a galaxy far, far away...\",\n",
    "    \"url\": \"http://www.starwars.com\"\n",
    "}\n",
    "\n",
    "article_uuid = articles.data.insert(my_first_obj)\n",
    "print(article_uuid)"
   ]
  },
  {
   "cell_type": "markdown",
   "metadata": {
    "collapsed": false,
    "jupyter": {
     "outputs_hidden": false
    }
   },
   "source": [
    "And run this to add an object to the `authors` collection:"
   ]
  },
  {
   "cell_type": "code",
   "execution_count": 7,
   "metadata": {
    "ExecuteTime": {
     "end_time": "2023-09-15T19:44:45.579312Z",
     "start_time": "2023-09-15T19:44:45.199352Z"
    },
    "collapsed": false,
    "jupyter": {
     "outputs_hidden": false
    }
   },
   "outputs": [
    {
     "name": "stdout",
     "output_type": "stream",
     "text": [
      "f3645284-c647-4549-a11d-5ac148c215c3\n"
     ]
    }
   ],
   "source": [
    "# user_test.py\n",
    "author_uuid = authors.data.insert(\n",
    "    {\n",
    "        \"name\": \"G Lucas\",\n",
    "        \"birth_year\": 1944,\n",
    "        \"wroteArticle\": wvc.ReferenceFactory.to(uuids=[article_uuid])\n",
    "    }\n",
    ")\n",
    "\n",
    "print(author_uuid)"
   ]
  },
  {
   "cell_type": "markdown",
   "metadata": {
    "collapsed": false,
    "jupyter": {
     "outputs_hidden": false
    }
   },
   "source": [
    "\n",
    "#### Add objects (batch)\n",
    "\n",
    "You can also add multiple objects at once. The new syntax allows you to pass a list of (wvc.DataObject) objects."
   ]
  },
  {
   "cell_type": "code",
   "execution_count": 8,
   "metadata": {
    "ExecuteTime": {
     "end_time": "2023-09-15T19:44:46.043958Z",
     "start_time": "2023-09-15T19:44:45.576797Z"
    },
    "collapsed": false,
    "jupyter": {
     "outputs_hidden": false
    }
   },
   "outputs": [],
   "source": [
    "# user_test.py\n",
    "articles_to_add = [\n",
    "    wvc.DataObject(\n",
    "        properties={\n",
    "            \"title\": f\"The best restaurants of {1980+i}:\",\n",
    "            \"body\": \"1. McDonald's, 2. ...\",\n",
    "            \"url\": \"ss\"\n",
    "        },\n",
    "    )\n",
    "    for i in range(5)\n",
    "]\n",
    "\n",
    "response = articles.data.insert_many(articles_to_add)"
   ]
  },
  {
   "cell_type": "markdown",
   "metadata": {
    "collapsed": false,
    "jupyter": {
     "outputs_hidden": false
    }
   },
   "source": [
    "The `response` object contains the UUIDs of the created objects, and more."
   ]
  },
  {
   "cell_type": "code",
   "execution_count": 9,
   "metadata": {
    "ExecuteTime": {
     "end_time": "2023-09-15T19:44:46.049610Z",
     "start_time": "2023-09-15T19:44:46.044833Z"
    },
    "collapsed": false,
    "jupyter": {
     "outputs_hidden": false
    }
   },
   "outputs": [
    {
     "name": "stdout",
     "output_type": "stream",
     "text": [
      "_BatchReturn(all_responses=[UUID('5d668e0d-cf22-4606-94d6-2a06d0a585d7'), UUID('32a096f3-c0d9-40e5-a9b8-1a35ebbae9dd'), UUID('27b6a284-1042-40a6-ac67-63fd42d86dcb'), UUID('f13ee5bb-2a59-499f-846c-f0bd7d6019a1'), UUID('c3442b58-5ab9-4c5d-925a-c472e631741a')], uuids={0: UUID('5d668e0d-cf22-4606-94d6-2a06d0a585d7'), 1: UUID('32a096f3-c0d9-40e5-a9b8-1a35ebbae9dd'), 2: UUID('27b6a284-1042-40a6-ac67-63fd42d86dcb'), 3: UUID('f13ee5bb-2a59-499f-846c-f0bd7d6019a1'), 4: UUID('c3442b58-5ab9-4c5d-925a-c472e631741a')}, errors={}, has_errors=False)\n"
     ]
    }
   ],
   "source": [
    "print(response)"
   ]
  },
  {
   "cell_type": "markdown",
   "metadata": {
    "collapsed": false,
    "jupyter": {
     "outputs_hidden": false
    }
   },
   "source": [
    "This is how we add some articles to 'authors', with a cross-reference to `articles`:"
   ]
  },
  {
   "cell_type": "code",
   "execution_count": 10,
   "metadata": {
    "ExecuteTime": {
     "end_time": "2023-09-15T19:44:46.490450Z",
     "start_time": "2023-09-15T19:44:46.050935Z"
    },
    "collapsed": false,
    "jupyter": {
     "outputs_hidden": false
    }
   },
   "outputs": [
    {
     "name": "stdout",
     "output_type": "stream",
     "text": [
      "_BatchReturn(all_responses=[UUID('7e4a2713-cd7c-4e36-b696-216e791163d2'), UUID('8e8c21c3-523c-4aae-bca0-00f28736b71f'), UUID('a1c0c5ac-452b-4bba-a10c-64c66d9fafbc'), UUID('29874f36-85ba-42d7-809d-16da05e6eade'), UUID('c4d45299-c8b2-4e33-9f32-23e55c060ab0')], uuids={0: UUID('7e4a2713-cd7c-4e36-b696-216e791163d2'), 1: UUID('8e8c21c3-523c-4aae-bca0-00f28736b71f'), 2: UUID('a1c0c5ac-452b-4bba-a10c-64c66d9fafbc'), 3: UUID('29874f36-85ba-42d7-809d-16da05e6eade'), 4: UUID('c4d45299-c8b2-4e33-9f32-23e55c060ab0')}, errors={}, has_errors=False)\n"
     ]
    }
   ],
   "source": [
    "# user_test.py\n",
    "authors_to_add = [\n",
    "    wvc.DataObject(\n",
    "        properties={\n",
    "            \"name\": f\"Jim {i+1}\",\n",
    "            \"birth_year\": 1970 + i,\n",
    "            \"wroteArticle\": wvc.ReferenceFactory.to(uuids=[article_uuid])\n",
    "        },\n",
    "        # vector=CUSTOM_VECTOR_HERE,  # To add custom vectors\n",
    "        # uuid=CUSTOM_UUID_HERE  # To specify custom UUIDs\n",
    "    )\n",
    "    for i in range(5)\n",
    "]\n",
    "\n",
    "response = authors.data.insert_many(authors_to_add)\n",
    "print(response)"
   ]
  },
  {
   "cell_type": "markdown",
   "metadata": {
    "collapsed": false,
    "jupyter": {
     "outputs_hidden": false
    }
   },
   "source": [
    "#### Errors\n",
    "\n",
    "The client will now automatically capture errors. Try this example, where the `url` property is erroneously provided a numerical value for one of the inputs:"
   ]
  },
  {
   "cell_type": "code",
   "execution_count": 11,
   "metadata": {
    "ExecuteTime": {
     "end_time": "2023-09-15T19:44:46.921576Z",
     "start_time": "2023-09-15T19:44:46.490860Z"
    },
    "collapsed": false,
    "jupyter": {
     "outputs_hidden": false
    }
   },
   "outputs": [],
   "source": [
    "articles_to_add = [\n",
    "    wvc.DataObject(\n",
    "        properties={\n",
    "            \"title\": f\"The best restaurants of {1980+i}:\",\n",
    "            \"body\": \"1. McDonald's, 2. ...\",\n",
    "            \"url\": str(i) if i != 2 else i\n",
    "        },\n",
    "    )\n",
    "    for i in range(5)\n",
    "]\n",
    "\n",
    "response = articles.data.insert_many(articles_to_add)"
   ]
  },
  {
   "cell_type": "markdown",
   "metadata": {
    "collapsed": false,
    "jupyter": {
     "outputs_hidden": false
    }
   },
   "source": [
    "Inspecting the `errors` attribute allows you to see the index of the object, and the error message!"
   ]
  },
  {
   "cell_type": "code",
   "execution_count": 12,
   "metadata": {
    "ExecuteTime": {
     "end_time": "2023-09-15T19:44:46.925651Z",
     "start_time": "2023-09-15T19:44:46.922579Z"
    },
    "collapsed": false,
    "jupyter": {
     "outputs_hidden": false
    }
   },
   "outputs": [
    {
     "name": "stdout",
     "output_type": "stream",
     "text": [
      "{2: Error(message=\"invalid text property 'url' on class 'TestArticle': not a string, but float64\", code=None, original_uuid=None)}\n"
     ]
    }
   ],
   "source": [
    "print(response.errors)"
   ]
  },
  {
   "cell_type": "markdown",
   "metadata": {
    "collapsed": false,
    "jupyter": {
     "outputs_hidden": false
    }
   },
   "source": [
    "#### CRUD operations feedback\n",
    "\n",
    "Please score this on a scale of 1-5, where 1 is bad, 5 is good.\n",
    "\n",
    "- Was it an improvement (5), similar (3), or worse (1) than the existing API?\n",
    "    - Score?\n",
    "    - Any reasons?\n",
    "- How intuitive was the syntax to use? (Very intuitive: 5, unintuitive: 1)\n",
    "    - Score?\n",
    "    - Any reasons?\n",
    "- Are you happpy with this section in general? (Very happy: 5, not happy: 1)\n",
    "    - Score?\n",
    "    - Any reasons?\n",
    "- Any other notes?"
   ]
  },
  {
   "cell_type": "markdown",
   "metadata": {
    "collapsed": false,
    "jupyter": {
     "outputs_hidden": false
    }
   },
   "source": [
    "### Queries\n",
    "\n",
    "Now you have data on which you can try out queries!\n",
    "\n",
    "You can now get objects like this:"
   ]
  },
  {
   "cell_type": "code",
   "execution_count": 13,
   "metadata": {
    "ExecuteTime": {
     "end_time": "2023-09-15T19:44:46.932954Z",
     "start_time": "2023-09-15T19:44:46.926995Z"
    },
    "collapsed": false,
    "jupyter": {
     "outputs_hidden": false
    }
   },
   "outputs": [
    {
     "name": "stdout",
     "output_type": "stream",
     "text": [
      "_QueryReturn(objects=[_Object(properties={'title': 'The best restaurants of 1982:', 'body': \"1. McDonald's, 2. ...\", 'url': 'ss'}, metadata=_MetadataReturn(uuid=UUID('27b6a284-1042-40a6-ac67-63fd42d86dcb'), vector=None, creation_time_unix=1694807802129, last_update_time_unix=1694807802129, distance=None, certainty=None, score=0.0, explain_score='', is_consistent=False, generative=None)), _Object(properties={'title': 'The best restaurants of 1981:', 'body': \"1. McDonald's, 2. ...\", 'url': 'ss'}, metadata=_MetadataReturn(uuid=UUID('32a096f3-c0d9-40e5-a9b8-1a35ebbae9dd'), vector=None, creation_time_unix=1694807802128, last_update_time_unix=1694807802128, distance=None, certainty=None, score=0.0, explain_score='', is_consistent=False, generative=None))])\n"
     ]
    }
   ],
   "source": [
    "response = articles.query.get(limit=2)\n",
    "\n",
    "print(response)"
   ]
  },
  {
   "cell_type": "markdown",
   "metadata": {
    "collapsed": false,
    "jupyter": {
     "outputs_hidden": false
    }
   },
   "source": [
    "Notice how you don't have to specify the collection name (provided in the object), and properties to retrieve.\n",
    "\n",
    "You can also specify these if you wish."
   ]
  },
  {
   "cell_type": "code",
   "execution_count": 14,
   "metadata": {
    "ExecuteTime": {
     "end_time": "2023-09-15T19:44:46.941219Z",
     "start_time": "2023-09-15T19:44:46.937072Z"
    },
    "collapsed": false,
    "jupyter": {
     "outputs_hidden": false
    }
   },
   "outputs": [
    {
     "name": "stdout",
     "output_type": "stream",
     "text": [
      "_QueryReturn(objects=[_Object(properties={'title': 'The best restaurants of 1982:'}, metadata=_MetadataReturn(uuid=UUID('27b6a284-1042-40a6-ac67-63fd42d86dcb'), vector=None, creation_time_unix=None, last_update_time_unix=None, distance=None, certainty=None, score=None, explain_score=None, is_consistent=False, generative=None)), _Object(properties={'title': 'The best restaurants of 1981:'}, metadata=_MetadataReturn(uuid=UUID('32a096f3-c0d9-40e5-a9b8-1a35ebbae9dd'), vector=None, creation_time_unix=None, last_update_time_unix=None, distance=None, certainty=None, score=None, explain_score=None, is_consistent=False, generative=None))])\n"
     ]
    }
   ],
   "source": [
    "response = articles.query.get(\n",
    "    limit=2,\n",
    "    return_properties=[\"title\"],\n",
    "    return_metadata=wvc.MetadataQuery(uuid=True)  # MetaDataQuery object is used to specify the metadata to be returned\n",
    ")\n",
    "\n",
    "print(response)"
   ]
  },
  {
   "cell_type": "markdown",
   "metadata": {
    "collapsed": false,
    "jupyter": {
     "outputs_hidden": false
    }
   },
   "source": [
    "#### Filters\n",
    "\n",
    "You can add filters like so, with a `Filter` object:"
   ]
  },
  {
   "cell_type": "code",
   "execution_count": 15,
   "metadata": {
    "ExecuteTime": {
     "end_time": "2023-09-15T19:44:46.983422Z",
     "start_time": "2023-09-15T19:44:46.942335Z"
    },
    "collapsed": false,
    "jupyter": {
     "outputs_hidden": false
    }
   },
   "outputs": [
    {
     "name": "stdout",
     "output_type": "stream",
     "text": [
      "1974.0\n",
      "1971.0\n",
      "1972.0\n",
      "1973.0\n"
     ]
    }
   ],
   "source": [
    "response = authors.query.get(\n",
    "  filters=wvc.Filter(path=[\"birth_year\"]).greater_than_equal(1971)    # Filter object is used to specify the filter\n",
    ")\n",
    "\n",
    "for o in response.objects:\n",
    "    print(o.properties[\"birth_year\"])"
   ]
  },
  {
   "cell_type": "markdown",
   "metadata": {},
   "source": [
    "**Suggestion**: Try constructing different filters!"
   ]
  },
  {
   "cell_type": "markdown",
   "metadata": {
    "collapsed": false,
    "jupyter": {
     "outputs_hidden": false
    }
   },
   "source": [
    "#### Near text search"
   ]
  },
  {
   "cell_type": "code",
   "execution_count": 16,
   "metadata": {
    "ExecuteTime": {
     "end_time": "2023-09-15T19:48:08.797634Z",
     "start_time": "2023-09-15T19:48:08.393818Z"
    },
    "collapsed": false,
    "jupyter": {
     "outputs_hidden": false
    },
    "scrolled": true
   },
   "outputs": [
    {
     "name": "stdout",
     "output_type": "stream",
     "text": [
      "_QueryReturn(objects=[_Object(properties={'title': 'Something something dark side', 'body': 'A long long time ago, in a galaxy far, far away...', 'url': 'http://www.starwars.com'}, metadata=_MetadataReturn(uuid=UUID('3434c361-bcaf-4e20-abde-ef99682b7794'), vector=None, creation_time_unix=1694807800262, last_update_time_unix=1694807800262, distance=0.17336618900299072, certainty=0.9133169054985046, score=0.0, explain_score='', is_consistent=False, generative=None)), _Object(properties={'title': 'The best restaurants of 1980:', 'body': \"1. McDonald's, 2. ...\", 'url': '0'}, metadata=_MetadataReturn(uuid=UUID('757fe958-11a7-4dfd-b742-b9893eb71f1b'), vector=None, creation_time_unix=1694807803529, last_update_time_unix=1694807803529, distance=0.2807278037071228, certainty=0.8596360683441162, score=0.0, explain_score='', is_consistent=False, generative=None)), _Object(properties={'title': 'The best restaurants of 1984:', 'body': \"1. McDonald's, 2. ...\", 'url': 'ss'}, metadata=_MetadataReturn(uuid=UUID('c3442b58-5ab9-4c5d-925a-c472e631741a'), vector=None, creation_time_unix=1694807802128, last_update_time_unix=1694807802128, distance=0.28196239471435547, certainty=0.8590188026428223, score=0.0, explain_score='', is_consistent=False, generative=None)), _Object(properties={'title': 'The best restaurants of 1984:', 'body': \"1. McDonald's, 2. ...\", 'url': '4'}, metadata=_MetadataReturn(uuid=UUID('aaca8bb4-2fc2-4469-9594-5f3912739701'), vector=None, creation_time_unix=1694807803528, last_update_time_unix=1694807803528, distance=0.28233039379119873, certainty=0.8588348031044006, score=0.0, explain_score='', is_consistent=False, generative=None)), _Object(properties={'title': 'The best restaurants of 1981:', 'body': \"1. McDonald's, 2. ...\", 'url': '1'}, metadata=_MetadataReturn(uuid=UUID('e6bf80fa-1ae4-435a-a150-ee76f04b29bd'), vector=None, creation_time_unix=1694807803529, last_update_time_unix=1694807803529, distance=0.28464192152023315, certainty=0.857679009437561, score=0.0, explain_score='', is_consistent=False, generative=None)), _Object(properties={'title': 'The best restaurants of 1982:', 'body': \"1. McDonald's, 2. ...\", 'url': 'ss'}, metadata=_MetadataReturn(uuid=UUID('27b6a284-1042-40a6-ac67-63fd42d86dcb'), vector=None, creation_time_unix=1694807802129, last_update_time_unix=1694807802129, distance=0.28512680530548096, certainty=0.8574365973472595, score=0.0, explain_score='', is_consistent=False, generative=None)), _Object(properties={'title': 'The best restaurants of 1981:', 'body': \"1. McDonald's, 2. ...\", 'url': 'ss'}, metadata=_MetadataReturn(uuid=UUID('32a096f3-c0d9-40e5-a9b8-1a35ebbae9dd'), vector=None, creation_time_unix=1694807802128, last_update_time_unix=1694807802128, distance=0.28548455238342285, certainty=0.8572577238082886, score=0.0, explain_score='', is_consistent=False, generative=None)), _Object(properties={'title': 'The best restaurants of 1980:', 'body': \"1. McDonald's, 2. ...\", 'url': 'ss'}, metadata=_MetadataReturn(uuid=UUID('5d668e0d-cf22-4606-94d6-2a06d0a585d7'), vector=None, creation_time_unix=1694807802129, last_update_time_unix=1694807802129, distance=0.2856038808822632, certainty=0.8571980595588684, score=0.0, explain_score='', is_consistent=False, generative=None)), _Object(properties={'title': 'The best restaurants of 1983:', 'body': \"1. McDonald's, 2. ...\", 'url': 'ss'}, metadata=_MetadataReturn(uuid=UUID('f13ee5bb-2a59-499f-846c-f0bd7d6019a1'), vector=None, creation_time_unix=1694807802129, last_update_time_unix=1694807802129, distance=0.2864052653312683, certainty=0.8567973375320435, score=0.0, explain_score='', is_consistent=False, generative=None)), _Object(properties={'title': 'The best restaurants of 1983:', 'body': \"1. McDonald's, 2. ...\", 'url': '3'}, metadata=_MetadataReturn(uuid=UUID('7ae9642a-4270-4ec9-9223-9e101f32fd87'), vector=None, creation_time_unix=1694807803529, last_update_time_unix=1694807803529, distance=0.2873896360397339, certainty=0.8563051819801331, score=0.0, explain_score='', is_consistent=False, generative=None))])\n"
     ]
    }
   ],
   "source": [
    "response = articles.query.near_text(\n",
    "    query=\"The dark side\",\n",
    "    distance=0.2,\n",
    ")\n",
    "\n",
    "print(response)"
   ]
  },
  {
   "cell_type": "code",
   "execution_count": 17,
   "metadata": {
    "ExecuteTime": {
     "end_time": "2023-09-15T19:48:09.421637Z",
     "start_time": "2023-09-15T19:48:09.419400Z"
    },
    "collapsed": false,
    "jupyter": {
     "outputs_hidden": false
    }
   },
   "outputs": [
    {
     "name": "stdout",
     "output_type": "stream",
     "text": [
      "0.17336618900299072\n",
      "0.2807278037071228\n",
      "0.28196239471435547\n",
      "0.28233039379119873\n",
      "0.28464192152023315\n",
      "0.28512680530548096\n",
      "0.28548455238342285\n",
      "0.2856038808822632\n",
      "0.2864052653312683\n",
      "0.2873896360397339\n"
     ]
    }
   ],
   "source": [
    "for r in response.objects:\n",
    "    print(r.metadata.distance)"
   ]
  },
  {
   "cell_type": "markdown",
   "metadata": {},
   "source": [
    "**Suggestion**: Try different queries, like bm25 or hybrid."
   ]
  },
  {
   "cell_type": "markdown",
   "metadata": {
    "collapsed": false,
    "jp-MarkdownHeadingCollapsed": true,
    "jupyter": {
     "outputs_hidden": false
    }
   },
   "source": [
    "#### Queries feedback\n",
    "\n",
    "Please score this on a scale of 1-5, where 1 is bad, 5 is good.\n",
    "\n",
    "- Was it an improvement (5), similar (3), or worse (1) than the existing API?\n",
    "    - Score?\n",
    "    - Any reasons?\n",
    "- How intuitive was the syntax to use? (Very intuitive: 5, unintuitive: 1)\n",
    "    - Score?\n",
    "    - Any reasons?\n",
    "- Are you happpy with this section in general? (Very happy: 5, not happy: 1)\n",
    "    - Score?\n",
    "    - Any reasons?\n",
    "- Any other notes?"
   ]
  },
  {
   "cell_type": "markdown",
   "metadata": {},
   "source": [
    "### Retrieval augmented generation (RAG)"
   ]
  },
  {
   "cell_type": "markdown",
   "metadata": {},
   "source": [
    "To be confirmed"
   ]
  },
  {
   "cell_type": "markdown",
   "metadata": {
    "collapsed": false,
    "jupyter": {
     "outputs_hidden": false
    }
   },
   "source": [
    "#### RAG feedback\n",
    "\n",
    "Please score this on a scale of 1-5, where 1 is bad, 5 is good.\n",
    "\n",
    "- Was it an improvement (5), similar (3), or worse (1) than the existing API?\n",
    "    - Score?\n",
    "    - Any reasons?\n",
    "- How intuitive was the syntax to use? (Very intuitive: 5, unintuitive: 1)\n",
    "    - Score?\n",
    "    - Any reasons?\n",
    "- Are you happpy with this section in general? (Very happy: 5, not happy: 1)\n",
    "    - Score?\n",
    "    - Any reasons?\n",
    "- Any other notes?"
   ]
  },
  {
   "cell_type": "code",
   "execution_count": null,
   "metadata": {},
   "outputs": [],
   "source": []
  }
 ],
 "metadata": {
  "kernelspec": {
   "display_name": "Python 3 (ipykernel)",
   "language": "python",
   "name": "python3"
  },
  "language_info": {
   "codemirror_mode": {
    "name": "ipython",
    "version": 3
   },
   "file_extension": ".py",
   "mimetype": "text/x-python",
   "name": "python",
   "nbconvert_exporter": "python",
   "pygments_lexer": "ipython3",
   "version": "3.10.12"
  }
 },
 "nbformat": 4,
 "nbformat_minor": 4
}
