{
 "cells": [
  {
   "cell_type": "code",
   "execution_count": 1,
   "metadata": {
    "ExecuteTime": {
     "end_time": "2023-09-13T11:34:34.518663Z",
     "start_time": "2023-09-13T11:34:34.208211Z"
    }
   },
   "outputs": [],
   "source": [
    "from weaviate import Config\n",
    "import weaviate\n",
    "import os\n",
    "\n",
    "client = weaviate.Client(\n",
    "    \"http://localhost:8080\",\n",
    "    additional_config=Config(grpc_port_experimental=50051),\n",
    "    additional_headers={\n",
    "        \"X-OpenAI-Api-Key\": os.environ[\"OPENAI_APIKEY\"],\n",
    "        \"X-Cohere-Api-Key\": os.environ[\"COHERE_APIKEY\"],\n",
    "    },\n",
    ")"
   ]
  },
  {
   "cell_type": "code",
   "execution_count": 2,
   "metadata": {
    "ExecuteTime": {
     "end_time": "2023-09-13T11:34:35.048598Z",
     "start_time": "2023-09-13T11:34:35.036037Z"
    }
   },
   "outputs": [
    {
     "data": {
      "text/plain": "True"
     },
     "execution_count": 2,
     "metadata": {},
     "output_type": "execute_result"
    }
   ],
   "source": [
    "client.is_ready()"
   ]
  },
  {
   "cell_type": "code",
   "execution_count": 3,
   "metadata": {
    "ExecuteTime": {
     "end_time": "2023-09-13T11:34:36.551381Z",
     "start_time": "2023-09-13T11:34:36.448129Z"
    }
   },
   "outputs": [],
   "source": [
    "client.schema.delete_all()"
   ]
  },
  {
   "cell_type": "code",
   "execution_count": 4,
   "metadata": {
    "ExecuteTime": {
     "end_time": "2023-09-13T11:34:42.333016Z",
     "start_time": "2023-09-13T11:34:38.300190Z"
    }
   },
   "outputs": [
    {
     "name": "stderr",
     "output_type": "stream",
     "text": [
      "/Users/jphwang/code/sandpit/try_new_wv_api_202306/.venv/lib/python3.10/site-packages/weaviate/warnings.py:131: DeprecationWarning: Dep006: You are using the `client.batch()` method, which will be removed in the next major release.\n",
      "            Please instead use the `client.batch.configure()` method to configure your batch and `client.batch` to enter the context manager.\n",
      "            See https://weaviate.io/developers/weaviate/client-libraries/python for details.\n",
      "  warnings.warn(\n",
      "1000it [00:03, 319.76it/s]\n"
     ]
    },
    {
     "data": {
      "text/plain": "True"
     },
     "execution_count": 4,
     "metadata": {},
     "output_type": "execute_result"
    }
   ],
   "source": [
    "import weaviate_datasets as wd\n",
    "\n",
    "dataset = wd.JeopardyQuestions1k()\n",
    "dataset.set_vectorizer(\"text2vec-contextionary\", module_config={})\n",
    "dataset.upload_dataset(client, batch_size=300)"
   ]
  },
  {
   "cell_type": "code",
   "execution_count": 5,
   "outputs": [
    {
     "name": "stderr",
     "output_type": "stream",
     "text": [
      "2023-09-13 12:34:44,273 - WARNING - Data parsing error on row 0\n",
      "Exception ignored in: <generator object JeopardyQuestions1k._class_pair_dataloader at 0x1062105f0>\n",
      "Traceback (most recent call last):\n",
      "  File \"/var/folders/hw/hsnpzf0926n_30_bkr09mb200000gn/T/ipykernel_50380/107741468.py\", line 13, in <module>\n",
      "RuntimeError: generator ignored GeneratorExit\n",
      "/var/folders/hw/hsnpzf0926n_30_bkr09mb200000gn/T/ipykernel_50380/107741468.py:13: ResourceWarning: unclosed file <_io.TextIOWrapper name='/Users/jphwang/code/sandpit/try_new_wv_api_202306/.venv/lib/python3.10/site-packages/weaviate_datasets/data/jeopardy_10k.json' mode='r' encoding='UTF-8'>\n",
      "  dataset.get_sample()\n",
      "ResourceWarning: Enable tracemalloc to get the object allocation traceback\n"
     ]
    },
    {
     "data": {
      "text/plain": "{'JeopardyCategory': {'title': 'WORD ORIGINS'},\n 'JeopardyQuestion': {'question': 'This French word originally meant \"a place where one docks\" a boat, not a car',\n  'answer': 'garage',\n  'points': 800,\n  'round': 'Double Jeopardy!',\n  'air_date': '2002-11-19T00:00:00+00:00'}}"
     },
     "execution_count": 5,
     "metadata": {},
     "output_type": "execute_result"
    }
   ],
   "source": [
    "import weaviate\n",
    "from weaviate.config import Config\n",
    "import weaviate_datasets\n",
    "\n",
    "\n",
    "client = weaviate.Client(\n",
    "        \"http://localhost:8080\", additional_config=Config(grpc_port_experimental=50051)\n",
    "    )\n",
    "\n",
    "client.schema.delete_all()\n",
    "dataset = weaviate_datasets.JeopardyQuestions10k()\n",
    "dataset.set_vectorizer(\"text2vec-contextionary\", {})\n",
    "dataset.get_sample()"
   ],
   "metadata": {
    "collapsed": false,
    "ExecuteTime": {
     "end_time": "2023-09-13T11:34:44.292489Z",
     "start_time": "2023-09-13T11:34:43.967080Z"
    }
   }
  },
  {
   "cell_type": "code",
   "execution_count": 6,
   "outputs": [
    {
     "name": "stderr",
     "output_type": "stream",
     "text": [
      "/Users/jphwang/code/sandpit/try_new_wv_api_202306/.venv/lib/python3.10/site-packages/weaviate/warnings.py:131: DeprecationWarning: Dep006: You are using the `client.batch()` method, which will be removed in the next major release.\n",
      "            Please instead use the `client.batch.configure()` method to configure your batch and `client.batch` to enter the context manager.\n",
      "            See https://weaviate.io/developers/weaviate/client-libraries/python for details.\n",
      "  warnings.warn(\n",
      "1349it [00:03, 368.99it/s]\n",
      "2023-09-13 09:20:51,940 - WARNING - Data parsing error on row 1349\n",
      "Exception ignored in: <generator object JeopardyQuestions1k._class_pair_dataloader at 0x118165770>\n",
      "Traceback (most recent call last):\n",
      "  File \"/Users/jphwang/code/sandpit/try_new_wv_api_202306/.venv/lib/python3.10/site-packages/weaviate_datasets/datasets.py\", line 158, in _class_pair_uploader\n",
      "    batch.add_data_object(\n",
      "RuntimeError: generator ignored GeneratorExit\n",
      "/Users/jphwang/code/sandpit/try_new_wv_api_202306/.venv/lib/python3.10/site-packages/weaviate_datasets/datasets.py:158: ResourceWarning: unclosed file <_io.TextIOWrapper name='/Users/jphwang/code/sandpit/try_new_wv_api_202306/.venv/lib/python3.10/site-packages/weaviate_datasets/data/jeopardy_10k.json' mode='r' encoding='UTF-8'>\n",
      "  batch.add_data_object(\n",
      "ResourceWarning: Enable tracemalloc to get the object allocation traceback\n"
     ]
    },
    {
     "ename": "KeyboardInterrupt",
     "evalue": "",
     "output_type": "error",
     "traceback": [
      "\u001B[0;31m---------------------------------------------------------------------------\u001B[0m",
      "\u001B[0;31mKeyboardInterrupt\u001B[0m                         Traceback (most recent call last)",
      "Cell \u001B[0;32mIn[6], line 1\u001B[0m\n\u001B[0;32m----> 1\u001B[0m \u001B[43mdataset\u001B[49m\u001B[38;5;241;43m.\u001B[39;49m\u001B[43mupload_dataset\u001B[49m\u001B[43m(\u001B[49m\u001B[43mclient\u001B[49m\u001B[43m)\u001B[49m\n",
      "File \u001B[0;32m~/code/sandpit/try_new_wv_api_202306/.venv/lib/python3.10/site-packages/weaviate_datasets/datasets.py:190\u001B[0m, in \u001B[0;36mDataset.upload_dataset\u001B[0;34m(self, client, batch_size)\u001B[0m\n\u001B[1;32m    185\u001B[0m \u001B[38;5;250m\u001B[39m\u001B[38;5;124;03m\"\"\"\u001B[39;00m\n\u001B[1;32m    186\u001B[0m \u001B[38;5;124;03mAdds the class to the schema,\u001B[39;00m\n\u001B[1;32m    187\u001B[0m \u001B[38;5;124;03mthen calls `upload_objects` to upload the objects.\u001B[39;00m\n\u001B[1;32m    188\u001B[0m \u001B[38;5;124;03m\"\"\"\u001B[39;00m\n\u001B[1;32m    189\u001B[0m schema_add_results \u001B[38;5;241m=\u001B[39m \u001B[38;5;28mself\u001B[39m\u001B[38;5;241m.\u001B[39madd_to_schema(client)\n\u001B[0;32m--> 190\u001B[0m \u001B[38;5;28;43mself\u001B[39;49m\u001B[38;5;241;43m.\u001B[39;49m\u001B[43mupload_objects\u001B[49m\u001B[43m(\u001B[49m\u001B[43mclient\u001B[49m\u001B[43m,\u001B[49m\u001B[43m \u001B[49m\u001B[43mbatch_size\u001B[49m\u001B[38;5;241;43m=\u001B[39;49m\u001B[43mbatch_size\u001B[49m\u001B[43m)\u001B[49m\n\u001B[1;32m    191\u001B[0m \u001B[38;5;28;01mreturn\u001B[39;00m \u001B[38;5;28;01mTrue\u001B[39;00m\n",
      "File \u001B[0;32m~/code/sandpit/try_new_wv_api_202306/.venv/lib/python3.10/site-packages/weaviate_datasets/datasets.py:514\u001B[0m, in \u001B[0;36mJeopardyQuestions1k.upload_objects\u001B[0;34m(self, client, batch_size)\u001B[0m\n\u001B[1;32m    513\u001B[0m \u001B[38;5;28;01mdef\u001B[39;00m \u001B[38;5;21mupload_objects\u001B[39m(\u001B[38;5;28mself\u001B[39m, client: Client, batch_size: \u001B[38;5;28mint\u001B[39m) \u001B[38;5;241m-\u001B[39m\u001B[38;5;241m>\u001B[39m \u001B[38;5;28mbool\u001B[39m:\n\u001B[0;32m--> 514\u001B[0m     \u001B[38;5;28;01mreturn\u001B[39;00m \u001B[38;5;28;43mself\u001B[39;49m\u001B[38;5;241;43m.\u001B[39;49m\u001B[43m_class_pair_uploader\u001B[49m\u001B[43m(\u001B[49m\n\u001B[1;32m    515\u001B[0m \u001B[43m        \u001B[49m\u001B[43mclient\u001B[49m\u001B[43m,\u001B[49m\n\u001B[1;32m    516\u001B[0m \u001B[43m        \u001B[49m\u001B[43mclass_from\u001B[49m\u001B[38;5;241;43m=\u001B[39;49m\u001B[38;5;124;43m\"\u001B[39;49m\u001B[38;5;124;43mJeopardyQuestion\u001B[39;49m\u001B[38;5;124;43m\"\u001B[39;49m\u001B[43m,\u001B[49m\n\u001B[1;32m    517\u001B[0m \u001B[43m        \u001B[49m\u001B[43mclass_to\u001B[49m\u001B[38;5;241;43m=\u001B[39;49m\u001B[38;5;124;43m\"\u001B[39;49m\u001B[38;5;124;43mJeopardyCategory\u001B[39;49m\u001B[38;5;124;43m\"\u001B[39;49m\u001B[43m,\u001B[49m\n\u001B[1;32m    518\u001B[0m \u001B[43m        \u001B[49m\u001B[43mbatch_size\u001B[49m\u001B[38;5;241;43m=\u001B[39;49m\u001B[43mbatch_size\u001B[49m\u001B[43m,\u001B[49m\n\u001B[1;32m    519\u001B[0m \u001B[43m    \u001B[49m\u001B[43m)\u001B[49m\n",
      "File \u001B[0;32m~/code/sandpit/try_new_wv_api_202306/.venv/lib/python3.10/site-packages/weaviate_datasets/datasets.py:158\u001B[0m, in \u001B[0;36mDataset._class_pair_uploader\u001B[0;34m(self, client, class_from, class_to, batch_size)\u001B[0m\n\u001B[1;32m    156\u001B[0m \u001B[38;5;66;03m# Add \"class_to\" objects\u001B[39;00m\n\u001B[1;32m    157\u001B[0m id_to \u001B[38;5;241m=\u001B[39m generate_uuid5(data_obj_to)\n\u001B[0;32m--> 158\u001B[0m \u001B[43mbatch\u001B[49m\u001B[38;5;241;43m.\u001B[39;49m\u001B[43madd_data_object\u001B[49m\u001B[43m(\u001B[49m\n\u001B[1;32m    159\u001B[0m \u001B[43m    \u001B[49m\u001B[43mdata_obj_to\u001B[49m\u001B[43m,\u001B[49m\n\u001B[1;32m    160\u001B[0m \u001B[43m    \u001B[49m\u001B[43mclass_to\u001B[49m\u001B[43m,\u001B[49m\n\u001B[1;32m    161\u001B[0m \u001B[43m    \u001B[49m\u001B[43muuid\u001B[49m\u001B[38;5;241;43m=\u001B[39;49m\u001B[43mid_to\u001B[49m\u001B[43m,\u001B[49m\n\u001B[1;32m    162\u001B[0m \u001B[43m    \u001B[49m\u001B[43mvector\u001B[49m\u001B[38;5;241;43m=\u001B[39;49m\u001B[43mvec_to\u001B[49m\u001B[43m,\u001B[49m\n\u001B[1;32m    163\u001B[0m \u001B[43m\u001B[49m\u001B[43m)\u001B[49m\n\u001B[1;32m    165\u001B[0m \u001B[38;5;66;03m# Add references\u001B[39;00m\n\u001B[1;32m    166\u001B[0m class_def \u001B[38;5;241m=\u001B[39m [\n\u001B[1;32m    167\u001B[0m     c \u001B[38;5;28;01mfor\u001B[39;00m c \u001B[38;5;129;01min\u001B[39;00m \u001B[38;5;28mself\u001B[39m\u001B[38;5;241m.\u001B[39m_class_definitions \u001B[38;5;28;01mif\u001B[39;00m c[\u001B[38;5;124m\"\u001B[39m\u001B[38;5;124mclass\u001B[39m\u001B[38;5;124m\"\u001B[39m] \u001B[38;5;241m==\u001B[39m class_from\n\u001B[1;32m    168\u001B[0m ][\u001B[38;5;241m0\u001B[39m]\n",
      "File \u001B[0;32m~/code/sandpit/try_new_wv_api_202306/.venv/lib/python3.10/site-packages/weaviate/batch/crud_batch.py:555\u001B[0m, in \u001B[0;36mBatch.add_data_object\u001B[0;34m(self, data_object, class_name, uuid, vector, tenant)\u001B[0m\n\u001B[1;32m    546\u001B[0m uuid \u001B[38;5;241m=\u001B[39m \u001B[38;5;28mself\u001B[39m\u001B[38;5;241m.\u001B[39m_objects_batch\u001B[38;5;241m.\u001B[39madd(\n\u001B[1;32m    547\u001B[0m     class_name\u001B[38;5;241m=\u001B[39m_capitalize_first_letter(class_name),\n\u001B[1;32m    548\u001B[0m     data_object\u001B[38;5;241m=\u001B[39mdata_object,\n\u001B[0;32m   (...)\u001B[0m\n\u001B[1;32m    551\u001B[0m     tenant\u001B[38;5;241m=\u001B[39mtenant,\n\u001B[1;32m    552\u001B[0m )\n\u001B[1;32m    554\u001B[0m \u001B[38;5;28;01mif\u001B[39;00m \u001B[38;5;28mself\u001B[39m\u001B[38;5;241m.\u001B[39m_batching_type:\n\u001B[0;32m--> 555\u001B[0m     \u001B[38;5;28;43mself\u001B[39;49m\u001B[38;5;241;43m.\u001B[39;49m\u001B[43m_auto_create\u001B[49m\u001B[43m(\u001B[49m\u001B[43m)\u001B[49m\n\u001B[1;32m    557\u001B[0m \u001B[38;5;28;01mreturn\u001B[39;00m uuid\n",
      "File \u001B[0;32m~/code/sandpit/try_new_wv_api_202306/.venv/lib/python3.10/site-packages/weaviate/batch/crud_batch.py:1228\u001B[0m, in \u001B[0;36mBatch._auto_create\u001B[0;34m(self)\u001B[0m\n\u001B[1;32m   1225\u001B[0m         \u001B[38;5;28;01mwhile\u001B[39;00m \u001B[38;5;28mself\u001B[39m\u001B[38;5;241m.\u001B[39m_recommended_num_objects \u001B[38;5;241m==\u001B[39m \u001B[38;5;241m0\u001B[39m:\n\u001B[1;32m   1226\u001B[0m             time\u001B[38;5;241m.\u001B[39msleep(\u001B[38;5;241m1\u001B[39m)  \u001B[38;5;66;03m# block if weaviate is overloaded\u001B[39;00m\n\u001B[0;32m-> 1228\u001B[0m         \u001B[38;5;28;43mself\u001B[39;49m\u001B[38;5;241;43m.\u001B[39;49m\u001B[43m_send_batch_requests\u001B[49m\u001B[43m(\u001B[49m\u001B[43mforce_wait\u001B[49m\u001B[38;5;241;43m=\u001B[39;49m\u001B[38;5;28;43;01mFalse\u001B[39;49;00m\u001B[43m)\u001B[49m\n\u001B[1;32m   1229\u001B[0m     \u001B[38;5;28;01mreturn\u001B[39;00m\n\u001B[1;32m   1230\u001B[0m \u001B[38;5;66;03m# just in case\u001B[39;00m\n",
      "File \u001B[0;32m~/code/sandpit/try_new_wv_api_202306/.venv/lib/python3.10/site-packages/weaviate/batch/crud_batch.py:1136\u001B[0m, in \u001B[0;36mBatch._send_batch_requests\u001B[0;34m(self, force_wait)\u001B[0m\n\u001B[1;32m   1134\u001B[0m     \u001B[38;5;28;01mreturn\u001B[39;00m\n\u001B[1;32m   1135\u001B[0m timeout_occurred \u001B[38;5;241m=\u001B[39m \u001B[38;5;28;01mFalse\u001B[39;00m\n\u001B[0;32m-> 1136\u001B[0m \u001B[38;5;28;01mfor\u001B[39;00m done_future \u001B[38;5;129;01min\u001B[39;00m as_completed(\u001B[38;5;28mself\u001B[39m\u001B[38;5;241m.\u001B[39m_future_pool):\n\u001B[1;32m   1137\u001B[0m     response_objects, nr_objects \u001B[38;5;241m=\u001B[39m done_future\u001B[38;5;241m.\u001B[39mresult()\n\u001B[1;32m   1139\u001B[0m     \u001B[38;5;66;03m# handle objects response\u001B[39;00m\n",
      "File \u001B[0;32m~/.pyenv/versions/3.10.12/lib/python3.10/concurrent/futures/_base.py:245\u001B[0m, in \u001B[0;36mas_completed\u001B[0;34m(fs, timeout)\u001B[0m\n\u001B[1;32m    240\u001B[0m     \u001B[38;5;28;01mif\u001B[39;00m wait_timeout \u001B[38;5;241m<\u001B[39m \u001B[38;5;241m0\u001B[39m:\n\u001B[1;32m    241\u001B[0m         \u001B[38;5;28;01mraise\u001B[39;00m \u001B[38;5;167;01mTimeoutError\u001B[39;00m(\n\u001B[1;32m    242\u001B[0m                 \u001B[38;5;124m'\u001B[39m\u001B[38;5;132;01m%d\u001B[39;00m\u001B[38;5;124m (of \u001B[39m\u001B[38;5;132;01m%d\u001B[39;00m\u001B[38;5;124m) futures unfinished\u001B[39m\u001B[38;5;124m'\u001B[39m \u001B[38;5;241m%\u001B[39m (\n\u001B[1;32m    243\u001B[0m                 \u001B[38;5;28mlen\u001B[39m(pending), total_futures))\n\u001B[0;32m--> 245\u001B[0m \u001B[43mwaiter\u001B[49m\u001B[38;5;241;43m.\u001B[39;49m\u001B[43mevent\u001B[49m\u001B[38;5;241;43m.\u001B[39;49m\u001B[43mwait\u001B[49m\u001B[43m(\u001B[49m\u001B[43mwait_timeout\u001B[49m\u001B[43m)\u001B[49m\n\u001B[1;32m    247\u001B[0m \u001B[38;5;28;01mwith\u001B[39;00m waiter\u001B[38;5;241m.\u001B[39mlock:\n\u001B[1;32m    248\u001B[0m     finished \u001B[38;5;241m=\u001B[39m waiter\u001B[38;5;241m.\u001B[39mfinished_futures\n",
      "File \u001B[0;32m~/.pyenv/versions/3.10.12/lib/python3.10/threading.py:607\u001B[0m, in \u001B[0;36mEvent.wait\u001B[0;34m(self, timeout)\u001B[0m\n\u001B[1;32m    605\u001B[0m signaled \u001B[38;5;241m=\u001B[39m \u001B[38;5;28mself\u001B[39m\u001B[38;5;241m.\u001B[39m_flag\n\u001B[1;32m    606\u001B[0m \u001B[38;5;28;01mif\u001B[39;00m \u001B[38;5;129;01mnot\u001B[39;00m signaled:\n\u001B[0;32m--> 607\u001B[0m     signaled \u001B[38;5;241m=\u001B[39m \u001B[38;5;28;43mself\u001B[39;49m\u001B[38;5;241;43m.\u001B[39;49m\u001B[43m_cond\u001B[49m\u001B[38;5;241;43m.\u001B[39;49m\u001B[43mwait\u001B[49m\u001B[43m(\u001B[49m\u001B[43mtimeout\u001B[49m\u001B[43m)\u001B[49m\n\u001B[1;32m    608\u001B[0m \u001B[38;5;28;01mreturn\u001B[39;00m signaled\n",
      "File \u001B[0;32m~/.pyenv/versions/3.10.12/lib/python3.10/threading.py:320\u001B[0m, in \u001B[0;36mCondition.wait\u001B[0;34m(self, timeout)\u001B[0m\n\u001B[1;32m    318\u001B[0m \u001B[38;5;28;01mtry\u001B[39;00m:    \u001B[38;5;66;03m# restore state no matter what (e.g., KeyboardInterrupt)\u001B[39;00m\n\u001B[1;32m    319\u001B[0m     \u001B[38;5;28;01mif\u001B[39;00m timeout \u001B[38;5;129;01mis\u001B[39;00m \u001B[38;5;28;01mNone\u001B[39;00m:\n\u001B[0;32m--> 320\u001B[0m         \u001B[43mwaiter\u001B[49m\u001B[38;5;241;43m.\u001B[39;49m\u001B[43macquire\u001B[49m\u001B[43m(\u001B[49m\u001B[43m)\u001B[49m\n\u001B[1;32m    321\u001B[0m         gotit \u001B[38;5;241m=\u001B[39m \u001B[38;5;28;01mTrue\u001B[39;00m\n\u001B[1;32m    322\u001B[0m     \u001B[38;5;28;01melse\u001B[39;00m:\n",
      "\u001B[0;31mKeyboardInterrupt\u001B[0m: "
     ]
    }
   ],
   "source": [
    "dataset.upload_dataset(client)"
   ],
   "metadata": {
    "collapsed": false,
    "ExecuteTime": {
     "end_time": "2023-09-13T08:20:53.539327Z",
     "start_time": "2023-09-13T08:20:48.233282Z"
    }
   }
  },
  {
   "cell_type": "code",
   "execution_count": 7,
   "outputs": [
    {
     "data": {
      "text/plain": "[{'class': 'JeopardyCategory',\n  'description': 'A Jeopardy! category',\n  'vectorizer': 'text2vec-contextionary',\n  'properties': [{'name': 'title',\n    'dataType': ['text'],\n    'description': 'The category title'}],\n  'moduleConfig': {}},\n {'class': 'JeopardyQuestion',\n  'description': 'A Jeopardy! question',\n  'vectorizer': 'text2vec-contextionary',\n  'moduleConfig': {},\n  'invertedIndexConfig': {'indexPropertyLength': True,\n   'indexTimestamps': True,\n   'indexNullState': True},\n  'properties': [{'name': 'hasCategory',\n    'dataType': ['JeopardyCategory'],\n    'description': 'The category of the question'},\n   {'name': 'question',\n    'dataType': ['text'],\n    'description': 'Question asked to the contestant'},\n   {'name': 'answer',\n    'dataType': ['text'],\n    'description': 'Answer provided by the contestant'},\n   {'name': 'points',\n    'dataType': ['int'],\n    'description': 'Points that the question was worth'},\n   {'name': 'round',\n    'dataType': ['text'],\n    'description': 'Jeopardy round',\n    'tokenization': 'field'},\n   {'name': 'air_date',\n    'dataType': ['date'],\n    'description': 'Date that the episode first aired on TV'}]}]"
     },
     "execution_count": 7,
     "metadata": {},
     "output_type": "execute_result"
    }
   ],
   "source": [
    "dataset.get_class_definitions()"
   ],
   "metadata": {
    "collapsed": false,
    "ExecuteTime": {
     "end_time": "2023-09-13T11:35:12.960622Z",
     "start_time": "2023-09-13T11:35:12.950364Z"
    }
   }
  },
  {
   "cell_type": "code",
   "execution_count": 6,
   "outputs": [
    {
     "name": "stderr",
     "output_type": "stream",
     "text": [
      "2023-09-13 12:35:09,986 - WARNING - Data parsing error on row 0\n",
      "Exception ignored in: <generator object JeopardyQuestions1k._class_pair_dataloader at 0x125b87ae0>\n",
      "Traceback (most recent call last):\n",
      "  File \"/var/folders/hw/hsnpzf0926n_30_bkr09mb200000gn/T/ipykernel_50380/2346166960.py\", line 1, in <module>\n",
      "RuntimeError: generator ignored GeneratorExit\n",
      "/var/folders/hw/hsnpzf0926n_30_bkr09mb200000gn/T/ipykernel_50380/2346166960.py:1: ResourceWarning: unclosed file <_io.TextIOWrapper name='/Users/jphwang/code/sandpit/try_new_wv_api_202306/.venv/lib/python3.10/site-packages/weaviate_datasets/data/jeopardy_10k.json' mode='r' encoding='UTF-8'>\n",
      "  dataset.get_sample()\n",
      "ResourceWarning: Enable tracemalloc to get the object allocation traceback\n"
     ]
    },
    {
     "data": {
      "text/plain": "{'JeopardyCategory': {'title': 'WORD ORIGINS'},\n 'JeopardyQuestion': {'question': 'This French word originally meant \"a place where one docks\" a boat, not a car',\n  'answer': 'garage',\n  'points': 800,\n  'round': 'Double Jeopardy!',\n  'air_date': '2002-11-19T00:00:00+00:00'}}"
     },
     "execution_count": 6,
     "metadata": {},
     "output_type": "execute_result"
    }
   ],
   "source": [
    "dataset.get_sample()"
   ],
   "metadata": {
    "collapsed": false,
    "ExecuteTime": {
     "end_time": "2023-09-13T11:35:09.993306Z",
     "start_time": "2023-09-13T11:35:09.936302Z"
    }
   }
  },
  {
   "cell_type": "code",
   "execution_count": null,
   "outputs": [],
   "source": [],
   "metadata": {
    "collapsed": false
   }
  }
 ],
 "metadata": {
  "kernelspec": {
   "display_name": "Python 3 (ipykernel)",
   "language": "python",
   "name": "python3"
  },
  "language_info": {
   "codemirror_mode": {
    "name": "ipython",
    "version": 3
   },
   "file_extension": ".py",
   "mimetype": "text/x-python",
   "name": "python",
   "nbconvert_exporter": "python",
   "pygments_lexer": "ipython3",
   "version": "3.10.12"
  }
 },
 "nbformat": 4,
 "nbformat_minor": 4
}
