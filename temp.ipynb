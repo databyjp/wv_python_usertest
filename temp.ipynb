{
 "cells": [
  {
   "cell_type": "code",
   "execution_count": 1,
   "metadata": {
    "is_executing": true
   },
   "outputs": [],
   "source": [
    "import weaviate\n",
    "import os\n",
    "\n",
    "client = weaviate.Client(\n",
    "    \"http://localhost:8089\",\n",
    "    additional_headers={\n",
    "        \"X-OpenAI-Api-Key\": os.environ[\"OPENAI_APIKEY\"],\n",
    "        \"X-Cohere-Api-Key\": os.environ[\"COHERE_APIKEY\"]\n",
    "    }\n",
    ")"
   ]
  },
  {
   "cell_type": "code",
   "execution_count": 2,
   "metadata": {},
   "outputs": [
    {
     "data": {
      "text/plain": [
       "True"
      ]
     },
     "execution_count": 2,
     "metadata": {},
     "output_type": "execute_result"
    }
   ],
   "source": [
    "client.is_ready()"
   ]
  },
  {
   "cell_type": "code",
   "execution_count": 5,
   "metadata": {},
   "outputs": [],
   "source": [
    "response = (\n",
    "    client.query.get(\"JeopardyQuestion\", [\"question\", \"answer\"])\n",
    "    .with_near_text({\"concepts\": [\"cat\"]})\n",
    "    .with_limit(2)\n",
    "    .do()\n",
    ")\n",
    "    # with_metadata(\n",
    "    #         self,\n",
    "    #         uuid: bool = False,\n",
    "    #         vector: bool = False,\n",
    "    #         creation_time_unix: bool = False,\n",
    "    #         last_update_time_unix: bool = False,\n",
    "    #         distance: bool = False,\n",
    "    #         certainty: bool = False,\n",
    "    #         score: bool = False,\n",
    "    #         explain_score: bool = False,\n",
    "    #     )"
   ]
  },
  {
   "cell_type": "code",
   "execution_count": 7,
   "metadata": {},
   "outputs": [
    {
     "data": {
      "text/plain": [
       "{'data': {'Get': {'JeopardyQuestion': [{'answer': 'Fat cat',\n",
       "     'question': 'A flabby tabby'},\n",
       "    {'answer': 'a flabby tabby',\n",
       "     'question': 'A fat & sagging striped house cat'}]}}}"
      ]
     },
     "execution_count": 7,
     "metadata": {},
     "output_type": "execute_result"
    }
   ],
   "source": [
    "response"
   ]
  },
  {
   "cell_type": "code",
   "execution_count": 31,
   "metadata": {},
   "outputs": [],
   "source": [
    "response = (\n",
    "    client.query.get(\"JeopardyQuestion\", [\"question\", \"answer\"])\n",
    "    .with_near_text({\"concepts\": [\"cat\"]})\n",
    "    .with_limit(1)\n",
    "    .with_metadata(\n",
    "        uuid=True,\n",
    "        distance=True,\n",
    "        score=True,\n",
    "    )\n",
    "    .do()\n",
    ")\n",
    "    # with_metadata(\n",
    "    #         self,\n",
    "    #         uuid: bool = False,\n",
    "    #         vector: bool = False,\n",
    "    #         creation_time_unix: bool = False,\n",
    "    #         last_update_time_unix: bool = False,\n",
    "    #         distance: bool = False,\n",
    "    #         certainty: bool = False,\n",
    "    #         score: bool = False,\n",
    "    #         explain_score: bool = False,\n",
    "    #     )"
   ]
  },
  {
   "cell_type": "code",
   "execution_count": 32,
   "metadata": {},
   "outputs": [
    {
     "name": "stdout",
     "output_type": "stream",
     "text": [
      "{\n",
      "  \"data\": {\n",
      "    \"Get\": {\n",
      "      \"JeopardyQuestion\": [\n",
      "        {\n",
      "          \"_additional\": {\n",
      "            \"distance\": 0.17033613,\n",
      "            \"id\": \"7151cbe7-cb27-58a0-a20f-46156fc92dbc\",\n",
      "            \"score\": \"0\"\n",
      "          },\n",
      "          \"answer\": \"Fat cat\",\n",
      "          \"question\": \"A flabby tabby\"\n",
      "        }\n",
      "      ]\n",
      "    }\n",
      "  }\n",
      "}\n"
     ]
    }
   ],
   "source": [
    "import json\n",
    "\n",
    "print(json.dumps(response, indent=2))"
   ]
  },
  {
   "cell_type": "code",
   "execution_count": 22,
   "metadata": {},
   "outputs": [],
   "source": [
    "response = (\n",
    "    client.query.get(\"JeopardyQuestion\", [\"question\", \"answer\"])\n",
    "    .with_near_text({\"concepts\": [\"cat\"]})\n",
    "    .with_limit(2)\n",
    "    .with_additional([\"id\", \"score\"])\n",
    "    .do()\n",
    ")"
   ]
  },
  {
   "cell_type": "code",
   "execution_count": 23,
   "metadata": {},
   "outputs": [
    {
     "data": {
      "text/plain": [
       "{'data': {'Get': {'JeopardyQuestion': [{'_additional': {'id': '7151cbe7-cb27-58a0-a20f-46156fc92dbc',\n",
       "      'score': '0'},\n",
       "     'answer': 'Fat cat',\n",
       "     'question': 'A flabby tabby'},\n",
       "    {'_additional': {'id': 'f99fa7f2-4fa5-509f-a091-a8e16ae6c510',\n",
       "      'score': '0'},\n",
       "     'answer': 'a flabby tabby',\n",
       "     'question': 'A fat & sagging striped house cat'}]}}}"
      ]
     },
     "execution_count": 23,
     "metadata": {},
     "output_type": "execute_result"
    }
   ],
   "source": [
    "response"
   ]
  },
  {
   "cell_type": "code",
   "execution_count": 33,
   "metadata": {},
   "outputs": [
    {
     "data": {
      "text/plain": [
       "{'data': {'Get': {'JeopardyQuestion': [{'_additional': {'distance': None,\n",
       "      'id': '7151cbe7-cb27-58a0-a20f-46156fc92dbc',\n",
       "      'score': '0.012295082'},\n",
       "     'answer': 'Fat cat',\n",
       "     'question': 'A flabby tabby'}]}}}"
      ]
     },
     "execution_count": 33,
     "metadata": {},
     "output_type": "execute_result"
    }
   ],
   "source": [
    "response = (\n",
    "    client.query.get(\"JeopardyQuestion\", [\"question\", \"answer\"])\n",
    "    .with_hybrid(query=\"cat\")\n",
    "    .with_limit(1)\n",
    "    .with_additional([\"id\", \"score\", \"distance\"])\n",
    "    .do()\n",
    ")\n",
    "response"
   ]
  },
  {
   "cell_type": "code",
   "execution_count": null,
   "metadata": {},
   "outputs": [],
   "source": []
  }
 ],
 "metadata": {
  "kernelspec": {
   "display_name": "Python 3 (ipykernel)",
   "language": "python",
   "name": "python3"
  },
  "language_info": {
   "codemirror_mode": {
    "name": "ipython",
    "version": 3
   },
   "file_extension": ".py",
   "mimetype": "text/x-python",
   "name": "python",
   "nbconvert_exporter": "python",
   "pygments_lexer": "ipython3",
   "version": "3.10.12"
  }
 },
 "nbformat": 4,
 "nbformat_minor": 4
}
