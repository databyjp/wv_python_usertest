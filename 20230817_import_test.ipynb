{
 "cells": [
  {
   "cell_type": "code",
   "execution_count": 2,
   "metadata": {
    "collapsed": true,
    "ExecuteTime": {
     "end_time": "2023-08-23T12:30:46.233345Z",
     "start_time": "2023-08-23T12:30:46.121389Z"
    }
   },
   "outputs": [],
   "source": [
    "import os\n",
    "import weaviate\n",
    "\n",
    "client = weaviate.CollectionClient(\n",
    "    url=\"http://localhost:8080\",\n",
    "    grpc_port=50051,\n",
    ")"
   ]
  },
  {
   "cell_type": "code",
   "execution_count": 3,
   "outputs": [
    {
     "data": {
      "text/plain": "{'hostname': 'http://[::]:8080',\n 'modules': {'generative-openai': {'documentationHref': 'https://platform.openai.com/docs/api-reference/completions',\n   'name': 'Generative Search - OpenAI'},\n  'reranker-cohere': {'documentationHref': 'https://txt.cohere.com/rerank/',\n   'name': 'Reranker - Cohere'},\n  'text2vec-cohere': {'documentationHref': 'https://docs.cohere.ai/embedding-wiki/',\n   'name': 'Cohere Module'},\n  'text2vec-huggingface': {'documentationHref': 'https://huggingface.co/docs/api-inference/detailed_parameters#feature-extraction-task',\n   'name': 'Hugging Face Module'},\n  'text2vec-openai': {'documentationHref': 'https://platform.openai.com/docs/guides/embeddings/what-are-embeddings',\n   'name': 'OpenAI Module'}},\n 'version': '1.21.0'}"
     },
     "execution_count": 3,
     "metadata": {},
     "output_type": "execute_result"
    }
   ],
   "source": [
    "client.get_meta()"
   ],
   "metadata": {
    "collapsed": false,
    "ExecuteTime": {
     "end_time": "2023-08-23T12:30:47.682042Z",
     "start_time": "2023-08-23T12:30:47.666536Z"
    }
   }
  },
  {
   "cell_type": "code",
   "execution_count": 3,
   "metadata": {
    "collapsed": false,
    "ExecuteTime": {
     "end_time": "2023-08-22T09:41:22.571455Z",
     "start_time": "2023-08-22T09:41:22.537229Z"
    }
   },
   "outputs": [],
   "source": [
    "client.schema.delete_class(\"Question\")"
   ]
  },
  {
   "cell_type": "code",
   "execution_count": 4,
   "outputs": [],
   "source": [
    "import weaviate.collection.classes as wvc\n",
    "\n",
    "questions = client.collection.create(\n",
    "    wvc.CollectionConfig(\n",
    "        name=\"Question\",\n",
    "        vectorizer=wvc.Vectorizer.TEXT2VEC_OPENAI,\n",
    "        properties=[\n",
    "            wvc.Property(name=\"answer\", data_type=wvc.DataType.TEXT),\n",
    "            wvc.Property(name=\"question\", data_type=wvc.DataType.TEXT),\n",
    "        ],\n",
    "    )\n",
    ")"
   ],
   "metadata": {
    "collapsed": false,
    "ExecuteTime": {
     "end_time": "2023-08-22T09:41:22.575508Z",
     "start_time": "2023-08-22T09:41:22.556280Z"
    }
   }
  },
  {
   "cell_type": "code",
   "execution_count": 5,
   "outputs": [],
   "source": [
    "import requests\n",
    "import json\n",
    "resp = requests.get('https://raw.githubusercontent.com/weaviate-tutorials/quickstart/main/data/jeopardy_tiny.json')\n",
    "data = json.loads(resp.text)  # Load data"
   ],
   "metadata": {
    "collapsed": false,
    "ExecuteTime": {
     "end_time": "2023-08-22T09:41:22.642526Z",
     "start_time": "2023-08-22T09:41:22.572087Z"
    }
   }
  },
  {
   "cell_type": "code",
   "execution_count": 6,
   "outputs": [],
   "source": [
    "wv_objects = list()\n",
    "for i, d in enumerate(data):  # Batch import data\n",
    "    properties = {\n",
    "        \"answer\": d[\"Answer\"],\n",
    "        \"question\": d[\"Question\"],\n",
    "        \"category\": d[\"Category\"],\n",
    "    }\n",
    "    if i == 5:\n",
    "        properties[\"answer\"] = [42]\n",
    "    wv_obj = wvc.DataObject(\n",
    "        data=properties,\n",
    "    )\n",
    "    wv_objects.append(wv_obj)"
   ],
   "metadata": {
    "collapsed": false,
    "ExecuteTime": {
     "end_time": "2023-08-22T09:41:22.645432Z",
     "start_time": "2023-08-22T09:41:22.643174Z"
    }
   }
  },
  {
   "cell_type": "code",
   "execution_count": 7,
   "outputs": [
    {
     "name": "stdout",
     "output_type": "stream",
     "text": [
      "_BatchReturn(all_responses=[UUID('6a00b418-7de4-46dc-8703-39f60f89d864'), UUID('9c6d70b6-261a-4794-854e-7514602aabc6'), UUID('7b8d87a9-0ed9-4861-8fe1-8e6855f60619'), UUID('29f2630d-fad8-469e-a1eb-ff1eb6fe6c78'), UUID('1593c6b3-1d45-42b7-a6cc-39f857fb3327'), Error(message=\"invalid text property 'answer' on class 'Question': not a string, but []interface {}\", code=None, original_uuid=None), UUID('076a8e06-6918-4986-ab81-82927ea4d92c'), UUID('b74efeba-96bb-43d1-8e4e-2754fdfc568e'), UUID('91a0f044-7bb6-46e5-9dea-90b4b43569b7'), UUID('1170c856-30ee-469e-85cd-66b823bf759b')], uuids={0: UUID('6a00b418-7de4-46dc-8703-39f60f89d864'), 1: UUID('9c6d70b6-261a-4794-854e-7514602aabc6'), 2: UUID('7b8d87a9-0ed9-4861-8fe1-8e6855f60619'), 3: UUID('29f2630d-fad8-469e-a1eb-ff1eb6fe6c78'), 4: UUID('1593c6b3-1d45-42b7-a6cc-39f857fb3327'), 6: UUID('076a8e06-6918-4986-ab81-82927ea4d92c'), 7: UUID('b74efeba-96bb-43d1-8e4e-2754fdfc568e'), 8: UUID('91a0f044-7bb6-46e5-9dea-90b4b43569b7'), 9: UUID('1170c856-30ee-469e-85cd-66b823bf759b')}, errors={5: Error(message=\"invalid text property 'answer' on class 'Question': not a string, but []interface {}\", code=None, original_uuid=None)}, has_errors=True)\n"
     ]
    }
   ],
   "source": [
    "response = questions.data.insert_many(wv_objects)\n",
    "print(response)"
   ],
   "metadata": {
    "collapsed": false,
    "ExecuteTime": {
     "end_time": "2023-08-22T09:41:23.143917Z",
     "start_time": "2023-08-22T09:41:22.645872Z"
    }
   }
  },
  {
   "cell_type": "code",
   "execution_count": 8,
   "outputs": [
    {
     "data": {
      "text/plain": "True"
     },
     "execution_count": 8,
     "metadata": {},
     "output_type": "execute_result"
    }
   ],
   "source": [
    "response.has_errors"
   ],
   "metadata": {
    "collapsed": false,
    "ExecuteTime": {
     "end_time": "2023-08-22T09:41:23.150304Z",
     "start_time": "2023-08-22T09:41:23.144392Z"
    }
   }
  },
  {
   "cell_type": "code",
   "execution_count": 9,
   "outputs": [
    {
     "data": {
      "text/plain": "{5: Error(message=\"invalid text property 'answer' on class 'Question': not a string, but []interface {}\", code=None, original_uuid=None)}"
     },
     "execution_count": 9,
     "metadata": {},
     "output_type": "execute_result"
    }
   ],
   "source": [
    "response.errors"
   ],
   "metadata": {
    "collapsed": false,
    "ExecuteTime": {
     "end_time": "2023-08-22T09:41:40.447088Z",
     "start_time": "2023-08-22T09:41:40.443970Z"
    }
   }
  },
  {
   "cell_type": "code",
   "execution_count": 23,
   "outputs": [
    {
     "name": "stdout",
     "output_type": "stream",
     "text": [
      "DataObject(data={'answer': [42], 'question': \"2000 news: the Gunnison sage grouse isn't just another northern sage grouse, but a new one of this classification\", 'category': 'SCIENCE'}, uuid=None, vector=None)\n",
      "Error(message=\"invalid text property 'answer' on class 'Question': not a string, but []interface {}\", code=None, original_uuid=None)\n"
     ]
    }
   ],
   "source": [
    "for k, v in response.errors.items():\n",
    "    print(wv_objects[k])\n",
    "    print(v)"
   ],
   "metadata": {
    "collapsed": false,
    "ExecuteTime": {
     "end_time": "2023-08-22T09:54:20.087751Z",
     "start_time": "2023-08-22T09:54:20.081458Z"
    }
   }
  },
  {
   "cell_type": "code",
   "execution_count": 20,
   "outputs": [
    {
     "data": {
      "text/plain": "DataObject(data={'answer': [42], 'question': \"2000 news: the Gunnison sage grouse isn't just another northern sage grouse, but a new one of this classification\", 'category': 'SCIENCE'}, uuid=None, vector=None)"
     },
     "execution_count": 20,
     "metadata": {},
     "output_type": "execute_result"
    }
   ],
   "source": [
    "print(wv_objects[k])"
   ],
   "metadata": {
    "collapsed": false,
    "ExecuteTime": {
     "end_time": "2023-08-22T09:46:44.324115Z",
     "start_time": "2023-08-22T09:46:44.320991Z"
    }
   }
  },
  {
   "cell_type": "code",
   "execution_count": null,
   "outputs": [],
   "source": [],
   "metadata": {
    "collapsed": false
   }
  }
 ],
 "metadata": {
  "kernelspec": {
   "display_name": "Python 3",
   "language": "python",
   "name": "python3"
  },
  "language_info": {
   "codemirror_mode": {
    "name": "ipython",
    "version": 3
   },
   "file_extension": ".py",
   "mimetype": "text/x-python",
   "name": "python",
   "nbconvert_exporter": "python",
   "pygments_lexer": "ipython3",
   "version": "3.10.12"
  }
 },
 "nbformat": 4,
 "nbformat_minor": 0
}
