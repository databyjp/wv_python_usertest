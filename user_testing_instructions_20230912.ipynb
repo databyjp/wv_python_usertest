{
 "cells": [
  {
   "cell_type": "markdown",
   "id": "c6c17b2a-e399-4be0-b681-70f875c2ae7b",
   "metadata": {},
   "source": [
    "## Early user testing for the Weaviate 'collections' client"
   ]
  },
  {
   "cell_type": "markdown",
   "id": "192d47c2-744c-4e80-91ed-dfea039232d5",
   "metadata": {},
   "source": [
    "Welcome!\n",
    "\n",
    "We have been working on a new (and hopefully improved) API for our Python client. We are excited for you to try it out and provide feedback for us."
   ]
  },
  {
   "cell_type": "markdown",
   "id": "c178cd6a-9f77-4ed9-8118-0a3a9b86e293",
   "metadata": {},
   "source": [
    "### Installation\n",
    "\n",
    "This version of the client is on a different branch in GH.\n",
    "\n",
    "If you don't want this to affect your current workflow - we recommend you create a **new environment** (whether venv, or Conda/Mamba). If you don't, make sure to uninstall it after and install the official release.\n",
    "\n",
    "In your desired environment, install it with:\n",
    "\n",
    "```shell\n",
    "pip install -U \"git+https://github.com/weaviate/weaviate-python-client.git@pydantic_experiment#egg=weaviate-client[GRPC]\"\n",
    "```"
   ]
  },
  {
   "cell_type": "markdown",
   "source": [
    "Use this docker-compose file:\n",
    "\n",
    "```yaml\n",
    "---\n",
    "version: '3.4'\n",
    "services:\n",
    "  weaviate:\n",
    "    command:\n",
    "    - --host\n",
    "    - 0.0.0.0\n",
    "    - --port\n",
    "    - '8080'\n",
    "    - --scheme\n",
    "    - http\n",
    "    image: semitechnologies/weaviate:preview-error-without-module-c10476a\n",
    "    restart: on-failure:0\n",
    "    ports:\n",
    "     - \"8080:8080\"\n",
    "     - \"50051:50051\"\n",
    "    environment:\n",
    "      QUERY_DEFAULTS_LIMIT: 25\n",
    "      QUERY_MAXIMUM_RESULTS: 10000\n",
    "      AUTHENTICATION_ANONYMOUS_ACCESS_ENABLED: 'true'\n",
    "      PERSISTENCE_DATA_PATH: '/var/lib/weaviate'\n",
    "      DEFAULT_VECTORIZER_MODULE: 'text2vec-openai'\n",
    "      ENABLE_MODULES: 'text2vec-openai,text2vec-cohere,generative-openai'\n",
    "      CLUSTER_HOSTNAME: 'node1'\n",
    "...\n",
    "```"
   ],
   "metadata": {
    "collapsed": false
   }
  },
  {
   "cell_type": "markdown",
   "source": [
    "And spin up a container with `docker compose up -d`"
   ],
   "metadata": {
    "collapsed": false
   }
  },
  {
   "cell_type": "markdown",
   "id": "1eaff106-006e-4e02-bd96-7b58c6ebb273",
   "metadata": {},
   "source": [
    "### Key ideas\n",
    "\n",
    "We are calling this the *'collections'* client, because many of the data interactions will be at the collections (i.e. Weaviate *'Class'*) level. So, instantiate the client and then instantiate a collection like this:"
   ]
  },
  {
   "cell_type": "code",
   "execution_count": 1,
   "id": "d1048b73-2da7-41f4-9d71-4a641e3fadc6",
   "metadata": {
    "ExecuteTime": {
     "end_time": "2023-09-15T16:58:29.530598Z",
     "start_time": "2023-09-15T16:58:29.187680Z"
    }
   },
   "outputs": [],
   "source": [
    "from weaviate import Config\n",
    "import weaviate\n",
    "import os\n",
    "\n",
    "client = weaviate.Client(\n",
    "    \"http://localhost:8080\",\n",
    "    additional_config=Config(grpc_port_experimental=50051),\n",
    "    additional_headers={\n",
    "        \"X-OpenAI-Api-Key\": os.environ[\"OPENAI_APIKEY\"],\n",
    "        \"X-Cohere-Api-Key\": os.environ[\"COHERE_APIKEY\"],\n",
    "    },\n",
    ")"
   ]
  },
  {
   "cell_type": "markdown",
   "source": [
    "### Help is here!\n",
    "\n",
    "We've created objects to help with lots of things here.\n",
    "\n",
    "You'll notice below that class definitions are done through the `CollectionConfig` class, configurations in `Text2VecOpenAIConfig`, and so on.\n",
    "\n",
    "You can import them individually, like so:\n",
    "\n",
    "```\n",
    "from weaviate.weaviate_classes import CollectionConfig, Vectorizer, VectorDistance\n",
    "```\n",
    "\n",
    "I (JP) personally import the set of classes like this:\n",
    "\n",
    "```\n",
    "import weaviate.weaviate_classes as wvc\n",
    "```"
   ],
   "metadata": {
    "collapsed": false
   }
  },
  {
   "cell_type": "markdown",
   "source": [
    "To prep, delete any existing classes with the same name like so:"
   ],
   "metadata": {
    "collapsed": false
   }
  },
  {
   "cell_type": "code",
   "execution_count": 2,
   "outputs": [],
   "source": [
    "for n in [\"TestArticle\", \"TestAuthor\"]:\n",
    "    if client.schema.exists(n):\n",
    "        client.schema.delete_class(n)"
   ],
   "metadata": {
    "collapsed": false,
    "ExecuteTime": {
     "end_time": "2023-09-15T16:58:29.563186Z",
     "start_time": "2023-09-15T16:58:29.531685Z"
    }
   }
  },
  {
   "cell_type": "markdown",
   "source": [
    "### Class creation"
   ],
   "metadata": {
    "collapsed": false
   }
  },
  {
   "cell_type": "code",
   "execution_count": 3,
   "outputs": [],
   "source": [
    "import weaviate.weaviate_classes as wvc\n",
    "\n",
    "articles = client.collection.create(\n",
    "    name=\"TestArticle\",\n",
    "    properties=[\n",
    "        wvc.Property(\n",
    "            name=\"title\",\n",
    "            data_type=wvc.DataType.TEXT,\n",
    "        ),\n",
    "        # Get the user to create these properties\n",
    "        wvc.Property(\n",
    "            name=\"body\",\n",
    "            data_type=wvc.DataType.TEXT,\n",
    "        ),\n",
    "        wvc.Property(\n",
    "            name=\"url\",\n",
    "            data_type=wvc.DataType.TEXT,\n",
    "            tokenization=wvc.Tokenization.FIELD,\n",
    "            vectorizer_config=wvc.PropertyVectorizerConfig()\n",
    "        ),\n",
    "        # =====\n",
    "    ],\n",
    "    vectorizer_config=wvc.VectorizerFactory.text2vec_openai(),\n",
    "    # vectorizer_config=wvc.VectorizerFactory.text2vec_cohere(\n",
    "    #     model=\"embed-multilingual-v2.0\"\n",
    "    # ),\n",
    "    replication_config=wvc.ConfigFactory.replication(factor=1),\n",
    "    # Get the user to create this config\n",
    "    inverted_index_config=wvc.ConfigFactory.inverted_index(\n",
    "        index_property_length=True\n",
    "    )\n",
    "    # =====\n",
    ")\n",
    "\n",
    "authors = client.collection.create(\n",
    "    name=\"TestAuthor\",\n",
    "    properties=[\n",
    "        wvc.Property(\n",
    "            name=\"name\",\n",
    "            data_type=wvc.DataType.TEXT,\n",
    "        ),\n",
    "        # Get the user to create this\n",
    "        wvc.Property(\n",
    "            name=\"birth_year\",\n",
    "            data_type=wvc.DataType.INT,\n",
    "        ),\n",
    "        # Get the user to create this\n",
    "        wvc.ReferenceProperty(name=\"wroteArticle\", target_collection=\"TestArticle\")\n",
    "    ],\n",
    "    # Get the user to add this vectorizer\n",
    "    # vectorizer_config=wvc.VectorizerFactory.text2vec_openai(),\n",
    "    vectorizer_config=wvc.VectorizerFactory.text2vec_cohere(\n",
    "        model=\"embed-multilingual-v2.0\"\n",
    "    ),\n",
    ")"
   ],
   "metadata": {
    "collapsed": false,
    "ExecuteTime": {
     "end_time": "2023-09-15T16:58:29.577406Z",
     "start_time": "2023-09-15T16:58:29.565507Z"
    }
   }
  },
  {
   "cell_type": "markdown",
   "source": [
    "In your IDE, you should now see IntelliSense autocompletes through the `articles` / `authors` objects - the two key subsets are:\n",
    "\n",
    "-  `data`: CRUD operations\n",
    "-  `query`: Search operations (old GraphQL)"
   ],
   "metadata": {
    "collapsed": false
   }
  },
  {
   "cell_type": "markdown",
   "source": [
    "### CRUD operations"
   ],
   "metadata": {
    "collapsed": false
   }
  },
  {
   "cell_type": "markdown",
   "source": [
    "#### Add objects (single)"
   ],
   "metadata": {
    "collapsed": false
   }
  },
  {
   "cell_type": "markdown",
   "source": [
    "Adding objects is done with the `insert` method.\n",
    "\n",
    "The pattern can be very similar to what you've done before. (You can specify a UUID as you have done before!)"
   ],
   "metadata": {
    "collapsed": false
   }
  },
  {
   "cell_type": "code",
   "execution_count": 4,
   "outputs": [],
   "source": [
    "uuid = articles.data.insert(\n",
    "    {\n",
    "        \"title\": \"Something something dark side\",\n",
    "        \"body\": \"A long long time ago, in a galaxy far, far away...\",\n",
    "        \"url\": \"http://www.starwars.com\"\n",
    "    }\n",
    ")"
   ],
   "metadata": {
    "collapsed": false,
    "ExecuteTime": {
     "end_time": "2023-09-15T16:58:30.191093Z",
     "start_time": "2023-09-15T16:58:29.578588Z"
    }
   }
  },
  {
   "cell_type": "markdown",
   "source": [
    "The returend object is a UUID type"
   ],
   "metadata": {
    "collapsed": false
   }
  },
  {
   "cell_type": "code",
   "execution_count": 5,
   "outputs": [
    {
     "name": "stdout",
     "output_type": "stream",
     "text": [
      "<class 'uuid.UUID'>\n",
      "7b99bdc8-e19b-4a0a-8bf0-23dd335b5fb5\n"
     ]
    }
   ],
   "source": [
    "print(type(uuid))\n",
    "print(uuid)"
   ],
   "metadata": {
    "collapsed": false,
    "ExecuteTime": {
     "end_time": "2023-09-15T16:58:30.194462Z",
     "start_time": "2023-09-15T16:58:30.191427Z"
    }
   }
  },
  {
   "cell_type": "markdown",
   "source": [
    "Notice that you didn't have to specify a class, because you're working with a class"
   ],
   "metadata": {
    "collapsed": false
   }
  },
  {
   "cell_type": "markdown",
   "source": [
    "#### Add objects (batch)"
   ],
   "metadata": {
    "collapsed": false
   }
  },
  {
   "cell_type": "code",
   "execution_count": 6,
   "outputs": [
    {
     "ename": "AssertionError",
     "evalue": "",
     "output_type": "error",
     "traceback": [
      "\u001B[0;31m---------------------------------------------------------------------------\u001B[0m",
      "\u001B[0;31mAssertionError\u001B[0m                            Traceback (most recent call last)",
      "Cell \u001B[0;32mIn[6], line 13\u001B[0m\n\u001B[1;32m      1\u001B[0m authors_to_add \u001B[38;5;241m=\u001B[39m [\n\u001B[1;32m      2\u001B[0m     wvc\u001B[38;5;241m.\u001B[39mDataObject(\n\u001B[1;32m      3\u001B[0m         properties\u001B[38;5;241m=\u001B[39m{\n\u001B[0;32m   (...)\u001B[0m\n\u001B[1;32m     10\u001B[0m     \u001B[38;5;28;01mfor\u001B[39;00m i \u001B[38;5;129;01min\u001B[39;00m \u001B[38;5;28mrange\u001B[39m(\u001B[38;5;241m10\u001B[39m)\n\u001B[1;32m     11\u001B[0m ]\n\u001B[0;32m---> 13\u001B[0m \u001B[43mauthors\u001B[49m\u001B[38;5;241;43m.\u001B[39;49m\u001B[43mdata\u001B[49m\u001B[38;5;241;43m.\u001B[39;49m\u001B[43minsert_many\u001B[49m\u001B[43m(\u001B[49m\u001B[43mauthors_to_add\u001B[49m\u001B[43m)\u001B[49m\n",
      "File \u001B[0;32m~/code/sandpit/try_new_wv_api_202306/.venv/lib/python3.10/site-packages/weaviate/collection/data.py:401\u001B[0m, in \u001B[0;36m_DataCollection.insert_many\u001B[0;34m(self, objects)\u001B[0m\n\u001B[1;32m    400\u001B[0m \u001B[38;5;28;01mdef\u001B[39;00m \u001B[38;5;21minsert_many\u001B[39m(\u001B[38;5;28mself\u001B[39m, objects: List[DataObject[Properties]]) \u001B[38;5;241m-\u001B[39m\u001B[38;5;241m>\u001B[39m _BatchReturn:\n\u001B[0;32m--> 401\u001B[0m     \u001B[38;5;28;01mreturn\u001B[39;00m \u001B[38;5;28;43mself\u001B[39;49m\u001B[38;5;241;43m.\u001B[39;49m\u001B[43m_insert_many\u001B[49m\u001B[43m(\u001B[49m\n\u001B[1;32m    402\u001B[0m \u001B[43m        \u001B[49m\u001B[43m[\u001B[49m\n\u001B[1;32m    403\u001B[0m \u001B[43m            \u001B[49m\u001B[43m{\u001B[49m\n\u001B[1;32m    404\u001B[0m \u001B[43m                \u001B[49m\u001B[38;5;124;43m\"\u001B[39;49m\u001B[38;5;124;43mproperties\u001B[39;49m\u001B[38;5;124;43m\"\u001B[39;49m\u001B[43m:\u001B[49m\u001B[43m \u001B[49m\u001B[43mobj\u001B[49m\u001B[38;5;241;43m.\u001B[39;49m\u001B[43mproperties\u001B[49m\u001B[43m,\u001B[49m\n\u001B[1;32m    405\u001B[0m \u001B[43m                \u001B[49m\u001B[38;5;124;43m\"\u001B[39;49m\u001B[38;5;124;43mvector\u001B[39;49m\u001B[38;5;124;43m\"\u001B[39;49m\u001B[43m:\u001B[49m\u001B[43m \u001B[49m\u001B[43mobj\u001B[49m\u001B[38;5;241;43m.\u001B[39;49m\u001B[43mvector\u001B[49m\u001B[43m,\u001B[49m\n\u001B[1;32m    406\u001B[0m \u001B[43m                \u001B[49m\u001B[38;5;124;43m\"\u001B[39;49m\u001B[38;5;124;43muuid\u001B[39;49m\u001B[38;5;124;43m\"\u001B[39;49m\u001B[43m:\u001B[49m\u001B[43m \u001B[49m\u001B[43mobj\u001B[49m\u001B[38;5;241;43m.\u001B[39;49m\u001B[43muuid\u001B[49m\u001B[43m,\u001B[49m\n\u001B[1;32m    407\u001B[0m \u001B[43m            \u001B[49m\u001B[43m}\u001B[49m\n\u001B[1;32m    408\u001B[0m \u001B[43m            \u001B[49m\u001B[38;5;28;43;01mfor\u001B[39;49;00m\u001B[43m \u001B[49m\u001B[43mobj\u001B[49m\u001B[43m \u001B[49m\u001B[38;5;129;43;01min\u001B[39;49;00m\u001B[43m \u001B[49m\u001B[43mobjects\u001B[49m\n\u001B[1;32m    409\u001B[0m \u001B[43m        \u001B[49m\u001B[43m]\u001B[49m\n\u001B[1;32m    410\u001B[0m \u001B[43m    \u001B[49m\u001B[43m)\u001B[49m\n",
      "File \u001B[0;32m~/code/sandpit/try_new_wv_api_202306/.venv/lib/python3.10/site-packages/weaviate/collection/data.py:86\u001B[0m, in \u001B[0;36m_Data._insert_many\u001B[0;34m(self, objects)\u001B[0m\n\u001B[1;32m     74\u001B[0m \u001B[38;5;28;01mdef\u001B[39;00m \u001B[38;5;21m_insert_many\u001B[39m(\u001B[38;5;28mself\u001B[39m, objects: List[Dict[\u001B[38;5;28mstr\u001B[39m, Any]]) \u001B[38;5;241m-\u001B[39m\u001B[38;5;241m>\u001B[39m _BatchReturn:\n\u001B[1;32m     75\u001B[0m     weaviate_objs: List[weaviate_pb2\u001B[38;5;241m.\u001B[39mBatchObject] \u001B[38;5;241m=\u001B[39m [\n\u001B[1;32m     76\u001B[0m         weaviate_pb2\u001B[38;5;241m.\u001B[39mBatchObject(\n\u001B[1;32m     77\u001B[0m             class_name\u001B[38;5;241m=\u001B[39m\u001B[38;5;28mself\u001B[39m\u001B[38;5;241m.\u001B[39mname,\n\u001B[0;32m   (...)\u001B[0m\n\u001B[1;32m     83\u001B[0m         \u001B[38;5;28;01mfor\u001B[39;00m obj \u001B[38;5;129;01min\u001B[39;00m objects\n\u001B[1;32m     84\u001B[0m     ]\n\u001B[0;32m---> 86\u001B[0m     errors \u001B[38;5;241m=\u001B[39m \u001B[38;5;28;43mself\u001B[39;49m\u001B[38;5;241;43m.\u001B[39;49m\u001B[43m_batch\u001B[49m\u001B[38;5;241;43m.\u001B[39;49m\u001B[43mbatch\u001B[49m\u001B[43m(\u001B[49m\u001B[43mweaviate_objs\u001B[49m\u001B[43m)\u001B[49m\n\u001B[1;32m     88\u001B[0m     all_responses: List[Union[uuid_package\u001B[38;5;241m.\u001B[39mUUID, Error]] \u001B[38;5;241m=\u001B[39m cast(\n\u001B[1;32m     89\u001B[0m         List[Union[uuid_package\u001B[38;5;241m.\u001B[39mUUID, Error]], \u001B[38;5;28mlist\u001B[39m(\u001B[38;5;28mrange\u001B[39m(\u001B[38;5;28mlen\u001B[39m(weaviate_objs)))\n\u001B[1;32m     90\u001B[0m     )\n\u001B[1;32m     91\u001B[0m     return_success: Dict[\u001B[38;5;28mint\u001B[39m, uuid_package\u001B[38;5;241m.\u001B[39mUUID] \u001B[38;5;241m=\u001B[39m {}\n",
      "File \u001B[0;32m~/code/sandpit/try_new_wv_api_202306/.venv/lib/python3.10/site-packages/weaviate/collection/grpc_batch.py:15\u001B[0m, in \u001B[0;36m_BatchGRPC.batch\u001B[0;34m(self, batch)\u001B[0m\n\u001B[1;32m     12\u001B[0m metadata \u001B[38;5;241m=\u001B[39m \u001B[38;5;28mself\u001B[39m\u001B[38;5;241m.\u001B[39m_get_metadata()\n\u001B[1;32m     14\u001B[0m \u001B[38;5;28;01mtry\u001B[39;00m:\n\u001B[0;32m---> 15\u001B[0m     \u001B[38;5;28;01massert\u001B[39;00m \u001B[38;5;28mself\u001B[39m\u001B[38;5;241m.\u001B[39m_connection\u001B[38;5;241m.\u001B[39mgrpc_stub \u001B[38;5;129;01mis\u001B[39;00m \u001B[38;5;129;01mnot\u001B[39;00m \u001B[38;5;28;01mNone\u001B[39;00m\n\u001B[1;32m     16\u001B[0m     res, _ \u001B[38;5;241m=\u001B[39m \u001B[38;5;28mself\u001B[39m\u001B[38;5;241m.\u001B[39m_connection\u001B[38;5;241m.\u001B[39mgrpc_stub\u001B[38;5;241m.\u001B[39mBatchObjects\u001B[38;5;241m.\u001B[39mwith_call(\n\u001B[1;32m     17\u001B[0m         weaviate_pb2\u001B[38;5;241m.\u001B[39mBatchObjectsRequest(\n\u001B[1;32m     18\u001B[0m             objects\u001B[38;5;241m=\u001B[39mbatch,\n\u001B[0;32m   (...)\u001B[0m\n\u001B[1;32m     21\u001B[0m         metadata\u001B[38;5;241m=\u001B[39mmetadata,\n\u001B[1;32m     22\u001B[0m     )\n\u001B[1;32m     24\u001B[0m     objects: Dict[\u001B[38;5;28mint\u001B[39m, \u001B[38;5;28mstr\u001B[39m] \u001B[38;5;241m=\u001B[39m {}\n",
      "\u001B[0;31mAssertionError\u001B[0m: "
     ]
    }
   ],
   "source": [
    "authors_to_add = [\n",
    "    wvc.DataObject(\n",
    "        properties={\n",
    "            \"name\": f\"Jim {i+1}\",\n",
    "            \"birth_year\": 1970 + i,\n",
    "            \"wroteArticle\": wvc.ReferenceFactory.to(uuids=[uuid])\n",
    "        },\n",
    "        # vector=[0.05] * 100\n",
    "    )\n",
    "    for i in range(10)\n",
    "]\n",
    "\n",
    "authors.data.insert_many(authors_to_add)"
   ],
   "metadata": {
    "collapsed": false,
    "ExecuteTime": {
     "end_time": "2023-09-15T16:58:30.390613Z",
     "start_time": "2023-09-15T16:58:30.195664Z"
    }
   }
  },
  {
   "cell_type": "markdown",
   "source": [
    "### Queries"
   ],
   "metadata": {
    "collapsed": false
   }
  },
  {
   "cell_type": "code",
   "execution_count": null,
   "outputs": [],
   "source": [
    "authors_to_add = [\n",
    "    wvc.DataObject(\n",
    "        properties={\n",
    "            \"name\": f\"Jim {i+1}\",\n",
    "            \"birth_year\": 1970 + i,\n",
    "            \"wroteArticle\": wvc.ReferenceFactory.to(uuids=[uuid])\n",
    "        },\n",
    "        # vector=[0.05] * 100\n",
    "    )\n",
    "    for i in range(10)\n",
    "]\n",
    "\n",
    "authors.data.insert_many(authors_to_add)"
   ],
   "metadata": {
    "collapsed": false
   }
  },
  {
   "cell_type": "markdown",
   "source": [
    "Get objects like this:"
   ],
   "metadata": {
    "collapsed": false
   }
  },
  {
   "cell_type": "code",
   "execution_count": null,
   "outputs": [],
   "source": [
    "response = articles.query.get(\n",
    "    limit=2,\n",
    "    return_properties=[\"title\", \"body\"],\n",
    "    return_metadata=wvc.MetadataQuery(uuid=True)\n",
    ")\n",
    "\n",
    "print(response)"
   ],
   "metadata": {
    "collapsed": false
   }
  },
  {
   "cell_type": "code",
   "execution_count": null,
   "outputs": [],
   "source": [
    "response = authors.query.get(\n",
    "    limit=2,\n",
    "    return_properties=[\"name\", \"birth_year\", wvc.LinkTo(link_on=\"wroteArticle\", return_properties=\"title\")],\n",
    "    return_metadata=wvc.MetadataQuery(uuid=True)\n",
    ")\n",
    "\n",
    "print(response)"
   ],
   "metadata": {
    "collapsed": false
   }
  },
  {
   "cell_type": "markdown",
   "source": [
    "Or like this:"
   ],
   "metadata": {
    "collapsed": false
   }
  },
  {
   "cell_type": "markdown",
   "source": [
    "All queries have these `flat` or `options` methods.\n",
    "- `flat` - The parameters to be provided are \"flat\" - individual parameters\n",
    "- `options` - The parameters to be provided are typed - like you see above with `wvc.GetOptions` and so on, and for returns.\n",
    "\n",
    "What do you prefer?"
   ],
   "metadata": {
    "collapsed": false
   }
  },
  {
   "cell_type": "markdown",
   "source": [
    "Also, notice that you get typed objects back!\n",
    "\n",
    "The returned objects have `properties` and `metadata`. Explore them and see what you find."
   ],
   "metadata": {
    "collapsed": false
   }
  },
  {
   "cell_type": "markdown",
   "source": [
    "**Task**: Can you construct a `nearText` query (with `options` and with `flat`)\n",
    "- for \"the dark side\"\n",
    "- with a certainty of 0.75\n",
    "- and get the distance\n",
    "\n",
    "Hint:\n",
    "If you don't see `NearTextOptions` in `weaviate.weaviate_classes` - you can get it from `weaviate.collection.classes.grpc` this will be available later."
   ],
   "metadata": {
    "collapsed": false
   }
  },
  {
   "cell_type": "code",
   "execution_count": null,
   "outputs": [],
   "source": [
    "import weaviate.collection.classes.filters as wv_filters\n",
    "\n",
    "response = articles.query.near_text(\n",
    "    query=\"The dark side\",\n",
    "    certainty=0.75,\n",
    "    return_properties=[\"title\", \"body\"],\n",
    "    return_metadata=wvc.MetadataQuery(uuid=True),\n",
    ")\n",
    "\n",
    "print(response)"
   ],
   "metadata": {
    "collapsed": false
   }
  },
  {
   "cell_type": "markdown",
   "source": [
    "**Task**: Can you construct a `bm25` query (with `options` and with `flat`)\n",
    "- with a query for `galaxy`"
   ],
   "metadata": {
    "collapsed": false
   }
  },
  {
   "cell_type": "code",
   "execution_count": null,
   "outputs": [],
   "source": [
    "response = articles.query.bm25(\n",
    "    query=\"galaxy\",\n",
    "    return_properties=[\"title\", \"body\"],\n",
    "    return_metadata=wvc.MetadataQuery(uuid=True)\n",
    ")\n",
    "\n",
    "print(response)"
   ],
   "metadata": {
    "collapsed": false
   }
  },
  {
   "cell_type": "code",
   "execution_count": null,
   "outputs": [],
   "source": [
    "response = authors.query.generative(\n",
    "    return_properties=[\"name\", \"birth_year\"],\n",
    "    return_metadata=wvc.MetadataQuery(uuid=True),\n",
    "    prompt_combined_results=\"Turn this into a haiku\"\n",
    ")"
   ],
   "metadata": {
    "collapsed": false
   }
  },
  {
   "cell_type": "code",
   "execution_count": null,
   "outputs": [],
   "source": [
    "response.objects[0]"
   ],
   "metadata": {
    "collapsed": false
   }
  },
  {
   "cell_type": "code",
   "execution_count": null,
   "outputs": [],
   "source": [
    "print(response)"
   ],
   "metadata": {
    "collapsed": false
   }
  },
  {
   "cell_type": "code",
   "execution_count": null,
   "outputs": [],
   "source": [
    "response.objects"
   ],
   "metadata": {
    "collapsed": false
   }
  },
  {
   "cell_type": "code",
   "execution_count": null,
   "outputs": [],
   "source": [],
   "metadata": {
    "collapsed": false
   }
  }
 ],
 "metadata": {
  "kernelspec": {
   "display_name": "Python 3 (ipykernel)",
   "language": "python",
   "name": "python3"
  },
  "language_info": {
   "codemirror_mode": {
    "name": "ipython",
    "version": 3
   },
   "file_extension": ".py",
   "mimetype": "text/x-python",
   "name": "python",
   "nbconvert_exporter": "python",
   "pygments_lexer": "ipython3",
   "version": "3.10.12"
  }
 },
 "nbformat": 4,
 "nbformat_minor": 5
}
