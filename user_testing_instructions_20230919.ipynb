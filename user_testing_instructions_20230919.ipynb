{
 "cells": [
  {
   "cell_type": "code",
   "execution_count": 1,
   "metadata": {
    "collapsed": false,
    "jupyter": {
     "outputs_hidden": false
    },
    "ExecuteTime": {
     "end_time": "2023-09-19T20:03:54.571511Z",
     "start_time": "2023-09-19T20:03:54.102505Z"
    }
   },
   "outputs": [
    {
     "name": "stdout",
     "output_type": "stream",
     "text": [
      "True\n"
     ]
    }
   ],
   "source": [
    "# user_test.py\n",
    "import weaviate\n",
    "from weaviate import Config\n",
    "import weaviate.weaviate_classes as wvc\n",
    "import os\n",
    "\n",
    "client = weaviate.Client(\n",
    "    \"http://localhost:8080\",\n",
    "    additional_config=Config(grpc_port_experimental=50051),\n",
    "    # ⬇️ Optional, if you want to try it with an inference API:\n",
    "    additional_headers={\n",
    "        \"X-OpenAI-Api-Key\": os.environ[\"OPENAI_APIKEY\"],  # Replace with your key\n",
    "    },\n",
    ")\n",
    "\n",
    "print(client.is_ready())"
   ]
  },
  {
   "cell_type": "code",
   "source": [
    "# Early user testing for the Weaviate 'collections' client\n",
    "\n",
    "Welcome!\n",
    "\n",
    "We have been working on a new (and hopefully improved) API for our Python client. We are excited for you to try it out and provide feedback for us.\n",
    "\n",
    "## Feedback\n",
    "\n",
    "If you have feedback about any part of this, we tell us to know. No answers or impressions are wrong.\n",
    "\n",
    "Also, you will see sections marked **Please provide feedback from this section**. These are areas in which we are particularly interested.\n",
    "\n",
    "## Installation\n",
    "\n",
    "We recommend you create a **new environment** (whether venv, or Conda/Mamba) for this, in a new project directory.\n",
    "\n",
    "#### How to create a virtual environment with `venv`\n",
    "\n",
    "Go to your project directory and run:\n",
    "\n",
    "```shell\n",
    "python -m venv .venv\n",
    "```\n",
    "\n",
    "(Depending on your setup, `python` might need to be `python3`)\n",
    "\n",
    "Then activate it with:\n",
    "\n",
    "```shell\n",
    "source .venv/bin/activate\n",
    "```\n",
    "\n",
    "### Client installation\n",
    "\n",
    "Once you are in your desired environment:\n",
    "\n",
    "```shell\n",
    "pip install -U \"git+https://github.com/weaviate/weaviate-python-client.git@pydantic_experiment#egg=weaviate-client[GRPC]\"\n",
    "```\n",
    "#### Start Weaviate\n",
    "\n",
    "You will also need a pre-release version of Weaviate. You can build your own with the Weaviate `image` from `https://github.com/weaviate/weaviate-python-client/blob/pydantic_experiment/ci/docker-compose.yml`, or use the provided example below.\n",
    "\n",
    "Save it as `docker-compose.yml` it in the project directory. Then, go to the directory and run `docker compose up -d`.\n",
    "\n",
    "```yaml\n",
    "---\n",
    "version: '3.4'\n",
    "services:\n",
    "  weaviate:\n",
    "    command:\n",
    "    - --host\n",
    "    - 0.0.0.0\n",
    "    - --port\n",
    "    - '8080'\n",
    "    - --scheme\n",
    "    - http\n",
    "    image: semitechnologies/weaviate:preview-fix-issues-with-references-and-toclass-autodetect-23ab716\n",
    "    restart: on-failure:0\n",
    "    ports:\n",
    "     - \"8080:8080\"\n",
    "     - \"50051:50051\"\n",
    "    environment:\n",
    "      QUERY_DEFAULTS_LIMIT: 25\n",
    "      QUERY_MAXIMUM_RESULTS: 10000\n",
    "      AUTHENTICATION_ANONYMOUS_ACCESS_ENABLED: 'true'\n",
    "      PERSISTENCE_DATA_PATH: '/var/lib/weaviate'\n",
    "      DEFAULT_VECTORIZER_MODULE: 'text2vec-openai'\n",
    "      ENABLE_MODULES: 'text2vec-contextionary,text2vec-openai,text2vec-cohere,text2vec-huggingface,text2vec-palm,generative-openai,generative-cohere'\n",
    "      CLUSTER_HOSTNAME: 'node1'\n",
    "      CONTEXTIONARY_URL: contextionary:9999\n",
    "      AUTOSCHEMA_ENABLED: 'false'\n",
    "  contextionary:\n",
    "    environment:\n",
    "      OCCURRENCE_WEIGHT_LINEAR_FACTOR: 0.75\n",
    "      EXTENSIONS_STORAGE_MODE: weaviate\n",
    "      EXTENSIONS_STORAGE_ORIGIN: http://weaviate:8080\n",
    "      NEIGHBOR_OCCURRENCE_IGNORE_PERCENTILE: 5\n",
    "      ENABLE_COMPOUND_SPLITTING: 'false'\n",
    "    image: semitechnologies/contextionary:en0.16.0-v1.2.1\n",
    "    ports:\n",
    "    - 9999:9999\n",
    "...\n",
    "```\n",
    "\n",
    "You can check that the containers are up and available by running `docker ps` from the shell. This should show two Docker containers running - like:\n",
    "\n",
    "```shell\n",
    "CONTAINER ID   IMAGE                                                                                        COMMAND                  CREATED          STATUS         PORTS                                              NAMES\n",
    "4be7efdff229   semitechnologies/contextionary:en0.16.0-v1.2.1                                               \"/contextionary-serv…\"   10 seconds ago   Up 9 seconds   0.0.0.0:9999->9999/tcp                             try_new_wv_api_202306-contextionary-1\n",
    "e90a63fe1e15   semitechnologies/weaviate:preview-automatically-return-all-props-metadata-for-refs-07fce6f   \"/bin/weaviate --hos…\"   10 seconds ago   Up 9 seconds   0.0.0.0:8080->8080/tcp, 0.0.0.0:50055->50051/tcp   try_new_wv_api_202306-weaviate-1\n",
    "```\n",
    "\n",
    "The `STATUS` should include `Up` and closely match the `CREATED` time.\n",
    "\n",
    "#### Troubleshooting\n",
    "\n",
    "If you get a gRPC related error, your gRPC port may not be open. Please try remapping it to another port (it can be anything). For example, you can change it from 50051 to 50055 by editing:\n",
    "\n",
    "```yaml\n",
    "    ports:\n",
    "     - \"8080:8080\"\n",
    "     - \"50051:50051\"\n",
    "```\n",
    "\n",
    "To\n",
    "\n",
    "```yaml\n",
    "    ports:\n",
    "     - \"8080:8080\"\n",
    "     - \"50055:50051\"\n",
    "```\n",
    "\n",
    "Note that this will require you to edit the gRPC port in the client for `grpc_port_experimental` below.\n",
    "\n",
    "## Try out the client\n",
    "\n",
    "We're good to go! Fire up your preferred way to edit / run Python code (Jupyter, VSCode, PyCharm, vim, whatever) and follow along.\n",
    "\n",
    "### Key ideas\n",
    "\n",
    "We are calling this the `collections` client, because many of the data interactions will be at the collections (currently called `Class` in Weaviate) level.\n",
    "\n",
    "From here, we will call Weaviate `classes`\n",
    "\n",
    "This client also includes custom Python classes to provide assistance for building collection definitions, objects, performing searches, and so on.\n",
    "\n",
    "You can import them individually, like so:\n",
    "\n",
    "```\n",
    "from weaviate.weaviate_classes import Property, ConfigFactory, VectorizerFactory, DataObject\n",
    "```\n",
    "\n",
    "But you can import the whole set of classes like this.\n",
    "\n",
    "```\n",
    "import weaviate.weaviate_classes as wvc\n",
    "```\n",
    "\n",
    "This will let you use them as required like `wvc.Property(...)` and so on.\n",
    "\n",
    "### Instantiation\n",
    "\n",
    "Run the below to connect to Weaviate. Note that you need a `grpc` port specified. It should return `True`."
   ],
   "metadata": {
    "collapsed": false
   },
   "execution_count": 1,
   "outputs": [
    {
     "name": "stdout",
     "output_type": "stream",
     "text": [
      "True\n"
     ]
    }
   ]
  },
  {
   "cell_type": "markdown",
   "source": [
    "(If you get an error, it may be gRPC port related. See the `TroubleShooting` note above)"
   ],
   "metadata": {
    "collapsed": false
   }
  },
  {
   "cell_type": "markdown",
   "metadata": {
    "collapsed": false,
    "jupyter": {
     "outputs_hidden": false
    }
   },
   "source": [
    "Run the below delete any existing classes, or in case you are re-running the same code:"
   ]
  },
  {
   "cell_type": "code",
   "execution_count": 2,
   "metadata": {
    "collapsed": false,
    "jupyter": {
     "outputs_hidden": false
    },
    "ExecuteTime": {
     "end_time": "2023-09-19T20:03:54.614985Z",
     "start_time": "2023-09-19T20:03:54.572913Z"
    }
   },
   "outputs": [],
   "source": [
    "# user_test.py\n",
    "for collection_name in [\"TestArticle\", \"TestAuthor\"]:\n",
    "    client.collection.delete(collection_name)"
   ]
  },
  {
   "cell_type": "markdown",
   "metadata": {
    "collapsed": false,
    "jupyter": {
     "outputs_hidden": false
    }
   },
   "source": [
    "\n",
    "### Collection creation\n",
    "\n",
    "#### Existing API\n",
    "\n",
    "The existing API uses a raw dictionary / JSON object to create classes, like so:\n",
    "\n",
    "```python\n",
    "# Old API example\n",
    "collection_definition = {\n",
    "    \"class\": \"Article\",\n",
    "    \"vectorizer\": \"text2vec-openai\",\n",
    "    \"vectorIndexConfig\": {\n",
    "        \"distance\": \"cosine\"\n",
    "    },\n",
    "    \"moduleConfig\": {\n",
    "        \"generative-openai\": {}\n",
    "    },\n",
    "    \"properties\": [\n",
    "        {\n",
    "            \"name\": \"title\",\n",
    "            \"dataType\": [\"text\"]\n",
    "        },\n",
    "        {\n",
    "            \"name\": \"chunk_no\",\n",
    "            \"dataType\": [\"int\"]\n",
    "        },\n",
    "        {\n",
    "            \"name\": \"url\",\n",
    "            \"dataType\": [\"text\"],\n",
    "            \"tokenization\": \"field\",\n",
    "            \"moduleConfig\": {\n",
    "                \"text2vec-openai\": {\n",
    "                    \"skip\": True\n",
    "                }\n",
    "            }\n",
    "        }\n",
    "    ]\n",
    "}\n",
    "\n",
    "client.schema.create_class(collection_definition)\n",
    "```\n",
    "\n",
    "Now, collection creation looks like this\n",
    "\n",
    "```python\n",
    "# New API example\n",
    "articles = client.collection.create(\n",
    "    name=\"TestArticle\",\n",
    "    properties=[\n",
    "        wvc.Property(\n",
    "            name=\"title\",\n",
    "            data_type=wvc.DataType.TEXT,\n",
    "        ),\n",
    "    ],\n",
    "    vectorizer_config=wvc.VectorizerFactory.text2vec_openai(),\n",
    "    replication_config=wvc.ConfigFactory.replication(factor=1),\n",
    ")\n",
    "```\n",
    "\n",
    "\n",
    "It uses Weaviate-specific classes to define properties (`wvc.Property`), specify vectorizers (`wvc.ConfigFactory`), and complex configuration options (`wvc.ConfigFactory`) and so on.\n",
    "\n",
    "The below is a partially complete collection definition. Please see if you can edit the below based on the comments:"
   ]
  },
  {
   "cell_type": "code",
   "execution_count": 3,
   "metadata": {
    "collapsed": false,
    "jupyter": {
     "outputs_hidden": false
    },
    "ExecuteTime": {
     "end_time": "2023-09-19T20:03:54.620613Z",
     "start_time": "2023-09-19T20:03:54.600969Z"
    }
   },
   "outputs": [],
   "source": [
    "# Edit the following to create collection definitions\n",
    "articles = client.collection.create(\n",
    "    name=\"TestArticle\",\n",
    "    properties=[\n",
    "        wvc.Property(\n",
    "            name=\"title\",\n",
    "            data_type=wvc.DataType.TEXT,\n",
    "        ),\n",
    "        # Try creating a new property 'body', with the text datatype\n",
    "        # Try creating a new property 'url', with the text datatype and field tokenization\n",
    "    ],\n",
    "    vectorizer_config=wvc.VectorizerFactory.text2vec_openai(),\n",
    "    replication_config=wvc.ConfigFactory.replication(factor=1),\n",
    "    # Try adding an inverted index config with property length\n",
    ")\n",
    "\n",
    "authors = client.collection.create(\n",
    "    name=\"TestAuthor\",\n",
    "    properties=[\n",
    "        wvc.Property(\n",
    "            name=\"name\",\n",
    "            data_type=wvc.DataType.TEXT,\n",
    "        ),\n",
    "        # Try creating a new property 'birth_year', with the int datatype\n",
    "        # Try creating a new cross-reference 'wroteArticle', linking to `TestArticle` collection\n",
    "    ],\n",
    "    # Add a Contextionary vectorizer\n",
    ")"
   ]
  },
  {
   "cell_type": "markdown",
   "metadata": {
    "collapsed": false,
    "jupyter": {
     "outputs_hidden": false
    }
   },
   "source": [
    "Here is one that we created as an example. Did you end up with the same?"
   ]
  },
  {
   "cell_type": "code",
   "execution_count": 4,
   "metadata": {
    "collapsed": false,
    "jupyter": {
     "outputs_hidden": false
    },
    "ExecuteTime": {
     "end_time": "2023-09-19T20:03:54.638735Z",
     "start_time": "2023-09-19T20:03:54.615551Z"
    }
   },
   "outputs": [
    {
     "name": "stdout",
     "output_type": "stream",
     "text": [
      "True\n",
      "True\n"
     ]
    }
   ],
   "source": [
    "# user_test.py\n",
    "for collection_name in [\"TestArticle\", \"TestAuthor\"]:\n",
    "    client.collection.delete(collection_name)\n",
    "\n",
    "articles = client.collection.create(\n",
    "    name=\"TestArticle\",\n",
    "    properties=[\n",
    "        wvc.Property(\n",
    "            name=\"title\",\n",
    "            data_type=wvc.DataType.TEXT,\n",
    "        ),\n",
    "        wvc.Property(\n",
    "            name=\"body\",\n",
    "            data_type=wvc.DataType.TEXT,\n",
    "        ),\n",
    "        wvc.Property(\n",
    "            name=\"url\",\n",
    "            data_type=wvc.DataType.TEXT,\n",
    "            tokenization=wvc.Tokenization.FIELD,\n",
    "        ),\n",
    "    ],\n",
    "    vectorizer_config=wvc.VectorizerFactory.text2vec_openai(),\n",
    "    replication_config=wvc.ConfigFactory.replication(factor=1),\n",
    "    inverted_index_config=wvc.ConfigFactory.inverted_index(\n",
    "        index_property_length=True\n",
    "    )\n",
    ")\n",
    "\n",
    "authors = client.collection.create(\n",
    "    name=\"TestAuthor\",\n",
    "    properties=[\n",
    "        wvc.Property(\n",
    "            name=\"name\",\n",
    "            data_type=wvc.DataType.TEXT,\n",
    "        ),\n",
    "        wvc.Property(\n",
    "            name=\"birth_year\",\n",
    "            data_type=wvc.DataType.INT,\n",
    "        ),\n",
    "        wvc.ReferenceProperty(name=\"wroteArticle\", target_collection=\"TestArticle\")\n",
    "    ],\n",
    "    vectorizer_config=wvc.VectorizerFactory.text2vec_openai(),\n",
    ")\n",
    "\n",
    "print(client.collection.exists(\"TestAuthor\"))\n",
    "print(client.collection.exists(\"TestArticle\"))"
   ]
  },
  {
   "cell_type": "markdown",
   "metadata": {
    "collapsed": false,
    "jupyter": {
     "outputs_hidden": false
    }
   },
   "source": [
    "You can also create an object from existing collections in Weaviate like this:"
   ]
  },
  {
   "cell_type": "code",
   "execution_count": 5,
   "metadata": {
    "collapsed": false,
    "jupyter": {
     "outputs_hidden": false
    },
    "ExecuteTime": {
     "end_time": "2023-09-19T20:03:54.659608Z",
     "start_time": "2023-09-19T20:03:54.639458Z"
    }
   },
   "outputs": [],
   "source": [
    "# user_test.py\n",
    "articles = client.collection.get(\"TestArticle\")\n",
    "authors = client.collection.get(\"TestAuthor\")"
   ]
  },
  {
   "cell_type": "markdown",
   "metadata": {
    "collapsed": false,
    "jupyter": {
     "outputs_hidden": false
    }
   },
   "source": [
    "#### Collection creation feedback\n",
    "\n",
    "Please score this on a scale of 1-5, where 1 is bad, 5 is good.\n",
    "\n",
    "- Was it an improvement (5), similar (3), or worse (1) than the existing API?\n",
    "    - Score?\n",
    "    - Any reasons?\n",
    "- How intuitive was the syntax to use? (Very intuitive: 5, unintuitive: 1)\n",
    "    - Score?\n",
    "    - Any reasons?\n",
    "- Are you happpy with this section in general? (Very happy: 5, not happy: 1)\n",
    "    - Score?\n",
    "    - Any reasons?\n",
    "- Any other notes?"
   ]
  },
  {
   "cell_type": "markdown",
   "metadata": {
    "collapsed": false,
    "jupyter": {
     "outputs_hidden": false
    }
   },
   "source": [
    "\n",
    "### Collection methods\n",
    "\n",
    "You should now see code autocomplete suggestions for the `articles` / `authors` objects. Two key submodules are:\n",
    "\n",
    "-  `data`: CRUD operations\n",
    "-  `query`: Search operations (old GraphQL, now gRPC)\n",
    "\n",
    "### CRUD operations\n",
    "\n",
    "You can add objects with the `insert` method.\n",
    "\n",
    "Run this to add an object to the `articles` collection:"
   ]
  },
  {
   "cell_type": "code",
   "execution_count": 6,
   "metadata": {
    "collapsed": false,
    "jupyter": {
     "outputs_hidden": false
    },
    "ExecuteTime": {
     "end_time": "2023-09-19T20:03:55.075480Z",
     "start_time": "2023-09-19T20:03:54.641895Z"
    }
   },
   "outputs": [
    {
     "name": "stdout",
     "output_type": "stream",
     "text": [
      "2fba92f8-11d0-475d-9edb-c237c76b22e0\n"
     ]
    }
   ],
   "source": [
    "# user_test.py\n",
    "my_first_obj = {\n",
    "    \"title\": \"Something something dark side\",\n",
    "    \"body\": \"A long long time ago, in a galaxy far, far away...\",\n",
    "    \"url\": \"http://www.starwars.com\"\n",
    "}\n",
    "\n",
    "article_uuid = articles.data.insert(my_first_obj)\n",
    "print(article_uuid)"
   ]
  },
  {
   "cell_type": "markdown",
   "metadata": {
    "collapsed": false,
    "jupyter": {
     "outputs_hidden": false
    }
   },
   "source": [
    "And run this to add an object to the `authors` collection:"
   ]
  },
  {
   "cell_type": "code",
   "execution_count": 7,
   "metadata": {
    "collapsed": false,
    "jupyter": {
     "outputs_hidden": false
    },
    "ExecuteTime": {
     "end_time": "2023-09-19T20:03:56.796855Z",
     "start_time": "2023-09-19T20:03:55.075718Z"
    }
   },
   "outputs": [
    {
     "name": "stdout",
     "output_type": "stream",
     "text": [
      "b16fc5b3-ad0f-4511-8af6-11325269a678\n"
     ]
    }
   ],
   "source": [
    "# user_test.py\n",
    "author_uuid = authors.data.insert(\n",
    "    {\n",
    "        \"name\": \"G Lucas\",\n",
    "        \"birth_year\": 1944,\n",
    "        \"wroteArticle\": wvc.ReferenceFactory.to(uuids=[article_uuid])\n",
    "    }\n",
    ")\n",
    "\n",
    "print(author_uuid)"
   ]
  },
  {
   "cell_type": "markdown",
   "metadata": {
    "collapsed": false,
    "jupyter": {
     "outputs_hidden": false
    }
   },
   "source": [
    "\n",
    "#### Add objects (batch)\n",
    "\n",
    "You can also add multiple objects at once. The new syntax allows you to pass a list of (wvc.DataObject) objects."
   ]
  },
  {
   "cell_type": "code",
   "execution_count": 8,
   "metadata": {
    "collapsed": false,
    "jupyter": {
     "outputs_hidden": false
    },
    "ExecuteTime": {
     "end_time": "2023-09-19T20:03:57.280750Z",
     "start_time": "2023-09-19T20:03:56.796216Z"
    }
   },
   "outputs": [],
   "source": [
    "# user_test.py\n",
    "articles_to_add = [\n",
    "    wvc.DataObject(\n",
    "        properties={\n",
    "            \"title\": f\"The best restaurants of {1980+i}:\",\n",
    "            \"body\": \"1. McDonald's, 2. ...\",\n",
    "            \"url\": \"ss\"\n",
    "        },\n",
    "    )\n",
    "    for i in range(5)\n",
    "]\n",
    "\n",
    "response = articles.data.insert_many(articles_to_add)"
   ]
  },
  {
   "cell_type": "markdown",
   "metadata": {
    "collapsed": false,
    "jupyter": {
     "outputs_hidden": false
    }
   },
   "source": [
    "The `response` object contains the UUIDs of the created objects, and more."
   ]
  },
  {
   "cell_type": "code",
   "execution_count": 9,
   "metadata": {
    "collapsed": false,
    "jupyter": {
     "outputs_hidden": false
    },
    "ExecuteTime": {
     "end_time": "2023-09-19T20:03:57.287152Z",
     "start_time": "2023-09-19T20:03:57.281353Z"
    }
   },
   "outputs": [
    {
     "name": "stdout",
     "output_type": "stream",
     "text": [
      "_BatchReturn(all_responses=[UUID('67cb4b6b-9a58-4f57-9e1c-d4ef5dba9c88'), UUID('9fd33f35-19d5-47ce-b5f3-787e7813858e'), UUID('fb698c8d-7a46-4c40-bb58-78043d39e1e4'), UUID('fc2bfeb1-89e8-4e21-9a2b-73f0aa453f82'), UUID('2463ca4f-ed9f-4946-84e3-1dd56a1e90e3')], uuids={0: UUID('67cb4b6b-9a58-4f57-9e1c-d4ef5dba9c88'), 1: UUID('9fd33f35-19d5-47ce-b5f3-787e7813858e'), 2: UUID('fb698c8d-7a46-4c40-bb58-78043d39e1e4'), 3: UUID('fc2bfeb1-89e8-4e21-9a2b-73f0aa453f82'), 4: UUID('2463ca4f-ed9f-4946-84e3-1dd56a1e90e3')}, errors={}, has_errors=False)\n"
     ]
    }
   ],
   "source": [
    "print(response)"
   ]
  },
  {
   "cell_type": "markdown",
   "metadata": {
    "collapsed": false,
    "jupyter": {
     "outputs_hidden": false
    }
   },
   "source": [
    "This is how we add some articles to 'authors', with a cross-reference to `articles`:"
   ]
  },
  {
   "cell_type": "code",
   "execution_count": 10,
   "metadata": {
    "collapsed": false,
    "jupyter": {
     "outputs_hidden": false
    },
    "ExecuteTime": {
     "end_time": "2023-09-19T20:03:57.686844Z",
     "start_time": "2023-09-19T20:03:57.292618Z"
    }
   },
   "outputs": [
    {
     "name": "stdout",
     "output_type": "stream",
     "text": [
      "_BatchReturn(all_responses=[UUID('6626a324-037a-4715-b57f-c5995b13990d'), UUID('02ed5311-86ec-4995-9efb-5af3810c33e6'), UUID('b3e1a61b-ba49-40f7-a10c-77e0ea249b8f'), UUID('8e5e96d6-01e8-4799-aa63-77b518e833b1'), UUID('541857a9-d851-41f7-8eb2-9f4b4a9a03bd')], uuids={0: UUID('6626a324-037a-4715-b57f-c5995b13990d'), 1: UUID('02ed5311-86ec-4995-9efb-5af3810c33e6'), 2: UUID('b3e1a61b-ba49-40f7-a10c-77e0ea249b8f'), 3: UUID('8e5e96d6-01e8-4799-aa63-77b518e833b1'), 4: UUID('541857a9-d851-41f7-8eb2-9f4b4a9a03bd')}, errors={}, has_errors=False)\n"
     ]
    }
   ],
   "source": [
    "# user_test.py\n",
    "authors_to_add = [\n",
    "    wvc.DataObject(\n",
    "        properties={\n",
    "            \"name\": f\"Jim {i+1}\",\n",
    "            \"birth_year\": 1970 + i,\n",
    "            \"wroteArticle\": wvc.ReferenceFactory.to(uuids=[article_uuid])\n",
    "        },\n",
    "        # vector=CUSTOM_VECTOR_HERE,  # To add custom vectors\n",
    "        # uuid=CUSTOM_UUID_HERE  # To specify custom UUIDs\n",
    "    )\n",
    "    for i in range(5)\n",
    "]\n",
    "\n",
    "response = authors.data.insert_many(authors_to_add)\n",
    "print(response)"
   ]
  },
  {
   "cell_type": "markdown",
   "metadata": {
    "collapsed": false,
    "jupyter": {
     "outputs_hidden": false
    }
   },
   "source": [
    "#### Errors\n",
    "\n",
    "The client will now automatically capture errors. Try this example, where the `url` property is erroneously provided a numerical value for one of the inputs:"
   ]
  },
  {
   "cell_type": "code",
   "execution_count": 11,
   "metadata": {
    "collapsed": false,
    "jupyter": {
     "outputs_hidden": false
    },
    "ExecuteTime": {
     "end_time": "2023-09-19T20:03:58.158481Z",
     "start_time": "2023-09-19T20:03:57.688200Z"
    }
   },
   "outputs": [],
   "source": [
    "articles_to_add = [\n",
    "    wvc.DataObject(\n",
    "        properties={\n",
    "            \"title\": f\"The best restaurants of {1980+i}:\",\n",
    "            \"body\": \"1. McDonald's, 2. ...\",\n",
    "            \"url\": str(i) if i != 2 else i\n",
    "        },\n",
    "    )\n",
    "    for i in range(5)\n",
    "]\n",
    "\n",
    "response = articles.data.insert_many(articles_to_add)"
   ]
  },
  {
   "cell_type": "markdown",
   "metadata": {
    "collapsed": false,
    "jupyter": {
     "outputs_hidden": false
    }
   },
   "source": [
    "Inspecting the `errors` attribute allows you to see the index of the object, and the error message!"
   ]
  },
  {
   "cell_type": "code",
   "execution_count": 12,
   "metadata": {
    "collapsed": false,
    "jupyter": {
     "outputs_hidden": false
    },
    "ExecuteTime": {
     "end_time": "2023-09-19T20:03:58.165695Z",
     "start_time": "2023-09-19T20:03:58.158952Z"
    }
   },
   "outputs": [
    {
     "name": "stdout",
     "output_type": "stream",
     "text": [
      "{2: Error(message=\"invalid text property 'url' on class 'TestArticle': not a string, but float64\", code=None, original_uuid=None)}\n"
     ]
    }
   ],
   "source": [
    "print(response.errors)"
   ]
  },
  {
   "cell_type": "markdown",
   "metadata": {
    "collapsed": false,
    "jupyter": {
     "outputs_hidden": false
    }
   },
   "source": [
    "#### CRUD operations feedback\n",
    "\n",
    "Please score this on a scale of 1-5, where 1 is bad, 5 is good.\n",
    "\n",
    "- Was it an improvement (5), similar (3), or worse (1) than the existing API?\n",
    "    - Score?\n",
    "    - Any reasons?\n",
    "- How intuitive was the syntax to use? (Very intuitive: 5, unintuitive: 1)\n",
    "    - Score?\n",
    "    - Any reasons?\n",
    "- Are you happpy with this section in general? (Very happy: 5, not happy: 1)\n",
    "    - Score?\n",
    "    - Any reasons?\n",
    "- Any other notes?"
   ]
  },
  {
   "cell_type": "markdown",
   "metadata": {
    "collapsed": false,
    "jupyter": {
     "outputs_hidden": false
    }
   },
   "source": [
    "### Queries\n",
    "\n",
    "Now you have data on which you can try out queries!\n",
    "\n",
    "You can now fetch objects like this:"
   ]
  },
  {
   "cell_type": "code",
   "execution_count": 13,
   "metadata": {
    "collapsed": false,
    "jupyter": {
     "outputs_hidden": false
    },
    "ExecuteTime": {
     "end_time": "2023-09-19T20:03:58.173584Z",
     "start_time": "2023-09-19T20:03:58.166210Z"
    }
   },
   "outputs": [
    {
     "name": "stdout",
     "output_type": "stream",
     "text": [
      "_QueryReturn(objects=[_Object(properties={'title': 'The best restaurants of 1984:', 'body': \"1. McDonald's, 2. ...\", 'url': 'ss'}, metadata=_MetadataReturn(uuid=UUID('2463ca4f-ed9f-4946-84e3-1dd56a1e90e3'), vector=None, creation_time_unix=1695153836800, last_update_time_unix=1695153836800, distance=None, certainty=None, score=0.0, explain_score='', is_consistent=False, generative=None)), _Object(properties={'title': 'Something something dark side', 'body': 'A long long time ago, in a galaxy far, far away...', 'url': 'http://www.starwars.com'}, metadata=_MetadataReturn(uuid=UUID('2fba92f8-11d0-475d-9edb-c237c76b22e0'), vector=None, creation_time_unix=1695153834643, last_update_time_unix=1695153834643, distance=None, certainty=None, score=0.0, explain_score='', is_consistent=False, generative=None))])\n"
     ]
    }
   ],
   "source": [
    "response = articles.query.fetch_objects(limit=2)\n",
    "\n",
    "print(response)"
   ]
  },
  {
   "cell_type": "markdown",
   "metadata": {
    "collapsed": false,
    "jupyter": {
     "outputs_hidden": false
    }
   },
   "source": [
    "Notice how you don't have to specify the collection name (provided in the object), and properties to retrieve.\n",
    "\n",
    "You can also specify these if you wish."
   ]
  },
  {
   "cell_type": "code",
   "execution_count": 14,
   "metadata": {
    "collapsed": false,
    "jupyter": {
     "outputs_hidden": false
    },
    "ExecuteTime": {
     "end_time": "2023-09-19T20:03:58.180013Z",
     "start_time": "2023-09-19T20:03:58.172785Z"
    }
   },
   "outputs": [
    {
     "name": "stdout",
     "output_type": "stream",
     "text": [
      "_QueryReturn(objects=[_Object(properties={'title': 'The best restaurants of 1984:'}, metadata=_MetadataReturn(uuid=UUID('2463ca4f-ed9f-4946-84e3-1dd56a1e90e3'), vector=None, creation_time_unix=None, last_update_time_unix=None, distance=None, certainty=None, score=None, explain_score=None, is_consistent=False, generative=None)), _Object(properties={'title': 'Something something dark side'}, metadata=_MetadataReturn(uuid=UUID('2fba92f8-11d0-475d-9edb-c237c76b22e0'), vector=None, creation_time_unix=None, last_update_time_unix=None, distance=None, certainty=None, score=None, explain_score=None, is_consistent=False, generative=None))])\n"
     ]
    }
   ],
   "source": [
    "response = articles.query.fetch_objects(\n",
    "    limit=2,\n",
    "    return_properties=[\"title\"],\n",
    "    return_metadata=wvc.MetadataQuery(uuid=True)  # MetaDataQuery object is used to specify the metadata to be returned\n",
    ")\n",
    "\n",
    "print(response)"
   ]
  },
  {
   "cell_type": "markdown",
   "metadata": {
    "collapsed": false,
    "jupyter": {
     "outputs_hidden": false
    }
   },
   "source": [
    "#### Near text search"
   ]
  },
  {
   "cell_type": "code",
   "execution_count": 15,
   "metadata": {
    "collapsed": false,
    "jupyter": {
     "outputs_hidden": false
    },
    "scrolled": true,
    "ExecuteTime": {
     "end_time": "2023-09-19T20:03:58.521109Z",
     "start_time": "2023-09-19T20:03:58.181544Z"
    }
   },
   "outputs": [
    {
     "name": "stdout",
     "output_type": "stream",
     "text": [
      "_QueryReturn(objects=[_Object(properties={'title': 'Something something dark side', 'body': 'A long long time ago, in a galaxy far, far away...', 'url': 'http://www.starwars.com'}, metadata=_MetadataReturn(uuid=UUID('2fba92f8-11d0-475d-9edb-c237c76b22e0'), vector=None, creation_time_unix=1695153834643, last_update_time_unix=1695153834643, distance=0.1809372901916504, certainty=0.9095313549041748, score=0.0, explain_score='', is_consistent=False, generative=None)), _Object(properties={'title': 'The best restaurants of 1980:', 'body': \"1. McDonald's, 2. ...\", 'url': '0'}, metadata=_MetadataReturn(uuid=UUID('6be33725-4b43-4eea-bbf6-2e92598d3c5d'), vector=None, creation_time_unix=1695153837688, last_update_time_unix=1695153837688, distance=0.27976858615875244, certainty=0.8601157069206238, score=0.0, explain_score='', is_consistent=False, generative=None))])\n"
     ]
    }
   ],
   "source": [
    "response = articles.query.near_text(\n",
    "    query=\"The dark side\",\n",
    "    limit=2,\n",
    ")\n",
    "\n",
    "print(response)"
   ]
  },
  {
   "cell_type": "markdown",
   "metadata": {},
   "source": [
    "**Suggestion**: Try different queries, like bm25 or hybrid."
   ]
  },
  {
   "cell_type": "markdown",
   "source": [
    "#### Filters\n",
    "\n",
    "You can add filters like so, with a `Filter` object:"
   ],
   "metadata": {
    "collapsed": false
   }
  },
  {
   "cell_type": "code",
   "execution_count": 16,
   "outputs": [
    {
     "name": "stdout",
     "output_type": "stream",
     "text": [
      "1974.0\n",
      "1971.0\n",
      "1972.0\n",
      "1973.0\n"
     ]
    }
   ],
   "source": [
    "response = authors.query.fetch_objects(\n",
    "  filters=wvc.Filter(path=[\"birth_year\"]).greater_or_equal(1971)    # Filter object is used to specify the filter\n",
    ")\n",
    "\n",
    "for o in response.objects:\n",
    "    print(o.properties[\"birth_year\"])"
   ],
   "metadata": {
    "collapsed": false,
    "ExecuteTime": {
     "end_time": "2023-09-19T20:03:58.529290Z",
     "start_time": "2023-09-19T20:03:58.519210Z"
    }
   }
  },
  {
   "cell_type": "markdown",
   "source": [
    "**Suggestion**: Try constructing different filters!"
   ],
   "metadata": {
    "collapsed": false
   }
  },
  {
   "cell_type": "markdown",
   "metadata": {
    "collapsed": false,
    "jp-MarkdownHeadingCollapsed": true,
    "jupyter": {
     "outputs_hidden": false
    }
   },
   "source": [
    "#### Queries feedback\n",
    "\n",
    "Please score this on a scale of 1-5, where 1 is bad, 5 is good.\n",
    "\n",
    "- Was it an improvement (5), similar (3), or worse (1) than the existing API?\n",
    "    - Score?\n",
    "    - Any reasons?\n",
    "- How intuitive was the syntax to use? (Very intuitive: 5, unintuitive: 1)\n",
    "    - Score?\n",
    "    - Any reasons?\n",
    "- Are you happpy with this section in general? (Very happy: 5, not happy: 1)\n",
    "    - Score?\n",
    "    - Any reasons?\n",
    "- Any other notes?"
   ]
  },
  {
   "cell_type": "markdown",
   "metadata": {},
   "source": [
    "### Retrieval augmented generation (RAG)"
   ]
  },
  {
   "cell_type": "markdown",
   "source": [
    "Let's load some data and try RAG fun:"
   ],
   "metadata": {
    "collapsed": false
   }
  },
  {
   "cell_type": "code",
   "execution_count": 17,
   "outputs": [
    {
     "name": "stderr",
     "output_type": "stream",
     "text": [
      "/Users/jphwang/code/sandpit/try_new_wv_api_202306/.venv/lib/python3.10/site-packages/weaviate/warnings.py:131: DeprecationWarning: Dep006: You are using the `client.batch()` method, which will be removed in the next major release.\n",
      "            Please instead use the `client.batch.configure()` method to configure your batch and `client.batch` to enter the context manager.\n",
      "            See https://weaviate.io/developers/weaviate/client-libraries/python for details.\n",
      "  warnings.warn(\n",
      "1000it [00:03, 318.71it/s]\n"
     ]
    },
    {
     "data": {
      "text/plain": "True"
     },
     "execution_count": 17,
     "metadata": {},
     "output_type": "execute_result"
    }
   ],
   "source": [
    "import weaviate_datasets as wd\n",
    "\n",
    "dataset = wd.JeopardyQuestions1k()  # <-- Comes with pre-vectorized data\n",
    "dataset.upload_dataset(client, 300)"
   ],
   "metadata": {
    "collapsed": false,
    "ExecuteTime": {
     "end_time": "2023-09-19T20:04:02.616199Z",
     "start_time": "2023-09-19T20:03:58.530680Z"
    }
   }
  },
  {
   "cell_type": "markdown",
   "source": [
    "RAG functionality is now available from within each search, through an additional argument:"
   ],
   "metadata": {
    "collapsed": false
   }
  },
  {
   "cell_type": "code",
   "execution_count": 26,
   "outputs": [],
   "source": [
    "from weaviate.collection.classes.grpc import Generate  # <-- This class will be available from `wvc` shortly\n",
    "\n",
    "questions = client.collection.get(\"JeopardyQuestion\")"
   ],
   "metadata": {
    "collapsed": false,
    "ExecuteTime": {
     "end_time": "2023-09-19T20:09:58.857411Z",
     "start_time": "2023-09-19T20:09:58.849551Z"
    }
   }
  },
  {
   "cell_type": "markdown",
   "source": [
    "Grouped task, for example like this:"
   ],
   "metadata": {
    "collapsed": false
   }
  },
  {
   "cell_type": "code",
   "execution_count": 24,
   "outputs": [
    {
     "name": "stdout",
     "output_type": "stream",
     "text": [
      "_GenerativeReturn(objects=[_Object(properties={'points': 200.0, 'air_date': '2001-09-21T00:00:00Z', 'answer': 'Venus', 'question': \"In March 1966 the USSR's Venera 3 became the first space probe to physically touch another planet, this one\", 'round': 'Double Jeopardy!'}, metadata=_MetadataReturn(uuid=UUID('33e88b70-19f7-5cb6-9f61-6c6925905afd'), vector=None, creation_time_unix=1695153841446, last_update_time_unix=1695153841939, distance=0.156119704246521, certainty=0.9219401478767395, score=0.0, explain_score='', is_consistent=False, generative=None)), _Object(properties={'points': 800.0, 'answer': 'Gemini', 'air_date': '2009-10-15T00:00:00Z', 'round': 'Jeopardy!', 'question': '<a href=\"http://www.j-archive.com/media/2009-10-15_J_09.jpg\" target=\"_blank\">Buzz Aldrin & Jim Lovell</a> do look like <a href=\"http://www.j-archive.com/media/2009-10-15_J_09a.jpg\" target=\"_blank\">twins</a> as they prepare for a mission in this 1960s program'}, metadata=_MetadataReturn(uuid=UUID('ac922ee4-f036-59b0-8ca3-2f917234b83b'), vector=None, creation_time_unix=1695153841446, last_update_time_unix=1695153841939, distance=0.18519413471221924, certainty=0.9074029326438904, score=0.0, explain_score='', is_consistent=False, generative=None)), _Object(properties={'points': 400.0, 'air_date': '1999-01-25T00:00:00Z', 'answer': 'Sojourner Truth', 'round': 'Double Jeopardy!', 'question': 'A device named for this woman drove around Mars'}, metadata=_MetadataReturn(uuid=UUID('91ffefde-8c46-505f-a7b5-653c888312fa'), vector=None, creation_time_unix=1695153841446, last_update_time_unix=1695153841937, distance=0.19066286087036133, certainty=0.9046685695648193, score=0.0, explain_score='', is_consistent=False, generative=None))], generated=\"Venera touched Venus,\\nFirst probe to reach another,\\nPlanet's surface kissed.\\n\\nGemini twins prepare,\\nBuzz and Jim, ready for flight,\\n1960s mission.\\n\\nSojourner Truth's name,\\nMars rover explores unknown,\\nHer legacy lives.\")\n"
     ]
    }
   ],
   "source": [
    "response = questions.query.near_text(\n",
    "    query=\"Moon landing\",\n",
    "    limit=3,\n",
    "    generate=Generate(grouped_task=\"Write a haiku from these facts\")\n",
    ")\n",
    "\n",
    "print(response)"
   ],
   "metadata": {
    "collapsed": false,
    "ExecuteTime": {
     "end_time": "2023-09-19T20:09:18.404023Z",
     "start_time": "2023-09-19T20:09:15.157201Z"
    }
   }
  },
  {
   "cell_type": "markdown",
   "source": [
    "The generated text is now available like this:"
   ],
   "metadata": {
    "collapsed": false
   }
  },
  {
   "cell_type": "code",
   "execution_count": 25,
   "outputs": [
    {
     "name": "stdout",
     "output_type": "stream",
     "text": [
      "Venera touched Venus,\n",
      "First probe to reach another,\n",
      "Planet's surface kissed.\n",
      "\n",
      "Gemini twins prepare,\n",
      "Buzz and Jim, ready for flight,\n",
      "1960s mission.\n",
      "\n",
      "Sojourner Truth's name,\n",
      "Mars rover explores unknown,\n",
      "Her legacy lives.\n"
     ]
    }
   ],
   "source": [
    "print(response.generated)"
   ],
   "metadata": {
    "collapsed": false,
    "ExecuteTime": {
     "end_time": "2023-09-19T20:09:33.143702Z",
     "start_time": "2023-09-19T20:09:33.141513Z"
    }
   }
  },
  {
   "cell_type": "markdown",
   "source": [
    "And for single promps:"
   ],
   "metadata": {
    "collapsed": false
   }
  },
  {
   "cell_type": "code",
   "execution_count": 27,
   "outputs": [
    {
     "name": "stdout",
     "output_type": "stream",
     "text": [
      "_GenerativeReturn(objects=[_Object(properties={'points': 1000.0, 'answer': 'Poland', 'air_date': '1990-04-17T00:00:00Z', 'question': 'A 1795 partition ended its existence as a separate state in E. Europe; in 1918 it was back as a republic', 'round': 'Double Jeopardy!'}, metadata=_MetadataReturn(uuid=UUID('bb545f85-48c9-5bdf-8c58-0cb3d6f5767f'), vector=None, creation_time_unix=1695153842367, last_update_time_unix=1695153842603, distance=0.17593902349472046, certainty=0.9120304584503174, score=0.0, explain_score='', is_consistent=False, generative='1795年の分割により、東ヨーロッパの別々の国家としての存在は終わりを迎えました。1918年には共和国として復活しました。')), _Object(properties={'points': 200.0, 'answer': 'Slavs', 'air_date': '1985-11-19T00:00:00Z', 'question': 'Word “slavery” comes from these eastern Europeans who were often enslaved by conquerors', 'round': 'Jeopardy!'}, metadata=_MetadataReturn(uuid=UUID('4d50646c-5089-5142-a471-f49ba11a8ce7'), vector=None, creation_time_unix=1695153842367, last_update_time_unix=1695153842604, distance=0.17721664905548096, certainty=0.9113916754722595, score=0.0, explain_score='', is_consistent=False, generative='「奴隷」という言葉は、しばしば征服者によって奴隷化された東欧の人々に由来しています。'))], generated=None)\n"
     ]
    }
   ],
   "source": [
    "response = questions.query.near_text(\n",
    "    query=\"European history\",\n",
    "    limit=2,\n",
    "    generate=Generate(single_prompt=\"Re-write this in Japanese: {question}\")\n",
    ")\n",
    "\n",
    "print(response)"
   ],
   "metadata": {
    "collapsed": false,
    "ExecuteTime": {
     "end_time": "2023-09-19T20:10:59.645532Z",
     "start_time": "2023-09-19T20:10:55.948191Z"
    }
   }
  },
  {
   "cell_type": "markdown",
   "source": [
    "Try navigating through each result here:"
   ],
   "metadata": {
    "collapsed": false
   }
  },
  {
   "cell_type": "code",
   "execution_count": 19,
   "outputs": [
    {
     "data": {
      "text/plain": "'1795年の分割により、東ヨーロッパの別々の国家としての存在は終わりを迎えました。1918年には共和国として復活しました。'"
     },
     "execution_count": 19,
     "metadata": {},
     "output_type": "execute_result"
    }
   ],
   "source": [
    "print(response.objects[0].metadata.generative)\n",
    "print(response.objects[0].metadata.generative)"
   ],
   "metadata": {
    "collapsed": false,
    "ExecuteTime": {
     "end_time": "2023-09-19T20:04:05.674313Z",
     "start_time": "2023-09-19T20:04:05.670107Z"
    }
   }
  },
  {
   "cell_type": "markdown",
   "metadata": {
    "collapsed": false,
    "jupyter": {
     "outputs_hidden": false
    }
   },
   "source": [
    "#### RAG feedback\n",
    "\n",
    "Please score this on a scale of 1-5, where 1 is bad, 5 is good.\n",
    "\n",
    "- Was it an improvement (5), similar (3), or worse (1) than the existing API?\n",
    "    - Score?\n",
    "    - Any reasons?\n",
    "- How intuitive was the syntax to use? (Very intuitive: 5, unintuitive: 1)\n",
    "    - Score?\n",
    "    - Any reasons?\n",
    "- Are you happpy with this section in general? (Very happy: 5, not happy: 1)\n",
    "    - Score?\n",
    "    - Any reasons?\n",
    "- Any other notes?"
   ]
  },
  {
   "cell_type": "code",
   "execution_count": null,
   "metadata": {},
   "outputs": [],
   "source": []
  }
 ],
 "metadata": {
  "kernelspec": {
   "display_name": "Python 3 (ipykernel)",
   "language": "python",
   "name": "python3"
  },
  "language_info": {
   "codemirror_mode": {
    "name": "ipython",
    "version": 3
   },
   "file_extension": ".py",
   "mimetype": "text/x-python",
   "name": "python",
   "nbconvert_exporter": "python",
   "pygments_lexer": "ipython3",
   "version": "3.10.12"
  }
 },
 "nbformat": 4,
 "nbformat_minor": 4
}
