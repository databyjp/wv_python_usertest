{
 "cells": [
  {
   "cell_type": "code",
   "execution_count": 14,
   "id": "64950ec0-3e88-487d-8f5c-626a9fc75ef3",
   "metadata": {
    "ExecuteTime": {
     "end_time": "2023-07-28T13:17:26.252741Z",
     "start_time": "2023-07-28T13:17:25.908233Z"
    }
   },
   "outputs": [],
   "source": [
    "import weaviate\n",
    "import os\n",
    "\n",
    "client = weaviate.Client(\n",
    "    \"http://localhost:8089\",\n",
    "    additional_headers={\n",
    "        \"X-OpenAI-Api-Key\": os.environ[\"OPENAI_APIKEY\"],\n",
    "        \"X-Cohere-Api-Key\": os.environ[\"COHERE_APIKEY\"]\n",
    "    }\n",
    ")"
   ]
  },
  {
   "cell_type": "code",
   "execution_count": 21,
   "metadata": {
    "ExecuteTime": {
     "end_time": "2023-07-28T13:17:40.679321Z",
     "start_time": "2023-07-28T13:17:40.646025Z"
    },
    "collapsed": false
   },
   "outputs": [],
   "source": [
    "client.schema.delete_all()"
   ]
  },
  {
   "cell_type": "code",
   "execution_count": 22,
   "id": "2878a187-ca0b-4d4d-8013-ae71a0fedd1a",
   "metadata": {
    "ExecuteTime": {
     "end_time": "2023-07-28T13:17:44.072833Z",
     "start_time": "2023-07-28T13:17:44.041305Z"
    }
   },
   "outputs": [],
   "source": [
    "from weaviate import weaviate_classes as wvc\n",
    "\n",
    "cat_collection_config = wvc.CollectionConfig(\n",
    "    name=\"Category\",\n",
    "    properties=[\n",
    "        wvc.Property(\n",
    "            name=\"title\", \n",
    "            dataType=wvc.DataType.TEXT,\n",
    "            tokenization=wvc.Tokenization.FIELD\n",
    "        ),\n",
    "    ],\n",
    "    vectorizer=wvc.Vectorizer.TEXT2VEC_OPENAI,\n",
    "    # QUESTION FOR DIRK - ⬇️ doesn't work any more?\n",
    "    # =======================================================\n",
    "    # invertedIndexConfig=wvc.InvertedIndexConfig(\n",
    "    #     indexPropertyLength=True\n",
    "    # )\n",
    ")\n",
    "\n",
    "cat_collection = client.collection.create(cat_collection_config)"
   ]
  },
  {
   "cell_type": "code",
   "execution_count": 23,
   "id": "8a067c39",
   "metadata": {},
   "outputs": [
    {
     "data": {
      "text/plain": [
       "UUID('f0b0f679-e562-4b16-a90a-ead776793837')"
      ]
     },
     "execution_count": 23,
     "metadata": {},
     "output_type": "execute_result"
    }
   ],
   "source": [
    "cat_collection.insert(\n",
    "    {\"title\": \"Famous people\"}\n",
    ")"
   ]
  },
  {
   "cell_type": "code",
   "execution_count": 24,
   "id": "e1feb538",
   "metadata": {},
   "outputs": [],
   "source": [
    "question_collection_config = wvc.CollectionConfig(\n",
    "    name=\"Question\",\n",
    "    properties=[\n",
    "        wvc.Property(name=\"question\", dataType=wvc.DataType.TEXT),\n",
    "        wvc.ReferenceProperty(name=\"hasCategory\", reference_class_name=\"Category\")\n",
    "    ],\n",
    "    vectorizer=wvc.Vectorizer.TEXT2VEC_OPENAI)\n",
    "question_collection = client.collection.create(question_collection_config)"
   ]
  },
  {
   "cell_type": "code",
   "execution_count": 25,
   "id": "d0b3f9ed",
   "metadata": {},
   "outputs": [
    {
     "data": {
      "text/plain": [
       "UUID('7b70183d-b099-5274-a489-cb33f60b2d45')"
      ]
     },
     "execution_count": 25,
     "metadata": {},
     "output_type": "execute_result"
    }
   ],
   "source": [
    "from weaviate.util import generate_uuid5\n",
    "question_collection.insert(\n",
    "    {\n",
    "        \"question\": \"This person wrote 'Hey Jude'\", \n",
    "        \"hasCategory\": wvc.RefToObject('f0b0f679-e562-4b16-a90a-ead776793837')\n",
    "    }, \n",
    "    uuid = generate_uuid5(\"This person wrote 'Hey Jude'\")\n",
    ")"
   ]
  }
 ],
 "metadata": {
  "kernelspec": {
   "display_name": "Python 3 (ipykernel)",
   "language": "python",
   "name": "python3"
  },
  "language_info": {
   "codemirror_mode": {
    "name": "ipython",
    "version": 3
   },
   "file_extension": ".py",
   "mimetype": "text/x-python",
   "name": "python",
   "nbconvert_exporter": "python",
   "pygments_lexer": "ipython3",
   "version": "3.10.12"
  }
 },
 "nbformat": 4,
 "nbformat_minor": 5
}
