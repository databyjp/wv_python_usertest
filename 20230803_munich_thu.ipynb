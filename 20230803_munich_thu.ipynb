{
 "cells": [
  {
   "cell_type": "code",
   "execution_count": 18,
   "metadata": {
    "collapsed": true,
    "ExecuteTime": {
     "end_time": "2023-08-03T13:23:20.339936Z",
     "start_time": "2023-08-03T13:23:19.979450Z"
    }
   },
   "outputs": [
    {
     "data": {
      "text/plain": "{'classes': []}"
     },
     "execution_count": 18,
     "metadata": {},
     "output_type": "execute_result"
    }
   ],
   "source": [
    "import weaviate\n",
    "import os\n",
    "client = weaviate.Client(\n",
    "    \"http://localhost:8082\",\n",
    "    additional_headers={\n",
    "        \"X-OpenAI-Api-Key\": os.getenv(\"OPENAI_APIKEY\")\n",
    "    }\n",
    ")\n",
    "client.schema.delete_all()\n",
    "client.schema.get()"
   ]
  },
  {
   "cell_type": "code",
   "execution_count": 19,
   "outputs": [],
   "source": [
    "import weaviate.weaviate_classes as wvc\n",
    "\n",
    "cat_collection_config = wvc.CollectionConfig(\n",
    "    name=\"JeopardyCategory\",\n",
    "    description=\"A Jeopardy! category\",\n",
    "    properties=[\n",
    "        wvc.Property(\n",
    "            name=\"title\",\n",
    "            dataType=wvc.DataType.TEXT,\n",
    "            tokenization=wvc.Tokenization.FIELD\n",
    "        ),\n",
    "    ],\n",
    "    vectorizer=wvc.Vectorizer.TEXT2VEC_OPENAI,\n",
    "\n",
    "    # QUESTION FOR DIRK - are invertedIndexConfig and vectorIndexConfig availble yet?\n",
    ")\n",
    "\n",
    "categories = client.collection.create(cat_collection_config)"
   ],
   "metadata": {
    "collapsed": false,
    "ExecuteTime": {
     "end_time": "2023-08-03T13:23:21.149885Z",
     "start_time": "2023-08-03T13:23:21.092806Z"
    }
   }
  },
  {
   "cell_type": "code",
   "execution_count": 20,
   "outputs": [
    {
     "name": "stdout",
     "output_type": "stream",
     "text": [
      "70ce1fe3-7eba-44e1-b22a-6b4b6da8f93d\n"
     ]
    }
   ],
   "source": [
    "cat_uuid = categories.data.insert(\n",
    "    {\"title\": \"Famous people\"}\n",
    ")\n",
    "print(cat_uuid)"
   ],
   "metadata": {
    "collapsed": false,
    "ExecuteTime": {
     "end_time": "2023-08-03T13:23:23.525465Z",
     "start_time": "2023-08-03T13:23:21.874146Z"
    }
   }
  },
  {
   "cell_type": "code",
   "execution_count": 21,
   "outputs": [
    {
     "ename": "AttributeError",
     "evalue": "'NoneType' object has no attribute 'Search'",
     "output_type": "error",
     "traceback": [
      "\u001B[0;31m---------------------------------------------------------------------------\u001B[0m",
      "\u001B[0;31mAttributeError\u001B[0m                            Traceback (most recent call last)",
      "Cell \u001B[0;32mIn[21], line 1\u001B[0m\n\u001B[0;32m----> 1\u001B[0m \u001B[43mcategories\u001B[49m\u001B[38;5;241;43m.\u001B[39;49m\u001B[43mquery\u001B[49m\u001B[38;5;241;43m.\u001B[39;49m\u001B[43mget_flat\u001B[49m\u001B[43m(\u001B[49m\u001B[43mlimit\u001B[49m\u001B[38;5;241;43m=\u001B[39;49m\u001B[38;5;241;43m2\u001B[39;49m\u001B[43m)\u001B[49m\n",
      "File \u001B[0;32m~/code/sandpit/try_new_wv_api_202306/.venv/lib/python3.10/site-packages/weaviate/collection/collection.py:55\u001B[0m, in \u001B[0;36m_Grpc.get_flat\u001B[0;34m(self, limit, offset, after, return_metadata, return_properties)\u001B[0m\n\u001B[1;32m     45\u001B[0m \u001B[38;5;28;01mdef\u001B[39;00m \u001B[38;5;21mget_flat\u001B[39m(\n\u001B[1;32m     46\u001B[0m     \u001B[38;5;28mself\u001B[39m,\n\u001B[1;32m     47\u001B[0m     limit: Optional[\u001B[38;5;28mint\u001B[39m] \u001B[38;5;241m=\u001B[39m \u001B[38;5;28;01mNone\u001B[39;00m,\n\u001B[0;32m   (...)\u001B[0m\n\u001B[1;32m     51\u001B[0m     return_properties: Optional[PROPERTIES] \u001B[38;5;241m=\u001B[39m \u001B[38;5;28;01mNone\u001B[39;00m,\n\u001B[1;32m     52\u001B[0m ) \u001B[38;5;241m-\u001B[39m\u001B[38;5;241m>\u001B[39m List[_Object]:\n\u001B[1;32m     53\u001B[0m     \u001B[38;5;28;01mreturn\u001B[39;00m [\n\u001B[1;32m     54\u001B[0m         \u001B[38;5;28mself\u001B[39m\u001B[38;5;241m.\u001B[39m__dict_to_obj(obj)\n\u001B[0;32m---> 55\u001B[0m         \u001B[38;5;28;01mfor\u001B[39;00m obj \u001B[38;5;129;01min\u001B[39;00m \u001B[38;5;28;43mself\u001B[39;49m\u001B[38;5;241;43m.\u001B[39;49m\u001B[43m_get\u001B[49m\u001B[43m(\u001B[49m\u001B[43mlimit\u001B[49m\u001B[43m,\u001B[49m\u001B[43m \u001B[49m\u001B[43moffset\u001B[49m\u001B[43m,\u001B[49m\u001B[43m \u001B[49m\u001B[43mafter\u001B[49m\u001B[43m,\u001B[49m\u001B[43m \u001B[49m\u001B[43mreturn_metadata\u001B[49m\u001B[43m,\u001B[49m\u001B[43m \u001B[49m\u001B[43mreturn_properties\u001B[49m\u001B[43m)\u001B[49m\n\u001B[1;32m     56\u001B[0m     ]\n",
      "File \u001B[0;32m~/code/sandpit/try_new_wv_api_202306/.venv/lib/python3.10/site-packages/weaviate/collection/grpc.py:140\u001B[0m, in \u001B[0;36mGrpcBase._get\u001B[0;34m(self, limit, offset, after, return_metadata, return_properties)\u001B[0m\n\u001B[1;32m    138\u001B[0m \u001B[38;5;28;01mif\u001B[39;00m return_properties \u001B[38;5;129;01mis\u001B[39;00m \u001B[38;5;129;01mnot\u001B[39;00m \u001B[38;5;28;01mNone\u001B[39;00m:\n\u001B[1;32m    139\u001B[0m     \u001B[38;5;28mself\u001B[39m\u001B[38;5;241m.\u001B[39m_default_props \u001B[38;5;241m=\u001B[39m \u001B[38;5;28mself\u001B[39m\u001B[38;5;241m.\u001B[39m_default_props\u001B[38;5;241m.\u001B[39munion(return_properties)\n\u001B[0;32m--> 140\u001B[0m \u001B[38;5;28;01mreturn\u001B[39;00m \u001B[38;5;28;43mself\u001B[39;49m\u001B[38;5;241;43m.\u001B[39;49m\u001B[43m__call\u001B[49m\u001B[43m(\u001B[49m\u001B[43m)\u001B[49m\n",
      "File \u001B[0;32m~/code/sandpit/try_new_wv_api_202306/.venv/lib/python3.10/site-packages/weaviate/collection/grpc.py:235\u001B[0m, in \u001B[0;36mGrpcBase.__call\u001B[0;34m(self)\u001B[0m\n\u001B[1;32m    233\u001B[0m     metadata \u001B[38;5;241m=\u001B[39m ((\u001B[38;5;124m\"\u001B[39m\u001B[38;5;124mauthorization\u001B[39m\u001B[38;5;124m\"\u001B[39m, access_token),)\n\u001B[1;32m    234\u001B[0m \u001B[38;5;28;01mtry\u001B[39;00m:\n\u001B[0;32m--> 235\u001B[0m     res, _ \u001B[38;5;241m=\u001B[39m \u001B[38;5;28;43mself\u001B[39;49m\u001B[38;5;241;43m.\u001B[39;49m\u001B[43m_connection\u001B[49m\u001B[38;5;241;43m.\u001B[39;49m\u001B[43mgrpc_stub\u001B[49m\u001B[38;5;241;43m.\u001B[39;49m\u001B[43mSearch\u001B[49m\u001B[38;5;241m.\u001B[39mwith_call(\n\u001B[1;32m    236\u001B[0m         weaviate_pb2\u001B[38;5;241m.\u001B[39mSearchRequest(\n\u001B[1;32m    237\u001B[0m             class_name\u001B[38;5;241m=\u001B[39m\u001B[38;5;28mself\u001B[39m\u001B[38;5;241m.\u001B[39m_name,\n\u001B[1;32m    238\u001B[0m             limit\u001B[38;5;241m=\u001B[39m\u001B[38;5;28mself\u001B[39m\u001B[38;5;241m.\u001B[39m_limit,\n\u001B[1;32m    239\u001B[0m             offset\u001B[38;5;241m=\u001B[39m\u001B[38;5;28mself\u001B[39m\u001B[38;5;241m.\u001B[39m_offset,\n\u001B[1;32m    240\u001B[0m             after\u001B[38;5;241m=\u001B[39m\u001B[38;5;28mstr\u001B[39m(\u001B[38;5;28mself\u001B[39m\u001B[38;5;241m.\u001B[39m_after) \u001B[38;5;28;01mif\u001B[39;00m \u001B[38;5;28mself\u001B[39m\u001B[38;5;241m.\u001B[39m_after \u001B[38;5;129;01mis\u001B[39;00m \u001B[38;5;129;01mnot\u001B[39;00m \u001B[38;5;28;01mNone\u001B[39;00m \u001B[38;5;28;01melse\u001B[39;00m \u001B[38;5;124m\"\u001B[39m\u001B[38;5;124m\"\u001B[39m,\n\u001B[1;32m    241\u001B[0m             autocut\u001B[38;5;241m=\u001B[39m\u001B[38;5;28mself\u001B[39m\u001B[38;5;241m.\u001B[39m_autocut,\n\u001B[1;32m    242\u001B[0m             near_vector\u001B[38;5;241m=\u001B[39mweaviate_pb2\u001B[38;5;241m.\u001B[39mNearVectorParams(\n\u001B[1;32m    243\u001B[0m                 vector\u001B[38;5;241m=\u001B[39m\u001B[38;5;28mself\u001B[39m\u001B[38;5;241m.\u001B[39m_near_vector_vec,\n\u001B[1;32m    244\u001B[0m                 certainty\u001B[38;5;241m=\u001B[39m\u001B[38;5;28mself\u001B[39m\u001B[38;5;241m.\u001B[39m_near_certainty,\n\u001B[1;32m    245\u001B[0m                 distance\u001B[38;5;241m=\u001B[39m\u001B[38;5;28mself\u001B[39m\u001B[38;5;241m.\u001B[39m_near_distance,\n\u001B[1;32m    246\u001B[0m             )\n\u001B[1;32m    247\u001B[0m             \u001B[38;5;28;01mif\u001B[39;00m \u001B[38;5;28mself\u001B[39m\u001B[38;5;241m.\u001B[39m_near_vector_vec \u001B[38;5;129;01mis\u001B[39;00m \u001B[38;5;129;01mnot\u001B[39;00m \u001B[38;5;28;01mNone\u001B[39;00m\n\u001B[1;32m    248\u001B[0m             \u001B[38;5;28;01melse\u001B[39;00m \u001B[38;5;28;01mNone\u001B[39;00m,\n\u001B[1;32m    249\u001B[0m             near_object\u001B[38;5;241m=\u001B[39mweaviate_pb2\u001B[38;5;241m.\u001B[39mNearObjectParams(\n\u001B[1;32m    250\u001B[0m                 \u001B[38;5;28mid\u001B[39m\u001B[38;5;241m=\u001B[39m\u001B[38;5;28mstr\u001B[39m(\u001B[38;5;28mself\u001B[39m\u001B[38;5;241m.\u001B[39m_near_object_obj),\n\u001B[1;32m    251\u001B[0m                 certainty\u001B[38;5;241m=\u001B[39m\u001B[38;5;28mself\u001B[39m\u001B[38;5;241m.\u001B[39m_near_certainty,\n\u001B[1;32m    252\u001B[0m                 distance\u001B[38;5;241m=\u001B[39m\u001B[38;5;28mself\u001B[39m\u001B[38;5;241m.\u001B[39m_near_distance,\n\u001B[1;32m    253\u001B[0m             )\n\u001B[1;32m    254\u001B[0m             \u001B[38;5;28;01mif\u001B[39;00m \u001B[38;5;28mself\u001B[39m\u001B[38;5;241m.\u001B[39m_near_object_obj \u001B[38;5;129;01mis\u001B[39;00m \u001B[38;5;129;01mnot\u001B[39;00m \u001B[38;5;28;01mNone\u001B[39;00m\n\u001B[1;32m    255\u001B[0m             \u001B[38;5;28;01melse\u001B[39;00m \u001B[38;5;28;01mNone\u001B[39;00m,\n\u001B[1;32m    256\u001B[0m             properties\u001B[38;5;241m=\u001B[39m\u001B[38;5;28mself\u001B[39m\u001B[38;5;241m.\u001B[39m_convert_references_to_grpc(\u001B[38;5;28mself\u001B[39m\u001B[38;5;241m.\u001B[39m_default_props),\n\u001B[1;32m    257\u001B[0m             additional_properties\u001B[38;5;241m=\u001B[39m\u001B[38;5;28mself\u001B[39m\u001B[38;5;241m.\u001B[39m_metadata_to_grpc(\u001B[38;5;28mself\u001B[39m\u001B[38;5;241m.\u001B[39m_metadata)\n\u001B[1;32m    258\u001B[0m             \u001B[38;5;28;01mif\u001B[39;00m \u001B[38;5;28mself\u001B[39m\u001B[38;5;241m.\u001B[39m_metadata \u001B[38;5;129;01mis\u001B[39;00m \u001B[38;5;129;01mnot\u001B[39;00m \u001B[38;5;28;01mNone\u001B[39;00m\n\u001B[1;32m    259\u001B[0m             \u001B[38;5;28;01melse\u001B[39;00m \u001B[38;5;28;01mNone\u001B[39;00m,\n\u001B[1;32m    260\u001B[0m             bm25_search\u001B[38;5;241m=\u001B[39mweaviate_pb2\u001B[38;5;241m.\u001B[39mBM25SearchParams(\n\u001B[1;32m    261\u001B[0m                 properties\u001B[38;5;241m=\u001B[39m\u001B[38;5;28mself\u001B[39m\u001B[38;5;241m.\u001B[39m_bm25_properties, query\u001B[38;5;241m=\u001B[39m\u001B[38;5;28mself\u001B[39m\u001B[38;5;241m.\u001B[39m_bm25_query\n\u001B[1;32m    262\u001B[0m             )\n\u001B[1;32m    263\u001B[0m             \u001B[38;5;28;01mif\u001B[39;00m \u001B[38;5;28mself\u001B[39m\u001B[38;5;241m.\u001B[39m_bm25_query \u001B[38;5;129;01mis\u001B[39;00m \u001B[38;5;129;01mnot\u001B[39;00m \u001B[38;5;28;01mNone\u001B[39;00m\n\u001B[1;32m    264\u001B[0m             \u001B[38;5;28;01melse\u001B[39;00m \u001B[38;5;28;01mNone\u001B[39;00m,\n\u001B[1;32m    265\u001B[0m             hybrid_search\u001B[38;5;241m=\u001B[39mweaviate_pb2\u001B[38;5;241m.\u001B[39mHybridSearchParams(\n\u001B[1;32m    266\u001B[0m                 properties\u001B[38;5;241m=\u001B[39m\u001B[38;5;28mself\u001B[39m\u001B[38;5;241m.\u001B[39m_hybrid_properties,\n\u001B[1;32m    267\u001B[0m                 query\u001B[38;5;241m=\u001B[39m\u001B[38;5;28mself\u001B[39m\u001B[38;5;241m.\u001B[39m_hybrid_query,\n\u001B[1;32m    268\u001B[0m                 alpha\u001B[38;5;241m=\u001B[39m\u001B[38;5;28mself\u001B[39m\u001B[38;5;241m.\u001B[39m_hybrid_alpha,\n\u001B[1;32m    269\u001B[0m                 vector\u001B[38;5;241m=\u001B[39m\u001B[38;5;28mself\u001B[39m\u001B[38;5;241m.\u001B[39m_hybrid_vector,\n\u001B[1;32m    270\u001B[0m                 fusion_type\u001B[38;5;241m=\u001B[39m\u001B[38;5;28mself\u001B[39m\u001B[38;5;241m.\u001B[39m_hybrid_fusion_type,\n\u001B[1;32m    271\u001B[0m             )\n\u001B[1;32m    272\u001B[0m             \u001B[38;5;28;01mif\u001B[39;00m \u001B[38;5;28mself\u001B[39m\u001B[38;5;241m.\u001B[39m_hybrid_query \u001B[38;5;129;01mis\u001B[39;00m \u001B[38;5;129;01mnot\u001B[39;00m \u001B[38;5;28;01mNone\u001B[39;00m\n\u001B[1;32m    273\u001B[0m             \u001B[38;5;28;01melse\u001B[39;00m \u001B[38;5;28;01mNone\u001B[39;00m,\n\u001B[1;32m    274\u001B[0m         ),\n\u001B[1;32m    275\u001B[0m         metadata\u001B[38;5;241m=\u001B[39mmetadata,\n\u001B[1;32m    276\u001B[0m     )\n\u001B[1;32m    278\u001B[0m     ref_props_meta \u001B[38;5;241m=\u001B[39m \u001B[38;5;28mself\u001B[39m\u001B[38;5;241m.\u001B[39m_ref_props_return_meta(\u001B[38;5;28mself\u001B[39m\u001B[38;5;241m.\u001B[39m_default_props)\n\u001B[1;32m    280\u001B[0m     objects \u001B[38;5;241m=\u001B[39m []\n",
      "\u001B[0;31mAttributeError\u001B[0m: 'NoneType' object has no attribute 'Search'"
     ]
    }
   ],
   "source": [
    "categories.query.get_flat(limit=2)"
   ],
   "metadata": {
    "collapsed": false,
    "ExecuteTime": {
     "end_time": "2023-08-03T13:23:23.550230Z",
     "start_time": "2023-08-03T13:23:23.511338Z"
    }
   }
  },
  {
   "cell_type": "markdown",
   "source": [
    "## Hypothetical Filtering Syntax\n",
    "\n",
    "```python\n",
    "from weaviate.weaviate_classes import FilterOperator\n",
    "\n",
    "articles.query.get(\n",
    "    limit=2,\n",
    "    filter=Filter(\n",
    "        path=[\"page\"],\n",
    "        operator=FilterOperator.GREATERTHAN,  # Enum\n",
    "        value=10,\n",
    "    )\n",
    ")\n",
    "```\n",
    "\n",
    "Nested Filter\n",
    "\n",
    "```python\n",
    "from weaviate.weaviate_classes import FilterOperator\n",
    "\n",
    "articles.query.get(\n",
    "    limit=2,\n",
    "    filter=Filter(\n",
    "        operator=FilterOperator.AND,  # Enum\n",
    "        operands=[\n",
    "            Filter(\n",
    "                path=[\"pages\"],\n",
    "                operator=FilterOperator.GREATERTHAN,  # Enum\n",
    "                value=10,\n",
    "            ),\n",
    "            Filter(\n",
    "                path=[\"title\"],\n",
    "                operator=FilterOperator.LIKE,  # Enum\n",
    "                value=\"*football*\",\n",
    "            ),\n",
    "        ]\n",
    "    )\n",
    ")\n",
    "```\n",
    "\n",
    "\n",
    "Nested Filter\n",
    "\n",
    "```python\n",
    "from weaviate.weaviate_classes import FilterOperator\n",
    "\n",
    "articles.query.get(\n",
    "    limit=2,\n",
    "    filter=Filter(\n",
    "        # path=[\"isAuthor\", \"Author\", \"name\"],  # Option 1\n",
    "        # path=ReferenceProperty(name=\"isAuthor\", ref_prop=\"name\"),\n",
    "        ReferenceProperty(name=\"isAuthor\", ref_collection=\"Author\", ref_prop=\"name\"),\n",
    "        operator=FilterOperator.GREATERTHAN,  # Enum\n",
    "        value=10,\n",
    "    )\n",
    ")\n",
    "```\n",
    "\n",
    "GeoCoordinates\n",
    "\n",
    "```python\n",
    "from weaviate.weaviate_classes import FilterOperator, valueGeoRange\n",
    "\n",
    "publications.query.get(\n",
    "    limit=2,\n",
    "    filter=Filter(\n",
    "        path=[\"headquartersGeoLocation\"],\n",
    "        operator=FilterOperator.WithinGeoRange,  # Enum\n",
    "        value=valueGeoRange(\n",
    "            latitude=51.51,\n",
    "            longitude=-0.09,\n",
    "            distance_max=2000,\n",
    "        ),\n",
    "    ),\n",
    "    return_properties=[\n",
    "        \"name\",\n",
    "        \"headquartersGeoLocation {lat} {long}\"  # this is nasty atm\n",
    "    ]\n",
    ")\n",
    "```\n"
   ],
   "metadata": {
    "collapsed": false
   }
  },
  {
   "cell_type": "markdown",
   "source": [
    "## Hypothetical Sorting Syntax\n",
    "\n",
    "```python\n",
    "import weaviate.weaviate_classes as wvc\n",
    "\n",
    "articles.query.get(\n",
    "    limit=2,\n",
    ").sort_results(\n",
    "    by=[\"title\"],\n",
    "    order=wvc.SortOrder.ASCENDING\n",
    ")\n",
    "```\n",
    "\n",
    "```python\n",
    "import weaviate.weaviate_classes as wvc\n",
    "\n",
    "articles.query.get(\n",
    "    limit=2,\n",
    ").sort_results(\n",
    "    by=ReferenceProperty(name=\"isAuthor\", ref_prop=\"name\"),\n",
    "    order=wvc.SortOrder.ASCENDING\n",
    ")\n",
    "```\n"
   ],
   "metadata": {
    "collapsed": false
   }
  }
 ],
 "metadata": {
  "kernelspec": {
   "display_name": "Python 3",
   "language": "python",
   "name": "python3"
  },
  "language_info": {
   "codemirror_mode": {
    "name": "ipython",
    "version": 2
   },
   "file_extension": ".py",
   "mimetype": "text/x-python",
   "name": "python",
   "nbconvert_exporter": "python",
   "pygments_lexer": "ipython2",
   "version": "2.7.6"
  }
 },
 "nbformat": 4,
 "nbformat_minor": 0
}
