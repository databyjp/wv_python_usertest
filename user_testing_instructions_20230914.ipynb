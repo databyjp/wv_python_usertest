{
 "cells": [
  {
   "cell_type": "markdown",
   "id": "c6c17b2a-e399-4be0-b681-70f875c2ae7b",
   "metadata": {},
   "source": [
    "## Early user testing for the Weaviate 'collections' client"
   ]
  },
  {
   "cell_type": "markdown",
   "id": "192d47c2-744c-4e80-91ed-dfea039232d5",
   "metadata": {},
   "source": [
    "Welcome!\n",
    "\n",
    "We have been working on a new (and hopefully improved) API for our Python client. We are excited for you to try it out and provide feedback for us."
   ]
  },
  {
   "cell_type": "markdown",
   "id": "c178cd6a-9f77-4ed9-8118-0a3a9b86e293",
   "metadata": {},
   "source": [
    "### Installation\n",
    "\n",
    "This version of the client is on a different branch in GH.\n",
    "\n",
    "If you don't want this to affect your current workflow - we recommend you create a **new environment** (whether venv, or Conda/Mamba). If you don't, make sure to uninstall it after and install the official release.\n",
    "\n",
    "In your desired environment, install it with:\n",
    "\n",
    "```shell\n",
    "pip install -U \"git+https://github.com/weaviate/weaviate-python-client.git@pydantic_experiment#egg=weaviate-client[GRPC]\"\n",
    "```"
   ]
  },
  {
   "cell_type": "markdown",
   "source": [
    "Use this docker-compose file:\n",
    "\n",
    "```yaml\n",
    "---\n",
    "version: '3.4'\n",
    "services:\n",
    "  weaviate:\n",
    "    command:\n",
    "    - --host\n",
    "    - 0.0.0.0\n",
    "    - --port\n",
    "    - '8080'\n",
    "    - --scheme\n",
    "    - http\n",
    "    image: semitechnologies/weaviate:preview-error-without-module-c10476a\n",
    "    restart: on-failure:0\n",
    "    ports:\n",
    "     - \"8080:8080\"\n",
    "     - \"50051:50051\"\n",
    "    environment:\n",
    "      QUERY_DEFAULTS_LIMIT: 25\n",
    "      QUERY_MAXIMUM_RESULTS: 10000\n",
    "      AUTHENTICATION_ANONYMOUS_ACCESS_ENABLED: 'true'\n",
    "      PERSISTENCE_DATA_PATH: '/var/lib/weaviate'\n",
    "      DEFAULT_VECTORIZER_MODULE: 'text2vec-openai'\n",
    "      ENABLE_MODULES: 'text2vec-openai,text2vec-cohere,generative-openai'\n",
    "      CLUSTER_HOSTNAME: 'node1'\n",
    "...\n",
    "```"
   ],
   "metadata": {
    "collapsed": false
   }
  },
  {
   "cell_type": "markdown",
   "source": [
    "And spin up a container with `docker compose up -d`"
   ],
   "metadata": {
    "collapsed": false
   }
  },
  {
   "cell_type": "markdown",
   "id": "1eaff106-006e-4e02-bd96-7b58c6ebb273",
   "metadata": {},
   "source": [
    "### Key ideas\n",
    "\n",
    "We are calling this the *'collections'* client, because many of the data interactions will be at the collections (i.e. Weaviate *'Class'*) level. So, instantiate the client and then instantiate a collection like this:"
   ]
  },
  {
   "cell_type": "code",
   "execution_count": 28,
   "id": "d1048b73-2da7-41f4-9d71-4a641e3fadc6",
   "metadata": {
    "ExecuteTime": {
     "end_time": "2023-09-15T16:01:02.324937Z",
     "start_time": "2023-09-15T16:01:02.179196Z"
    }
   },
   "outputs": [
    {
     "data": {
      "text/plain": "True"
     },
     "execution_count": 28,
     "metadata": {},
     "output_type": "execute_result"
    }
   ],
   "source": [
    "from weaviate import Config\n",
    "import weaviate\n",
    "import os\n",
    "\n",
    "client = weaviate.Client(\n",
    "    \"http://localhost:8080\",\n",
    "    additional_config=Config(grpc_port_experimental=50055),\n",
    "    additional_headers={\n",
    "        \"X-OpenAI-Api-Key\": os.environ[\"OPENAI_APIKEY\"],  # Replace with yours, or ask me for a key ;)\n",
    "    },\n",
    ")\n",
    "\n",
    "client.is_ready()"
   ]
  },
  {
   "cell_type": "markdown",
   "source": [
    "### Help is here!\n",
    "\n",
    "We've created objects to help with lots of things here.\n",
    "\n",
    "You'll notice below that class definitions are done through the `CollectionConfig` class, configurations in `Text2VecOpenAIConfig`, and so on.\n",
    "\n",
    "You can import them individually, like so:\n",
    "\n",
    "```\n",
    "from weaviate.weaviate_classes import CollectionConfig, Vectorizer, VectorDistance\n",
    "```\n",
    "\n",
    "I (JP) personally import the set of classes like this:\n",
    "\n",
    "```\n",
    "import weaviate.weaviate_classes as wvc\n",
    "```"
   ],
   "metadata": {
    "collapsed": false
   }
  },
  {
   "cell_type": "markdown",
   "source": [
    "To prep, delete any existing classes with the same name like so:"
   ],
   "metadata": {
    "collapsed": false
   }
  },
  {
   "cell_type": "code",
   "execution_count": 29,
   "outputs": [],
   "source": [
    "for collection_name in [\"TestArticle\", \"TestAuthor\"]:\n",
    "    client.collection.delete(collection_name)"
   ],
   "metadata": {
    "collapsed": false,
    "ExecuteTime": {
     "end_time": "2023-09-15T16:01:03.514074Z",
     "start_time": "2023-09-15T16:01:03.485833Z"
    }
   }
  },
  {
   "cell_type": "markdown",
   "source": [
    "### Class creation"
   ],
   "metadata": {
    "collapsed": false
   }
  },
  {
   "cell_type": "code",
   "execution_count": 30,
   "outputs": [
    {
     "name": "stdout",
     "output_type": "stream",
     "text": [
      "True\n",
      "True\n"
     ]
    }
   ],
   "source": [
    "import weaviate.weaviate_classes as wvc\n",
    "\n",
    "articles = client.collection.create(\n",
    "    name=\"TestArticle\",\n",
    "    properties=[\n",
    "        wvc.Property(\n",
    "            name=\"title\",\n",
    "            data_type=wvc.DataType.TEXT,\n",
    "        ),\n",
    "        # Get the user to create these properties\n",
    "        wvc.Property(\n",
    "            name=\"body\",\n",
    "            data_type=wvc.DataType.TEXT,\n",
    "        ),\n",
    "        wvc.Property(\n",
    "            name=\"url\",\n",
    "            data_type=wvc.DataType.TEXT,\n",
    "            tokenization=wvc.Tokenization.FIELD,\n",
    "            vectorizer_config=wvc.PropertyVectorizerConfig()\n",
    "        ),\n",
    "        # =====\n",
    "    ],\n",
    "    vectorizer_config=wvc.VectorizerFactory.text2vec_openai(),\n",
    "    # vectorizer_config=wvc.VectorizerFactory.text2vec_cohere(\n",
    "    #     model=\"embed-multilingual-v2.0\"\n",
    "    # ),\n",
    "    replication_config=wvc.ConfigFactory.replication(factor=1),\n",
    "    # Get the user to create this config\n",
    "    inverted_index_config=wvc.ConfigFactory.inverted_index(\n",
    "        index_property_length=True\n",
    "    )\n",
    "    # =====\n",
    ")\n",
    "\n",
    "authors = client.collection.create(\n",
    "    name=\"TestAuthor\",\n",
    "    properties=[\n",
    "        wvc.Property(\n",
    "            name=\"name\",\n",
    "            data_type=wvc.DataType.TEXT,\n",
    "        ),\n",
    "        # Get the user to create this\n",
    "        wvc.Property(\n",
    "            name=\"birth_year\",\n",
    "            data_type=wvc.DataType.INT,\n",
    "        ),\n",
    "        # Get the user to create this\n",
    "        wvc.ReferenceProperty(name=\"wroteArticle\", target_collection=\"TestArticle\")\n",
    "    ],\n",
    "    # Get the user to add this vectorizer\n",
    "    vectorizer_config=wvc.VectorizerFactory.text2vec_openai(),\n",
    "    # vectorizer_config=wvc.VectorizerFactory.text2vec_contextionary(),\n",
    ")\n",
    "\n",
    "print(client.collection.exists(\"TestAuthor\"))\n",
    "print(client.collection.exists(\"TestArticle\"))"
   ],
   "metadata": {
    "collapsed": false,
    "ExecuteTime": {
     "end_time": "2023-09-15T16:01:04.261453Z",
     "start_time": "2023-09-15T16:01:04.229530Z"
    }
   }
  },
  {
   "cell_type": "markdown",
   "source": [
    "In your IDE, you should now see IntelliSense autocompletes through the `articles` / `authors` objects - the two key subsets are:\n",
    "\n",
    "-  `data`: CRUD operations\n",
    "-  `query`: Search operations (old GraphQL)"
   ],
   "metadata": {
    "collapsed": false
   }
  },
  {
   "cell_type": "markdown",
   "source": [
    "You can also create an object from existing collections like this:"
   ],
   "metadata": {
    "collapsed": false
   }
  },
  {
   "cell_type": "code",
   "execution_count": 31,
   "outputs": [],
   "source": [
    "articles = client.collection.get(\"TestArticle\")\n",
    "authors = client.collection.get(\"TestAuthor\")"
   ],
   "metadata": {
    "collapsed": false,
    "ExecuteTime": {
     "end_time": "2023-09-15T16:01:05.227045Z",
     "start_time": "2023-09-15T16:01:05.222029Z"
    }
   }
  },
  {
   "cell_type": "markdown",
   "source": [
    "### CRUD operations"
   ],
   "metadata": {
    "collapsed": false
   }
  },
  {
   "cell_type": "markdown",
   "source": [
    "#### Add objects (single)"
   ],
   "metadata": {
    "collapsed": false
   }
  },
  {
   "cell_type": "markdown",
   "source": [
    "Adding objects is done with the `insert` method.\n",
    "\n",
    "The pattern can be very similar to what you've done before. (You can specify a UUID as you have done before!)"
   ],
   "metadata": {
    "collapsed": false
   }
  },
  {
   "cell_type": "code",
   "execution_count": 46,
   "outputs": [
    {
     "name": "stdout",
     "output_type": "stream",
     "text": [
      "c132fd43-4b5f-44bb-a97c-6fa23a2572a3\n"
     ]
    }
   ],
   "source": [
    "# user_test.py\n",
    "my_first_obj = {\n",
    "    \"title\": \"Something something dark side\",\n",
    "    \"body\": \"A long long time ago, in a galaxy far, far away...\",\n",
    "    \"url\": \"http://www.starwars.com\"\n",
    "}\n",
    "\n",
    "article_uuid = articles.data.insert(my_first_obj)\n",
    "print(article_uuid)"
   ],
   "metadata": {
    "collapsed": false,
    "ExecuteTime": {
     "end_time": "2023-09-15T16:29:05.111921Z",
     "start_time": "2023-09-15T16:29:04.294473Z"
    }
   }
  },
  {
   "cell_type": "code",
   "execution_count": 47,
   "outputs": [],
   "source": [
    "# user_test.py\n",
    "author_uuid = authors.data.insert(\n",
    "    {\n",
    "        \"name\": \"G Lucas\",\n",
    "        \"birth_year\": 1944,\n",
    "        \"wroteArticle\": wvc.ReferenceFactory.to(uuids=[article_uuid])\n",
    "    }\n",
    ")"
   ],
   "metadata": {
    "collapsed": false,
    "ExecuteTime": {
     "end_time": "2023-09-15T16:29:05.739874Z",
     "start_time": "2023-09-15T16:29:05.111809Z"
    }
   }
  },
  {
   "cell_type": "markdown",
   "source": [
    "The returend object is a UUID type"
   ],
   "metadata": {
    "collapsed": false
   }
  },
  {
   "cell_type": "code",
   "execution_count": 33,
   "outputs": [
    {
     "name": "stdout",
     "output_type": "stream",
     "text": [
      "<class 'uuid.UUID'>\n",
      "4ca98885-b211-47ac-9cca-9825384b50c6\n"
     ]
    }
   ],
   "source": [
    "print(type(uuid))\n",
    "print(uuid)"
   ],
   "metadata": {
    "collapsed": false,
    "ExecuteTime": {
     "end_time": "2023-09-15T16:01:07.778644Z",
     "start_time": "2023-09-15T16:01:07.775273Z"
    }
   }
  },
  {
   "cell_type": "markdown",
   "source": [
    "Notice that you didn't have to specify a class, because you're working with a class"
   ],
   "metadata": {
    "collapsed": false
   }
  },
  {
   "cell_type": "code",
   "execution_count": 34,
   "outputs": [],
   "source": [
    "uuid = authors.data.insert(\n",
    "    {\n",
    "        \"name\": \"G Lucas\",\n",
    "        \"birth_year\": 1944,\n",
    "        \"wroteArticle\": wvc.ReferenceFactory.to(uuids=[uuid])\n",
    "    }\n",
    ")"
   ],
   "metadata": {
    "collapsed": false,
    "ExecuteTime": {
     "end_time": "2023-09-15T16:01:09.988367Z",
     "start_time": "2023-09-15T16:01:08.796152Z"
    }
   }
  },
  {
   "cell_type": "markdown",
   "source": [
    "#### Add objects (batch)"
   ],
   "metadata": {
    "collapsed": false
   }
  },
  {
   "cell_type": "code",
   "execution_count": 48,
   "outputs": [
    {
     "name": "stdout",
     "output_type": "stream",
     "text": [
      "_BatchReturn(all_responses=[UUID('dafefb4a-b737-4bdd-aa87-7c6cf13fdd17'), UUID('045c11f8-f4c7-4b9c-b8f1-7755f975c593'), UUID('f6441360-a121-4e4c-92ac-20b137d1ce4e'), UUID('01cf04d4-d066-4871-8a17-204356e5070e'), UUID('0f15e550-cca9-4494-8bca-0f7f0a195e9f')], uuids={0: UUID('dafefb4a-b737-4bdd-aa87-7c6cf13fdd17'), 1: UUID('045c11f8-f4c7-4b9c-b8f1-7755f975c593'), 2: UUID('f6441360-a121-4e4c-92ac-20b137d1ce4e'), 3: UUID('01cf04d4-d066-4871-8a17-204356e5070e'), 4: UUID('0f15e550-cca9-4494-8bca-0f7f0a195e9f')}, errors={}, has_errors=False)\n"
     ]
    }
   ],
   "source": [
    "# user_test.py\n",
    "articles_to_add = [\n",
    "    wvc.DataObject(\n",
    "        properties={\n",
    "            \"title\": f\"The best restaurants of {1980+i}:\",\n",
    "            \"body\": \"1. McDonald's, 2. ...\",\n",
    "        },\n",
    "    )\n",
    "    for i in range(5)\n",
    "]\n",
    "\n",
    "response = articles.data.insert_many(articles_to_add)\n",
    "print(response)"
   ],
   "metadata": {
    "collapsed": false,
    "ExecuteTime": {
     "end_time": "2023-09-15T16:29:14.907466Z",
     "start_time": "2023-09-15T16:29:13.143823Z"
    }
   }
  },
  {
   "cell_type": "code",
   "execution_count": 49,
   "outputs": [
    {
     "data": {
      "text/plain": "_BatchReturn(all_responses=[UUID('8c033488-c6d7-49c2-be1f-995af5bf08ff'), UUID('2ca8fa5c-5bec-4ad3-a591-b2d694d07987'), UUID('e771130e-a461-4124-9727-66c965f7221e'), UUID('6055c796-d187-4b27-baf1-aeee5cf8a4d6'), UUID('c6b776b0-026b-4ea0-a437-e8514475e89e')], uuids={0: UUID('8c033488-c6d7-49c2-be1f-995af5bf08ff'), 1: UUID('2ca8fa5c-5bec-4ad3-a591-b2d694d07987'), 2: UUID('e771130e-a461-4124-9727-66c965f7221e'), 3: UUID('6055c796-d187-4b27-baf1-aeee5cf8a4d6'), 4: UUID('c6b776b0-026b-4ea0-a437-e8514475e89e')}, errors={}, has_errors=False)"
     },
     "execution_count": 49,
     "metadata": {},
     "output_type": "execute_result"
    }
   ],
   "source": [
    "# user_test.py\n",
    "authors_to_add = [\n",
    "    wvc.DataObject(\n",
    "        properties={\n",
    "            \"name\": f\"Jim {i+1}\",\n",
    "            \"birth_year\": 1970 + i,\n",
    "            \"wroteArticle\": wvc.ReferenceFactory.to(uuids=[article_uuid])\n",
    "        },\n",
    "        # vector=CUSTOM_VECTOR_HERE,\n",
    "        # uuid=CUSTOM_UUID_HERE\n",
    "    )\n",
    "    for i in range(5)\n",
    "]\n",
    "\n",
    "authors.data.insert_many(authors_to_add)"
   ],
   "metadata": {
    "collapsed": false,
    "ExecuteTime": {
     "end_time": "2023-09-15T16:29:25.419109Z",
     "start_time": "2023-09-15T16:29:24.868864Z"
    }
   }
  },
  {
   "cell_type": "code",
   "execution_count": 42,
   "outputs": [
    {
     "name": "stdout",
     "output_type": "stream",
     "text": [
      "_BatchReturn(all_responses=[UUID('ee4fac05-8f6a-4730-8a8e-9afe77442e17'), UUID('5cff2531-06cb-4dcc-99e4-5e2a92555d2c'), Error(message=\"invalid text property 'url' on class 'TestArticle': not a string, but float64\", code=None, original_uuid=None), UUID('0b578371-4b0e-4ac5-8c56-937d01967ade'), UUID('651bfa60-e587-48c3-963d-ef26a6bbe8d8')], uuids={0: UUID('ee4fac05-8f6a-4730-8a8e-9afe77442e17'), 1: UUID('5cff2531-06cb-4dcc-99e4-5e2a92555d2c'), 3: UUID('0b578371-4b0e-4ac5-8c56-937d01967ade'), 4: UUID('651bfa60-e587-48c3-963d-ef26a6bbe8d8')}, errors={2: Error(message=\"invalid text property 'url' on class 'TestArticle': not a string, but float64\", code=None, original_uuid=None)}, has_errors=True)\n"
     ]
    }
   ],
   "source": [
    "articles_to_add = [\n",
    "    wvc.DataObject(\n",
    "        properties={\n",
    "            \"title\": f\"The best restaurants of {1980+i}:\",\n",
    "            \"body\": \"1. McDonald's, 2. ...\",\n",
    "            \"url\": str(i) if i != 2 else i\n",
    "        },\n",
    "    )\n",
    "    for i in range(5)\n",
    "]\n",
    "\n",
    "response = articles.data.insert_many(articles_to_add)\n",
    "print(response)"
   ],
   "metadata": {
    "collapsed": false,
    "ExecuteTime": {
     "end_time": "2023-09-15T16:13:09.888400Z",
     "start_time": "2023-09-15T16:13:09.404624Z"
    }
   }
  },
  {
   "cell_type": "code",
   "execution_count": 44,
   "outputs": [
    {
     "name": "stdout",
     "output_type": "stream",
     "text": [
      "{0: UUID('ee4fac05-8f6a-4730-8a8e-9afe77442e17'), 1: UUID('5cff2531-06cb-4dcc-99e4-5e2a92555d2c'), 3: UUID('0b578371-4b0e-4ac5-8c56-937d01967ade'), 4: UUID('651bfa60-e587-48c3-963d-ef26a6bbe8d8')}\n"
     ]
    }
   ],
   "source": [
    "print(response.uuids)"
   ],
   "metadata": {
    "collapsed": false,
    "ExecuteTime": {
     "end_time": "2023-09-15T16:13:17.673752Z",
     "start_time": "2023-09-15T16:13:17.667493Z"
    }
   }
  },
  {
   "cell_type": "code",
   "execution_count": 43,
   "outputs": [
    {
     "name": "stdout",
     "output_type": "stream",
     "text": [
      "{2: Error(message=\"invalid text property 'url' on class 'TestArticle': not a string, but float64\", code=None, original_uuid=None)}\n"
     ]
    }
   ],
   "source": [
    "print(response.errors)"
   ],
   "metadata": {
    "collapsed": false,
    "ExecuteTime": {
     "end_time": "2023-09-15T16:13:10.478592Z",
     "start_time": "2023-09-15T16:13:10.471096Z"
    }
   }
  },
  {
   "cell_type": "code",
   "execution_count": 7,
   "outputs": [
    {
     "data": {
      "text/plain": "_BatchReturn(all_responses=[UUID('cdb9c90d-6742-4955-931f-7354b8b79dae'), UUID('1b17f12f-4f57-42d6-9c86-120c3f1e9514'), UUID('163e3d9f-879c-4925-89b2-8f66a57ba440'), UUID('b14ffad5-afdd-4dba-8bf8-2c03a00eff51'), UUID('1a705870-eba4-4a08-90ba-7e00b5bb9d8e'), UUID('c738ff11-da61-4906-b99d-3cf31a476b73'), UUID('88330512-93b4-4e51-b312-db1202d929f9'), UUID('60d8a325-0c89-4612-ae59-d12e231c44eb'), UUID('fe9993ae-9eb0-4b80-989d-bdd371718395'), UUID('a990a2c7-6a42-4ebd-80bd-150c5989ea25')], uuids={0: UUID('cdb9c90d-6742-4955-931f-7354b8b79dae'), 1: UUID('1b17f12f-4f57-42d6-9c86-120c3f1e9514'), 2: UUID('163e3d9f-879c-4925-89b2-8f66a57ba440'), 3: UUID('b14ffad5-afdd-4dba-8bf8-2c03a00eff51'), 4: UUID('1a705870-eba4-4a08-90ba-7e00b5bb9d8e'), 5: UUID('c738ff11-da61-4906-b99d-3cf31a476b73'), 6: UUID('88330512-93b4-4e51-b312-db1202d929f9'), 7: UUID('60d8a325-0c89-4612-ae59-d12e231c44eb'), 8: UUID('fe9993ae-9eb0-4b80-989d-bdd371718395'), 9: UUID('a990a2c7-6a42-4ebd-80bd-150c5989ea25')}, errors={}, has_errors=False)"
     },
     "execution_count": 7,
     "metadata": {},
     "output_type": "execute_result"
    }
   ],
   "source": [
    "authors_to_add = [\n",
    "    wvc.DataObject(\n",
    "        properties={\n",
    "            \"name\": f\"Jim {i+1}\",\n",
    "            \"birth_year\": 1970 + i,\n",
    "            \"wroteArticle\": wvc.ReferenceFactory.to(uuids=[uuid])\n",
    "        },\n",
    "    )\n",
    "    for i in range(10)\n",
    "]\n",
    "\n",
    "authors.data.insert_many(authors_to_add)"
   ],
   "metadata": {
    "collapsed": false,
    "ExecuteTime": {
     "end_time": "2023-09-15T14:26:29.784038Z",
     "start_time": "2023-09-15T14:26:27.991142Z"
    }
   }
  },
  {
   "cell_type": "markdown",
   "source": [
    "### Queries"
   ],
   "metadata": {
    "collapsed": false
   }
  },
  {
   "cell_type": "code",
   "execution_count": 45,
   "outputs": [
    {
     "ename": "NameError",
     "evalue": "name 'article_uuid' is not defined",
     "output_type": "error",
     "traceback": [
      "\u001B[0;31m---------------------------------------------------------------------------\u001B[0m",
      "\u001B[0;31mNameError\u001B[0m                                 Traceback (most recent call last)",
      "Cell \u001B[0;32mIn[45], line 2\u001B[0m\n\u001B[1;32m      1\u001B[0m \u001B[38;5;66;03m# user_test.py\u001B[39;00m\n\u001B[0;32m----> 2\u001B[0m authors_to_add \u001B[38;5;241m=\u001B[39m [\n\u001B[1;32m      3\u001B[0m     wvc\u001B[38;5;241m.\u001B[39mDataObject(\n\u001B[1;32m      4\u001B[0m         properties\u001B[38;5;241m=\u001B[39m{\n\u001B[1;32m      5\u001B[0m             \u001B[38;5;124m\"\u001B[39m\u001B[38;5;124mname\u001B[39m\u001B[38;5;124m\"\u001B[39m: \u001B[38;5;124mf\u001B[39m\u001B[38;5;124m\"\u001B[39m\u001B[38;5;124mJim \u001B[39m\u001B[38;5;132;01m{\u001B[39;00mi\u001B[38;5;241m+\u001B[39m\u001B[38;5;241m1\u001B[39m\u001B[38;5;132;01m}\u001B[39;00m\u001B[38;5;124m\"\u001B[39m,\n\u001B[1;32m      6\u001B[0m             \u001B[38;5;124m\"\u001B[39m\u001B[38;5;124mbirth_year\u001B[39m\u001B[38;5;124m\"\u001B[39m: \u001B[38;5;241m1970\u001B[39m \u001B[38;5;241m+\u001B[39m i,\n\u001B[1;32m      7\u001B[0m             \u001B[38;5;124m\"\u001B[39m\u001B[38;5;124mwroteArticle\u001B[39m\u001B[38;5;124m\"\u001B[39m: wvc\u001B[38;5;241m.\u001B[39mReferenceFactory\u001B[38;5;241m.\u001B[39mto(uuids\u001B[38;5;241m=\u001B[39m[article_uuid])\n\u001B[1;32m      8\u001B[0m         },\n\u001B[1;32m      9\u001B[0m         \u001B[38;5;66;03m# vector=CUSTOM_VECTOR_HERE,\u001B[39;00m\n\u001B[1;32m     10\u001B[0m         \u001B[38;5;66;03m# uuid=CUSTOM_UUID_HERE\u001B[39;00m\n\u001B[1;32m     11\u001B[0m     )\n\u001B[1;32m     12\u001B[0m     \u001B[38;5;28;01mfor\u001B[39;00m i \u001B[38;5;129;01min\u001B[39;00m \u001B[38;5;28mrange\u001B[39m(\u001B[38;5;241m5\u001B[39m)\n\u001B[1;32m     13\u001B[0m ]\n\u001B[1;32m     15\u001B[0m authors\u001B[38;5;241m.\u001B[39mdata\u001B[38;5;241m.\u001B[39minsert_many(authors_to_add)\n",
      "Cell \u001B[0;32mIn[45], line 7\u001B[0m, in \u001B[0;36m<listcomp>\u001B[0;34m(.0)\u001B[0m\n\u001B[1;32m      1\u001B[0m \u001B[38;5;66;03m# user_test.py\u001B[39;00m\n\u001B[1;32m      2\u001B[0m authors_to_add \u001B[38;5;241m=\u001B[39m [\n\u001B[1;32m      3\u001B[0m     wvc\u001B[38;5;241m.\u001B[39mDataObject(\n\u001B[1;32m      4\u001B[0m         properties\u001B[38;5;241m=\u001B[39m{\n\u001B[1;32m      5\u001B[0m             \u001B[38;5;124m\"\u001B[39m\u001B[38;5;124mname\u001B[39m\u001B[38;5;124m\"\u001B[39m: \u001B[38;5;124mf\u001B[39m\u001B[38;5;124m\"\u001B[39m\u001B[38;5;124mJim \u001B[39m\u001B[38;5;132;01m{\u001B[39;00mi\u001B[38;5;241m+\u001B[39m\u001B[38;5;241m1\u001B[39m\u001B[38;5;132;01m}\u001B[39;00m\u001B[38;5;124m\"\u001B[39m,\n\u001B[1;32m      6\u001B[0m             \u001B[38;5;124m\"\u001B[39m\u001B[38;5;124mbirth_year\u001B[39m\u001B[38;5;124m\"\u001B[39m: \u001B[38;5;241m1970\u001B[39m \u001B[38;5;241m+\u001B[39m i,\n\u001B[0;32m----> 7\u001B[0m             \u001B[38;5;124m\"\u001B[39m\u001B[38;5;124mwroteArticle\u001B[39m\u001B[38;5;124m\"\u001B[39m: wvc\u001B[38;5;241m.\u001B[39mReferenceFactory\u001B[38;5;241m.\u001B[39mto(uuids\u001B[38;5;241m=\u001B[39m[\u001B[43marticle_uuid\u001B[49m])\n\u001B[1;32m      8\u001B[0m         },\n\u001B[1;32m      9\u001B[0m         \u001B[38;5;66;03m# vector=CUSTOM_VECTOR_HERE,\u001B[39;00m\n\u001B[1;32m     10\u001B[0m         \u001B[38;5;66;03m# uuid=CUSTOM_UUID_HERE\u001B[39;00m\n\u001B[1;32m     11\u001B[0m     )\n\u001B[1;32m     12\u001B[0m     \u001B[38;5;28;01mfor\u001B[39;00m i \u001B[38;5;129;01min\u001B[39;00m \u001B[38;5;28mrange\u001B[39m(\u001B[38;5;241m5\u001B[39m)\n\u001B[1;32m     13\u001B[0m ]\n\u001B[1;32m     15\u001B[0m authors\u001B[38;5;241m.\u001B[39mdata\u001B[38;5;241m.\u001B[39minsert_many(authors_to_add)\n",
      "\u001B[0;31mNameError\u001B[0m: name 'article_uuid' is not defined"
     ]
    }
   ],
   "source": [
    "authors_to_add = [\n",
    "    wvc.DataObject(\n",
    "        properties={\n",
    "            \"name\": f\"Jim {i+1}\",\n",
    "            \"birth_year\": 1970 + i,\n",
    "            \"wroteArticle\": wvc.ReferenceFactory.to(uuids=[uuid])\n",
    "        },\n",
    "        # vector=[0.05] * 100\n",
    "        uuid=\n",
    "    )\n",
    "    for i in range(10)\n",
    "]\n",
    "\n",
    "authors.data.insert_many(authors_to_add)"
   ],
   "metadata": {
    "collapsed": false,
    "ExecuteTime": {
     "end_time": "2023-09-15T16:28:19.157988Z",
     "start_time": "2023-09-15T16:28:19.139759Z"
    }
   }
  },
  {
   "cell_type": "code",
   "execution_count": 51,
   "outputs": [
    {
     "name": "stdout",
     "output_type": "stream",
     "text": [
      "_QueryReturn(objects=[_Object(properties={'title': 'The best restaurants of 1983:', 'body': \"1. McDonald's, 2. ...\"}, metadata=_MetadataReturn(uuid=UUID('01cf04d4-d066-4871-8a17-204356e5070e'), vector=None, creation_time_unix=1694795353140, last_update_time_unix=1694795353140, distance=None, certainty=None, score=0.0, explain_score='', is_consistent=False, generative=None)), _Object(properties={'title': 'The best restaurants of 1981:', 'body': \"1. McDonald's, 2. ...\"}, metadata=_MetadataReturn(uuid=UUID('045c11f8-f4c7-4b9c-b8f1-7755f975c593'), vector=None, creation_time_unix=1694795353140, last_update_time_unix=1694795353140, distance=None, certainty=None, score=0.0, explain_score='', is_consistent=False, generative=None))])\n"
     ]
    }
   ],
   "source": [
    "response = articles.query.get(limit=2)\n",
    "\n",
    "print(response)"
   ],
   "metadata": {
    "collapsed": false,
    "ExecuteTime": {
     "end_time": "2023-09-15T16:30:54.160231Z",
     "start_time": "2023-09-15T16:30:54.153623Z"
    }
   }
  },
  {
   "cell_type": "markdown",
   "source": [
    "Get objects like this:"
   ],
   "metadata": {
    "collapsed": false
   }
  },
  {
   "cell_type": "code",
   "execution_count": 53,
   "outputs": [
    {
     "name": "stdout",
     "output_type": "stream",
     "text": [
      "_QueryReturn(objects=[_Object(properties={'title': 'The best restaurants of 1983:'}, metadata=_MetadataReturn(uuid=UUID('01cf04d4-d066-4871-8a17-204356e5070e'), vector=None, creation_time_unix=None, last_update_time_unix=None, distance=None, certainty=None, score=None, explain_score=None, is_consistent=False, generative=None)), _Object(properties={'title': 'The best restaurants of 1981:'}, metadata=_MetadataReturn(uuid=UUID('045c11f8-f4c7-4b9c-b8f1-7755f975c593'), vector=None, creation_time_unix=None, last_update_time_unix=None, distance=None, certainty=None, score=None, explain_score=None, is_consistent=False, generative=None))])\n"
     ]
    }
   ],
   "source": [
    "response = articles.query.get(\n",
    "    limit=2,\n",
    "    return_properties=[\"title\"],\n",
    "    return_metadata=wvc.MetadataQuery(uuid=True)\n",
    ")\n",
    "\n",
    "print(response)"
   ],
   "metadata": {
    "collapsed": false,
    "ExecuteTime": {
     "end_time": "2023-09-15T16:33:04.827865Z",
     "start_time": "2023-09-15T16:33:04.821730Z"
    }
   }
  },
  {
   "cell_type": "code",
   "execution_count": 10,
   "outputs": [
    {
     "name": "stdout",
     "output_type": "stream",
     "text": [
      "_QueryReturn(objects=[_Object(properties={'birth_year': 1977.0, 'name': 'Jim 8', 'wroteArticle': <weaviate.collection.classes.internal.ReferenceFactory object at 0x1056e4a30>}, metadata=_MetadataReturn(uuid=UUID('0ede32b6-b5a7-4105-91e9-62814776f465'), vector=None, creation_time_unix=None, last_update_time_unix=None, distance=None, certainty=None, score=None, explain_score=None, is_consistent=False, generative=None)), _Object(properties={'birth_year': 1972.0, 'name': 'Jim 3', 'wroteArticle': <weaviate.collection.classes.internal.ReferenceFactory object at 0x105690b20>}, metadata=_MetadataReturn(uuid=UUID('163e3d9f-879c-4925-89b2-8f66a57ba440'), vector=None, creation_time_unix=None, last_update_time_unix=None, distance=None, certainty=None, score=None, explain_score=None, is_consistent=False, generative=None))])\n"
     ]
    }
   ],
   "source": [
    "response = authors.query.get(\n",
    "    limit=2,\n",
    "    return_properties=[\"name\", \"birth_year\", wvc.LinkTo(link_on=\"wroteArticle\", return_properties=\"title\")],\n",
    "    return_metadata=wvc.MetadataQuery(uuid=True)\n",
    ")\n",
    "\n",
    "print(response)"
   ],
   "metadata": {
    "collapsed": false,
    "ExecuteTime": {
     "end_time": "2023-09-15T14:26:31.832524Z",
     "start_time": "2023-09-15T14:26:31.827944Z"
    }
   }
  },
  {
   "cell_type": "code",
   "execution_count": 75,
   "outputs": [
    {
     "name": "stdout",
     "output_type": "stream",
     "text": [
      "1944.0\n",
      "1971.0\n",
      "1973.0\n",
      "1970.0\n",
      "1944.0\n",
      "1974.0\n",
      "1972.0\n"
     ]
    }
   ],
   "source": [
    "response = authors.query.get()\n",
    "\n",
    "for o in response.objects:\n",
    "    print(o.properties[\"birth_year\"])"
   ],
   "metadata": {
    "collapsed": false,
    "ExecuteTime": {
     "end_time": "2023-09-15T16:38:42.325605Z",
     "start_time": "2023-09-15T16:38:42.274462Z"
    }
   }
  },
  {
   "cell_type": "code",
   "execution_count": 76,
   "outputs": [
    {
     "name": "stdout",
     "output_type": "stream",
     "text": [
      "1974.0\n",
      "1971.0\n",
      "1973.0\n",
      "1972.0\n"
     ]
    }
   ],
   "source": [
    "response = authors.query.get(filters=wvc.Filter(path=[\"birth_year\"]).greater_than_equal(1971))\n",
    "\n",
    "for o in response.objects:\n",
    "    print(o.properties[\"birth_year\"])"
   ],
   "metadata": {
    "collapsed": false,
    "ExecuteTime": {
     "end_time": "2023-09-15T16:38:42.815563Z",
     "start_time": "2023-09-15T16:38:42.809787Z"
    }
   }
  },
  {
   "cell_type": "code",
   "execution_count": 65,
   "outputs": [
    {
     "data": {
      "text/plain": "[_Object(properties={'name': 'G Lucas', 'birth_year': 1944.0}, metadata=_MetadataReturn(uuid=UUID('00a8b3c3-ecb4-4eeb-ae75-a7b8557b3668'), vector=None, creation_time_unix=1694795345107, last_update_time_unix=1694795345107, distance=None, certainty=None, score=0.0, explain_score='', is_consistent=False, generative=None)),\n _Object(properties={'birth_year': 1971.0, 'name': 'Jim 2'}, metadata=_MetadataReturn(uuid=UUID('2ca8fa5c-5bec-4ad3-a591-b2d694d07987'), vector=None, creation_time_unix=1694795364869, last_update_time_unix=1694795364869, distance=None, certainty=None, score=0.0, explain_score='', is_consistent=False, generative=None)),\n _Object(properties={'birth_year': 1973.0, 'name': 'Jim 4'}, metadata=_MetadataReturn(uuid=UUID('6055c796-d187-4b27-baf1-aeee5cf8a4d6'), vector=None, creation_time_unix=1694795364870, last_update_time_unix=1694795364870, distance=None, certainty=None, score=0.0, explain_score='', is_consistent=False, generative=None)),\n _Object(properties={'birth_year': 1970.0, 'name': 'Jim 1'}, metadata=_MetadataReturn(uuid=UUID('8c033488-c6d7-49c2-be1f-995af5bf08ff'), vector=None, creation_time_unix=1694795364870, last_update_time_unix=1694795364870, distance=None, certainty=None, score=0.0, explain_score='', is_consistent=False, generative=None)),\n _Object(properties={'name': 'G Lucas', 'birth_year': 1944.0}, metadata=_MetadataReturn(uuid=UUID('b89150a3-3528-4b0c-8110-bfc973a338a6'), vector=None, creation_time_unix=1694793668799, last_update_time_unix=1694793668799, distance=None, certainty=None, score=0.0, explain_score='', is_consistent=False, generative=None)),\n _Object(properties={'birth_year': 1974.0, 'name': 'Jim 5'}, metadata=_MetadataReturn(uuid=UUID('c6b776b0-026b-4ea0-a437-e8514475e89e'), vector=None, creation_time_unix=1694795364869, last_update_time_unix=1694795364869, distance=None, certainty=None, score=0.0, explain_score='', is_consistent=False, generative=None)),\n _Object(properties={'name': 'Jim 3', 'birth_year': 1972.0}, metadata=_MetadataReturn(uuid=UUID('e771130e-a461-4124-9727-66c965f7221e'), vector=None, creation_time_unix=1694795364870, last_update_time_unix=1694795364870, distance=None, certainty=None, score=0.0, explain_score='', is_consistent=False, generative=None))]"
     },
     "execution_count": 65,
     "metadata": {},
     "output_type": "execute_result"
    }
   ],
   "source": [
    "response.objects"
   ],
   "metadata": {
    "collapsed": false,
    "ExecuteTime": {
     "end_time": "2023-09-15T16:35:43.129493Z",
     "start_time": "2023-09-15T16:35:43.125990Z"
    }
   }
  },
  {
   "cell_type": "markdown",
   "source": [
    "Or like this:"
   ],
   "metadata": {
    "collapsed": false
   }
  },
  {
   "cell_type": "markdown",
   "source": [
    "All queries have these `flat` or `options` methods.\n",
    "- `flat` - The parameters to be provided are \"flat\" - individual parameters\n",
    "- `options` - The parameters to be provided are typed - like you see above with `wvc.GetOptions` and so on, and for returns.\n",
    "\n",
    "What do you prefer?"
   ],
   "metadata": {
    "collapsed": false
   }
  },
  {
   "cell_type": "markdown",
   "source": [
    "Also, notice that you get typed objects back!\n",
    "\n",
    "The returned objects have `properties` and `metadata`. Explore them and see what you find."
   ],
   "metadata": {
    "collapsed": false
   }
  },
  {
   "cell_type": "markdown",
   "source": [
    "**Task**: Can you construct a `nearText` query (with `options` and with `flat`)\n",
    "- for \"the dark side\"\n",
    "- with a certainty of 0.75\n",
    "- and get the distance\n",
    "\n",
    "Hint:\n",
    "If you don't see `NearTextOptions` in `weaviate.weaviate_classes` - you can get it from `weaviate.collection.classes.grpc` this will be available later."
   ],
   "metadata": {
    "collapsed": false
   }
  },
  {
   "cell_type": "code",
   "execution_count": 11,
   "outputs": [
    {
     "ename": "AssertionError",
     "evalue": "",
     "output_type": "error",
     "traceback": [
      "\u001B[0;31m---------------------------------------------------------------------------\u001B[0m",
      "\u001B[0;31mAssertionError\u001B[0m                            Traceback (most recent call last)",
      "Cell \u001B[0;32mIn[11], line 3\u001B[0m\n\u001B[1;32m      1\u001B[0m \u001B[38;5;28;01mimport\u001B[39;00m \u001B[38;5;21;01mweaviate\u001B[39;00m\u001B[38;5;21;01m.\u001B[39;00m\u001B[38;5;21;01mcollection\u001B[39;00m\u001B[38;5;21;01m.\u001B[39;00m\u001B[38;5;21;01mclasses\u001B[39;00m\u001B[38;5;21;01m.\u001B[39;00m\u001B[38;5;21;01mfilters\u001B[39;00m \u001B[38;5;28;01mas\u001B[39;00m \u001B[38;5;21;01mwv_filters\u001B[39;00m\n\u001B[0;32m----> 3\u001B[0m response \u001B[38;5;241m=\u001B[39m \u001B[43marticles\u001B[49m\u001B[38;5;241;43m.\u001B[39;49m\u001B[43mquery\u001B[49m\u001B[38;5;241;43m.\u001B[39;49m\u001B[43mnear_text\u001B[49m\u001B[43m(\u001B[49m\n\u001B[1;32m      4\u001B[0m \u001B[43m    \u001B[49m\u001B[43mquery\u001B[49m\u001B[38;5;241;43m=\u001B[39;49m\u001B[38;5;124;43m\"\u001B[39;49m\u001B[38;5;124;43mThe dark side\u001B[39;49m\u001B[38;5;124;43m\"\u001B[39;49m\u001B[43m,\u001B[49m\n\u001B[1;32m      5\u001B[0m \u001B[43m    \u001B[49m\u001B[43mcertainty\u001B[49m\u001B[38;5;241;43m=\u001B[39;49m\u001B[38;5;241;43m0.75\u001B[39;49m\u001B[43m,\u001B[49m\n\u001B[1;32m      6\u001B[0m \u001B[43m    \u001B[49m\u001B[43mreturn_properties\u001B[49m\u001B[38;5;241;43m=\u001B[39;49m\u001B[43m[\u001B[49m\u001B[38;5;124;43m\"\u001B[39;49m\u001B[38;5;124;43mtitle\u001B[39;49m\u001B[38;5;124;43m\"\u001B[39;49m\u001B[43m,\u001B[49m\u001B[43m \u001B[49m\u001B[38;5;124;43m\"\u001B[39;49m\u001B[38;5;124;43mbody\u001B[39;49m\u001B[38;5;124;43m\"\u001B[39;49m\u001B[43m]\u001B[49m\u001B[43m,\u001B[49m\n\u001B[1;32m      7\u001B[0m \u001B[43m    \u001B[49m\u001B[43mreturn_metadata\u001B[49m\u001B[38;5;241;43m=\u001B[39;49m\u001B[43mwvc\u001B[49m\u001B[38;5;241;43m.\u001B[39;49m\u001B[43mMetadataQuery\u001B[49m\u001B[43m(\u001B[49m\u001B[43muuid\u001B[49m\u001B[38;5;241;43m=\u001B[39;49m\u001B[38;5;28;43;01mTrue\u001B[39;49;00m\u001B[43m)\u001B[49m\u001B[43m,\u001B[49m\n\u001B[1;32m      8\u001B[0m \u001B[43m    \u001B[49m\u001B[43mfilters\u001B[49m\u001B[38;5;241;43m=\u001B[39;49m\u001B[43mwvc\u001B[49m\u001B[38;5;241;43m.\u001B[39;49m\u001B[43mFilter\u001B[49m\u001B[43m(\u001B[49m\n\u001B[1;32m      9\u001B[0m \u001B[43m        \u001B[49m\u001B[43mpath\u001B[49m\u001B[38;5;241;43m=\u001B[39;49m\u001B[38;5;124;43m\"\u001B[39;49m\u001B[38;5;124;43m\"\u001B[39;49m\n\u001B[1;32m     10\u001B[0m \u001B[43m    \u001B[49m\u001B[43m)\u001B[49m\n\u001B[1;32m     11\u001B[0m \u001B[43m)\u001B[49m\n\u001B[1;32m     13\u001B[0m \u001B[38;5;28mprint\u001B[39m(response)\n",
      "File \u001B[0;32m~/code/sandpit/try_new_wv_api_202306/.venv/lib/python3.10/site-packages/weaviate/collection/grpc.py:854\u001B[0m, in \u001B[0;36m_GrpcCollection.near_text\u001B[0;34m(self, query, certainty, distance, move_to, move_away, auto_limit, filters, return_metadata, return_properties)\u001B[0m\n\u001B[1;32m    838\u001B[0m \u001B[38;5;28;01mdef\u001B[39;00m \u001B[38;5;21mnear_text\u001B[39m(\n\u001B[1;32m    839\u001B[0m     \u001B[38;5;28mself\u001B[39m,\n\u001B[1;32m    840\u001B[0m     query: Union[List[\u001B[38;5;28mstr\u001B[39m], \u001B[38;5;28mstr\u001B[39m],\n\u001B[0;32m   (...)\u001B[0m\n\u001B[1;32m    848\u001B[0m     return_properties: Optional[Union[PROPERTIES, Type[Properties]]] \u001B[38;5;241m=\u001B[39m \u001B[38;5;28;01mNone\u001B[39;00m,\n\u001B[1;32m    849\u001B[0m ) \u001B[38;5;241m-\u001B[39m\u001B[38;5;241m>\u001B[39m _QueryReturn[Properties]:\n\u001B[1;32m    850\u001B[0m     ret_properties, ret_type \u001B[38;5;241m=\u001B[39m \u001B[38;5;28mself\u001B[39m\u001B[38;5;241m.\u001B[39m__determine_generic(return_properties)\n\u001B[1;32m    851\u001B[0m     \u001B[38;5;28;01mreturn\u001B[39;00m _QueryReturn(\n\u001B[1;32m    852\u001B[0m         objects\u001B[38;5;241m=\u001B[39m[\n\u001B[1;32m    853\u001B[0m             \u001B[38;5;28mself\u001B[39m\u001B[38;5;241m.\u001B[39m__result_to_object(obj, ret_type)\n\u001B[0;32m--> 854\u001B[0m             \u001B[38;5;28;01mfor\u001B[39;00m obj \u001B[38;5;129;01min\u001B[39;00m \u001B[38;5;28;43mself\u001B[39;49m\u001B[38;5;241;43m.\u001B[39;49m\u001B[43m_query\u001B[49m\u001B[43m(\u001B[49m\u001B[43m)\u001B[49m\u001B[38;5;241;43m.\u001B[39;49m\u001B[43mnear_text\u001B[49m\u001B[43m(\u001B[49m\n\u001B[1;32m    855\u001B[0m \u001B[43m                \u001B[49m\u001B[43mnear_text\u001B[49m\u001B[38;5;241;43m=\u001B[39;49m\u001B[43mquery\u001B[49m\u001B[43m,\u001B[49m\n\u001B[1;32m    856\u001B[0m \u001B[43m                \u001B[49m\u001B[43mcertainty\u001B[49m\u001B[38;5;241;43m=\u001B[39;49m\u001B[43mcertainty\u001B[49m\u001B[43m,\u001B[49m\n\u001B[1;32m    857\u001B[0m \u001B[43m                \u001B[49m\u001B[43mdistance\u001B[49m\u001B[38;5;241;43m=\u001B[39;49m\u001B[43mdistance\u001B[49m\u001B[43m,\u001B[49m\n\u001B[1;32m    858\u001B[0m \u001B[43m                \u001B[49m\u001B[43mmove_to\u001B[49m\u001B[38;5;241;43m=\u001B[39;49m\u001B[43mmove_to\u001B[49m\u001B[43m,\u001B[49m\n\u001B[1;32m    859\u001B[0m \u001B[43m                \u001B[49m\u001B[43mmove_away\u001B[49m\u001B[38;5;241;43m=\u001B[39;49m\u001B[43mmove_away\u001B[49m\u001B[43m,\u001B[49m\n\u001B[1;32m    860\u001B[0m \u001B[43m                \u001B[49m\u001B[43mautocut\u001B[49m\u001B[38;5;241;43m=\u001B[39;49m\u001B[43mauto_limit\u001B[49m\u001B[43m,\u001B[49m\n\u001B[1;32m    861\u001B[0m \u001B[43m                \u001B[49m\u001B[43mfilters\u001B[49m\u001B[38;5;241;43m=\u001B[39;49m\u001B[43mfilters\u001B[49m\u001B[43m,\u001B[49m\n\u001B[1;32m    862\u001B[0m \u001B[43m                \u001B[49m\u001B[43mreturn_metadata\u001B[49m\u001B[38;5;241;43m=\u001B[39;49m\u001B[43mreturn_metadata\u001B[49m\u001B[43m,\u001B[49m\n\u001B[1;32m    863\u001B[0m \u001B[43m                \u001B[49m\u001B[43mreturn_properties\u001B[49m\u001B[38;5;241;43m=\u001B[39;49m\u001B[43mret_properties\u001B[49m\u001B[43m,\u001B[49m\n\u001B[1;32m    864\u001B[0m \u001B[43m            \u001B[49m\u001B[43m)\u001B[49m\n\u001B[1;32m    865\u001B[0m         ]\n\u001B[1;32m    866\u001B[0m     )\n",
      "File \u001B[0;32m~/code/sandpit/try_new_wv_api_202306/.venv/lib/python3.10/site-packages/weaviate/collection/grpc.py:314\u001B[0m, in \u001B[0;36m_GRPC.near_text\u001B[0;34m(self, near_text, certainty, distance, move_to, move_away, autocut, filters, return_metadata, return_properties)\u001B[0m\n\u001B[1;32m    311\u001B[0m \u001B[38;5;28mself\u001B[39m\u001B[38;5;241m.\u001B[39m_metadata \u001B[38;5;241m=\u001B[39m return_metadata\n\u001B[1;32m    312\u001B[0m \u001B[38;5;28mself\u001B[39m\u001B[38;5;241m.\u001B[39m__merge_default_and_return_properties(return_properties)\n\u001B[0;32m--> 314\u001B[0m \u001B[38;5;28;01mreturn\u001B[39;00m cast(List[SearchResult], \u001B[38;5;28;43mself\u001B[39;49m\u001B[38;5;241;43m.\u001B[39;49m\u001B[43m__call\u001B[49m\u001B[43m(\u001B[49m\u001B[43m)\u001B[49m\u001B[38;5;241m.\u001B[39mresults)\n",
      "File \u001B[0;32m~/code/sandpit/try_new_wv_api_202306/.venv/lib/python3.10/site-packages/weaviate/collection/grpc.py:466\u001B[0m, in \u001B[0;36m_GRPC.__call\u001B[0;34m(self)\u001B[0m\n\u001B[1;32m    422\u001B[0m     \u001B[38;5;28;01massert\u001B[39;00m \u001B[38;5;28mself\u001B[39m\u001B[38;5;241m.\u001B[39m_connection\u001B[38;5;241m.\u001B[39mgrpc_stub \u001B[38;5;129;01mis\u001B[39;00m \u001B[38;5;129;01mnot\u001B[39;00m \u001B[38;5;28;01mNone\u001B[39;00m\n\u001B[1;32m    423\u001B[0m     res: SearchResponse  \u001B[38;5;66;03m# According to PEP-0526\u001B[39;00m\n\u001B[1;32m    424\u001B[0m     res, _ \u001B[38;5;241m=\u001B[39m \u001B[38;5;28mself\u001B[39m\u001B[38;5;241m.\u001B[39m_connection\u001B[38;5;241m.\u001B[39mgrpc_stub\u001B[38;5;241m.\u001B[39mSearch\u001B[38;5;241m.\u001B[39mwith_call(\n\u001B[1;32m    425\u001B[0m         weaviate_pb2\u001B[38;5;241m.\u001B[39mSearchRequest(\n\u001B[1;32m    426\u001B[0m             class_name\u001B[38;5;241m=\u001B[39m\u001B[38;5;28mself\u001B[39m\u001B[38;5;241m.\u001B[39m_name,\n\u001B[1;32m    427\u001B[0m             limit\u001B[38;5;241m=\u001B[39m\u001B[38;5;28mself\u001B[39m\u001B[38;5;241m.\u001B[39m_limit,\n\u001B[1;32m    428\u001B[0m             offset\u001B[38;5;241m=\u001B[39m\u001B[38;5;28mself\u001B[39m\u001B[38;5;241m.\u001B[39m_offset,\n\u001B[1;32m    429\u001B[0m             after\u001B[38;5;241m=\u001B[39m\u001B[38;5;28mstr\u001B[39m(\u001B[38;5;28mself\u001B[39m\u001B[38;5;241m.\u001B[39m_after) \u001B[38;5;28;01mif\u001B[39;00m \u001B[38;5;28mself\u001B[39m\u001B[38;5;241m.\u001B[39m_after \u001B[38;5;129;01mis\u001B[39;00m \u001B[38;5;129;01mnot\u001B[39;00m \u001B[38;5;28;01mNone\u001B[39;00m \u001B[38;5;28;01melse\u001B[39;00m \u001B[38;5;124m\"\u001B[39m\u001B[38;5;124m\"\u001B[39m,\n\u001B[1;32m    430\u001B[0m             autocut\u001B[38;5;241m=\u001B[39m\u001B[38;5;28mself\u001B[39m\u001B[38;5;241m.\u001B[39m_autocut,\n\u001B[1;32m    431\u001B[0m             near_vector\u001B[38;5;241m=\u001B[39mweaviate_pb2\u001B[38;5;241m.\u001B[39mNearVectorParams(\n\u001B[1;32m    432\u001B[0m                 vector\u001B[38;5;241m=\u001B[39m\u001B[38;5;28mself\u001B[39m\u001B[38;5;241m.\u001B[39m_near_vector_vec,\n\u001B[1;32m    433\u001B[0m                 certainty\u001B[38;5;241m=\u001B[39m\u001B[38;5;28mself\u001B[39m\u001B[38;5;241m.\u001B[39m_near_certainty,\n\u001B[1;32m    434\u001B[0m                 distance\u001B[38;5;241m=\u001B[39m\u001B[38;5;28mself\u001B[39m\u001B[38;5;241m.\u001B[39m_near_distance,\n\u001B[1;32m    435\u001B[0m             )\n\u001B[1;32m    436\u001B[0m             \u001B[38;5;28;01mif\u001B[39;00m \u001B[38;5;28mself\u001B[39m\u001B[38;5;241m.\u001B[39m_near_vector_vec \u001B[38;5;129;01mis\u001B[39;00m \u001B[38;5;129;01mnot\u001B[39;00m \u001B[38;5;28;01mNone\u001B[39;00m\n\u001B[1;32m    437\u001B[0m             \u001B[38;5;28;01melse\u001B[39;00m \u001B[38;5;28;01mNone\u001B[39;00m,\n\u001B[1;32m    438\u001B[0m             near_object\u001B[38;5;241m=\u001B[39mweaviate_pb2\u001B[38;5;241m.\u001B[39mNearObjectParams(\n\u001B[1;32m    439\u001B[0m                 \u001B[38;5;28mid\u001B[39m\u001B[38;5;241m=\u001B[39m\u001B[38;5;28mstr\u001B[39m(\u001B[38;5;28mself\u001B[39m\u001B[38;5;241m.\u001B[39m_near_object_obj),\n\u001B[1;32m    440\u001B[0m                 certainty\u001B[38;5;241m=\u001B[39m\u001B[38;5;28mself\u001B[39m\u001B[38;5;241m.\u001B[39m_near_certainty,\n\u001B[1;32m    441\u001B[0m                 distance\u001B[38;5;241m=\u001B[39m\u001B[38;5;28mself\u001B[39m\u001B[38;5;241m.\u001B[39m_near_distance,\n\u001B[1;32m    442\u001B[0m             )\n\u001B[1;32m    443\u001B[0m             \u001B[38;5;28;01mif\u001B[39;00m \u001B[38;5;28mself\u001B[39m\u001B[38;5;241m.\u001B[39m_near_object_obj \u001B[38;5;129;01mis\u001B[39;00m \u001B[38;5;129;01mnot\u001B[39;00m \u001B[38;5;28;01mNone\u001B[39;00m\n\u001B[1;32m    444\u001B[0m             \u001B[38;5;28;01melse\u001B[39;00m \u001B[38;5;28;01mNone\u001B[39;00m,\n\u001B[1;32m    445\u001B[0m             properties\u001B[38;5;241m=\u001B[39m\u001B[38;5;28mself\u001B[39m\u001B[38;5;241m.\u001B[39m_convert_references_to_grpc(\u001B[38;5;28mself\u001B[39m\u001B[38;5;241m.\u001B[39m_default_props),\n\u001B[1;32m    446\u001B[0m             additional_properties\u001B[38;5;241m=\u001B[39m\u001B[38;5;28mself\u001B[39m\u001B[38;5;241m.\u001B[39m_metadata_to_grpc(\u001B[38;5;28mself\u001B[39m\u001B[38;5;241m.\u001B[39m_metadata)\n\u001B[1;32m    447\u001B[0m             \u001B[38;5;28;01mif\u001B[39;00m \u001B[38;5;28mself\u001B[39m\u001B[38;5;241m.\u001B[39m_metadata \u001B[38;5;129;01mis\u001B[39;00m \u001B[38;5;129;01mnot\u001B[39;00m \u001B[38;5;28;01mNone\u001B[39;00m\n\u001B[1;32m    448\u001B[0m             \u001B[38;5;28;01melse\u001B[39;00m \u001B[38;5;28;01mNone\u001B[39;00m,\n\u001B[1;32m    449\u001B[0m             bm25_search\u001B[38;5;241m=\u001B[39mweaviate_pb2\u001B[38;5;241m.\u001B[39mBM25SearchParams(\n\u001B[1;32m    450\u001B[0m                 properties\u001B[38;5;241m=\u001B[39m\u001B[38;5;28mself\u001B[39m\u001B[38;5;241m.\u001B[39m_bm25_properties, query\u001B[38;5;241m=\u001B[39m\u001B[38;5;28mself\u001B[39m\u001B[38;5;241m.\u001B[39m_bm25_query\n\u001B[1;32m    451\u001B[0m             )\n\u001B[1;32m    452\u001B[0m             \u001B[38;5;28;01mif\u001B[39;00m \u001B[38;5;28mself\u001B[39m\u001B[38;5;241m.\u001B[39m_bm25_query \u001B[38;5;129;01mis\u001B[39;00m \u001B[38;5;129;01mnot\u001B[39;00m \u001B[38;5;28;01mNone\u001B[39;00m\n\u001B[1;32m    453\u001B[0m             \u001B[38;5;28;01melse\u001B[39;00m \u001B[38;5;28;01mNone\u001B[39;00m,\n\u001B[1;32m    454\u001B[0m             hybrid_search\u001B[38;5;241m=\u001B[39mweaviate_pb2\u001B[38;5;241m.\u001B[39mHybridSearchParams(\n\u001B[1;32m    455\u001B[0m                 properties\u001B[38;5;241m=\u001B[39m\u001B[38;5;28mself\u001B[39m\u001B[38;5;241m.\u001B[39m_hybrid_properties,\n\u001B[1;32m    456\u001B[0m                 query\u001B[38;5;241m=\u001B[39m\u001B[38;5;28mself\u001B[39m\u001B[38;5;241m.\u001B[39m_hybrid_query,\n\u001B[1;32m    457\u001B[0m                 alpha\u001B[38;5;241m=\u001B[39m\u001B[38;5;28mself\u001B[39m\u001B[38;5;241m.\u001B[39m_hybrid_alpha,\n\u001B[1;32m    458\u001B[0m                 vector\u001B[38;5;241m=\u001B[39m\u001B[38;5;28mself\u001B[39m\u001B[38;5;241m.\u001B[39m_hybrid_vector,\n\u001B[1;32m    459\u001B[0m                 fusion_type\u001B[38;5;241m=\u001B[39mcast(\n\u001B[1;32m    460\u001B[0m                     weaviate_pb2\u001B[38;5;241m.\u001B[39mHybridSearchParams\u001B[38;5;241m.\u001B[39mFusionType, \u001B[38;5;28mself\u001B[39m\u001B[38;5;241m.\u001B[39m_hybrid_fusion_type\n\u001B[1;32m    461\u001B[0m                 ),\n\u001B[1;32m    462\u001B[0m             )\n\u001B[1;32m    463\u001B[0m             \u001B[38;5;28;01mif\u001B[39;00m \u001B[38;5;28mself\u001B[39m\u001B[38;5;241m.\u001B[39m_hybrid_query \u001B[38;5;129;01mis\u001B[39;00m \u001B[38;5;129;01mnot\u001B[39;00m \u001B[38;5;28;01mNone\u001B[39;00m\n\u001B[1;32m    464\u001B[0m             \u001B[38;5;28;01melse\u001B[39;00m \u001B[38;5;28;01mNone\u001B[39;00m,\n\u001B[1;32m    465\u001B[0m             tenant\u001B[38;5;241m=\u001B[39m\u001B[38;5;28mself\u001B[39m\u001B[38;5;241m.\u001B[39m_tenant,\n\u001B[0;32m--> 466\u001B[0m             filters\u001B[38;5;241m=\u001B[39m\u001B[43mFilterToGRPC\u001B[49m\u001B[38;5;241;43m.\u001B[39;49m\u001B[43mconvert\u001B[49m\u001B[43m(\u001B[49m\u001B[38;5;28;43mself\u001B[39;49m\u001B[38;5;241;43m.\u001B[39;49m\u001B[43m_filters\u001B[49m\u001B[43m)\u001B[49m,\n\u001B[1;32m    467\u001B[0m             near_text\u001B[38;5;241m=\u001B[39mweaviate_pb2\u001B[38;5;241m.\u001B[39mNearTextSearchParams(\n\u001B[1;32m    468\u001B[0m                 query\u001B[38;5;241m=\u001B[39m\u001B[38;5;28mself\u001B[39m\u001B[38;5;241m.\u001B[39m_near_text,\n\u001B[1;32m    469\u001B[0m                 certainty\u001B[38;5;241m=\u001B[39m\u001B[38;5;28mself\u001B[39m\u001B[38;5;241m.\u001B[39m_near_certainty,\n\u001B[1;32m    470\u001B[0m                 distance\u001B[38;5;241m=\u001B[39m\u001B[38;5;28mself\u001B[39m\u001B[38;5;241m.\u001B[39m_near_distance,\n\u001B[1;32m    471\u001B[0m                 move_to\u001B[38;5;241m=\u001B[39m\u001B[38;5;28mself\u001B[39m\u001B[38;5;241m.\u001B[39m_near_text_move_to,\n\u001B[1;32m    472\u001B[0m                 move_away\u001B[38;5;241m=\u001B[39m\u001B[38;5;28mself\u001B[39m\u001B[38;5;241m.\u001B[39m_near_text_move_away,\n\u001B[1;32m    473\u001B[0m             )\n\u001B[1;32m    474\u001B[0m             \u001B[38;5;28;01mif\u001B[39;00m \u001B[38;5;28mself\u001B[39m\u001B[38;5;241m.\u001B[39m_near_text \u001B[38;5;129;01mis\u001B[39;00m \u001B[38;5;129;01mnot\u001B[39;00m \u001B[38;5;28;01mNone\u001B[39;00m\n\u001B[1;32m    475\u001B[0m             \u001B[38;5;28;01melse\u001B[39;00m \u001B[38;5;28;01mNone\u001B[39;00m,\n\u001B[1;32m    476\u001B[0m             near_image\u001B[38;5;241m=\u001B[39mweaviate_pb2\u001B[38;5;241m.\u001B[39mNearImageSearchParams(\n\u001B[1;32m    477\u001B[0m                 image\u001B[38;5;241m=\u001B[39m\u001B[38;5;28mself\u001B[39m\u001B[38;5;241m.\u001B[39m_near_image,\n\u001B[1;32m    478\u001B[0m                 distance\u001B[38;5;241m=\u001B[39m\u001B[38;5;28mself\u001B[39m\u001B[38;5;241m.\u001B[39m_near_distance,\n\u001B[1;32m    479\u001B[0m                 certainty\u001B[38;5;241m=\u001B[39m\u001B[38;5;28mself\u001B[39m\u001B[38;5;241m.\u001B[39m_near_certainty,\n\u001B[1;32m    480\u001B[0m             )\n\u001B[1;32m    481\u001B[0m             \u001B[38;5;28;01mif\u001B[39;00m \u001B[38;5;28mself\u001B[39m\u001B[38;5;241m.\u001B[39m_near_image \u001B[38;5;129;01mis\u001B[39;00m \u001B[38;5;129;01mnot\u001B[39;00m \u001B[38;5;28;01mNone\u001B[39;00m\n\u001B[1;32m    482\u001B[0m             \u001B[38;5;28;01melse\u001B[39;00m \u001B[38;5;28;01mNone\u001B[39;00m,\n\u001B[1;32m    483\u001B[0m             near_video\u001B[38;5;241m=\u001B[39mweaviate_pb2\u001B[38;5;241m.\u001B[39mNearVideoSearchParams(\n\u001B[1;32m    484\u001B[0m                 video\u001B[38;5;241m=\u001B[39m\u001B[38;5;28mself\u001B[39m\u001B[38;5;241m.\u001B[39m_near_video,\n\u001B[1;32m    485\u001B[0m                 distance\u001B[38;5;241m=\u001B[39m\u001B[38;5;28mself\u001B[39m\u001B[38;5;241m.\u001B[39m_near_distance,\n\u001B[1;32m    486\u001B[0m                 certainty\u001B[38;5;241m=\u001B[39m\u001B[38;5;28mself\u001B[39m\u001B[38;5;241m.\u001B[39m_near_certainty,\n\u001B[1;32m    487\u001B[0m             )\n\u001B[1;32m    488\u001B[0m             \u001B[38;5;28;01mif\u001B[39;00m \u001B[38;5;28mself\u001B[39m\u001B[38;5;241m.\u001B[39m_near_video \u001B[38;5;129;01mis\u001B[39;00m \u001B[38;5;129;01mnot\u001B[39;00m \u001B[38;5;28;01mNone\u001B[39;00m\n\u001B[1;32m    489\u001B[0m             \u001B[38;5;28;01melse\u001B[39;00m \u001B[38;5;28;01mNone\u001B[39;00m,\n\u001B[1;32m    490\u001B[0m             near_audio\u001B[38;5;241m=\u001B[39mweaviate_pb2\u001B[38;5;241m.\u001B[39mNearAudioSearchParams(\n\u001B[1;32m    491\u001B[0m                 audio\u001B[38;5;241m=\u001B[39m\u001B[38;5;28mself\u001B[39m\u001B[38;5;241m.\u001B[39m_near_audio,\n\u001B[1;32m    492\u001B[0m                 distance\u001B[38;5;241m=\u001B[39m\u001B[38;5;28mself\u001B[39m\u001B[38;5;241m.\u001B[39m_near_distance,\n\u001B[1;32m    493\u001B[0m                 certainty\u001B[38;5;241m=\u001B[39m\u001B[38;5;28mself\u001B[39m\u001B[38;5;241m.\u001B[39m_near_certainty,\n\u001B[1;32m    494\u001B[0m             )\n\u001B[1;32m    495\u001B[0m             \u001B[38;5;28;01mif\u001B[39;00m \u001B[38;5;28mself\u001B[39m\u001B[38;5;241m.\u001B[39m_near_audio \u001B[38;5;129;01mis\u001B[39;00m \u001B[38;5;129;01mnot\u001B[39;00m \u001B[38;5;28;01mNone\u001B[39;00m\n\u001B[1;32m    496\u001B[0m             \u001B[38;5;28;01melse\u001B[39;00m \u001B[38;5;28;01mNone\u001B[39;00m,\n\u001B[1;32m    497\u001B[0m             consistency_level\u001B[38;5;241m=\u001B[39m\u001B[38;5;28mself\u001B[39m\u001B[38;5;241m.\u001B[39m_consistency_level,\n\u001B[1;32m    498\u001B[0m             sort_by\u001B[38;5;241m=\u001B[39m[\n\u001B[1;32m    499\u001B[0m                 weaviate_pb2\u001B[38;5;241m.\u001B[39mSortBy(ascending\u001B[38;5;241m=\u001B[39msort\u001B[38;5;241m.\u001B[39mascending, path\u001B[38;5;241m=\u001B[39m[sort\u001B[38;5;241m.\u001B[39mprop])\n\u001B[1;32m    500\u001B[0m                 \u001B[38;5;28;01mfor\u001B[39;00m sort \u001B[38;5;129;01min\u001B[39;00m \u001B[38;5;28mself\u001B[39m\u001B[38;5;241m.\u001B[39m_sort\n\u001B[1;32m    501\u001B[0m             ]\n\u001B[1;32m    502\u001B[0m             \u001B[38;5;28;01mif\u001B[39;00m \u001B[38;5;28mself\u001B[39m\u001B[38;5;241m.\u001B[39m_sort \u001B[38;5;129;01mis\u001B[39;00m \u001B[38;5;129;01mnot\u001B[39;00m \u001B[38;5;28;01mNone\u001B[39;00m\n\u001B[1;32m    503\u001B[0m             \u001B[38;5;28;01melse\u001B[39;00m \u001B[38;5;28;01mNone\u001B[39;00m,\n\u001B[1;32m    504\u001B[0m             generative\u001B[38;5;241m=\u001B[39mweaviate_pb2\u001B[38;5;241m.\u001B[39mGenerativeSearch(\n\u001B[1;32m    505\u001B[0m                 single_response_prompt\u001B[38;5;241m=\u001B[39m\u001B[38;5;28mself\u001B[39m\u001B[38;5;241m.\u001B[39m_generative_single,\n\u001B[1;32m    506\u001B[0m                 grouped_response_task\u001B[38;5;241m=\u001B[39m\u001B[38;5;28mself\u001B[39m\u001B[38;5;241m.\u001B[39m_generative_grouped,\n\u001B[1;32m    507\u001B[0m                 grouped_properties\u001B[38;5;241m=\u001B[39m\u001B[38;5;28mself\u001B[39m\u001B[38;5;241m.\u001B[39m_generative_grouped_properties,\n\u001B[1;32m    508\u001B[0m             )\n\u001B[1;32m    509\u001B[0m             \u001B[38;5;28;01mif\u001B[39;00m \u001B[38;5;28mself\u001B[39m\u001B[38;5;241m.\u001B[39m_generative_single \u001B[38;5;129;01mis\u001B[39;00m \u001B[38;5;129;01mnot\u001B[39;00m \u001B[38;5;28;01mNone\u001B[39;00m \u001B[38;5;129;01mor\u001B[39;00m \u001B[38;5;28mself\u001B[39m\u001B[38;5;241m.\u001B[39m_generative_grouped \u001B[38;5;129;01mis\u001B[39;00m \u001B[38;5;129;01mnot\u001B[39;00m \u001B[38;5;28;01mNone\u001B[39;00m\n\u001B[1;32m    510\u001B[0m             \u001B[38;5;28;01melse\u001B[39;00m \u001B[38;5;28;01mNone\u001B[39;00m,\n\u001B[1;32m    511\u001B[0m         ),\n\u001B[1;32m    512\u001B[0m         metadata\u001B[38;5;241m=\u001B[39mmetadata,\n\u001B[1;32m    513\u001B[0m     )\n\u001B[1;32m    515\u001B[0m     \u001B[38;5;28;01mreturn\u001B[39;00m res\n\u001B[1;32m    517\u001B[0m \u001B[38;5;28;01mexcept\u001B[39;00m grpc\u001B[38;5;241m.\u001B[39mRpcError \u001B[38;5;28;01mas\u001B[39;00m e:\n",
      "File \u001B[0;32m~/code/sandpit/try_new_wv_api_202306/.venv/lib/python3.10/site-packages/weaviate/collection/extract_filters.py:25\u001B[0m, in \u001B[0;36mFilterToGRPC.convert\u001B[0;34m(weav_filter)\u001B[0m\n\u001B[1;32m     23\u001B[0m     \u001B[38;5;28;01mreturn\u001B[39;00m FilterToGRPC\u001B[38;5;241m.\u001B[39m__value_filter(weav_filter)\n\u001B[1;32m     24\u001B[0m \u001B[38;5;28;01melse\u001B[39;00m:\n\u001B[0;32m---> 25\u001B[0m     \u001B[38;5;28;01mreturn\u001B[39;00m \u001B[43mFilterToGRPC\u001B[49m\u001B[38;5;241;43m.\u001B[39;49m\u001B[43m__and_or_filter\u001B[49m\u001B[43m(\u001B[49m\u001B[43mweav_filter\u001B[49m\u001B[43m)\u001B[49m\n",
      "File \u001B[0;32m~/code/sandpit/try_new_wv_api_202306/.venv/lib/python3.10/site-packages/weaviate/collection/extract_filters.py:100\u001B[0m, in \u001B[0;36mFilterToGRPC.__and_or_filter\u001B[0;34m(weav_filter)\u001B[0m\n\u001B[1;32m     98\u001B[0m \u001B[38;5;129m@staticmethod\u001B[39m\n\u001B[1;32m     99\u001B[0m \u001B[38;5;28;01mdef\u001B[39;00m \u001B[38;5;21m__and_or_filter\u001B[39m(weav_filter: _Filters) \u001B[38;5;241m-\u001B[39m\u001B[38;5;241m>\u001B[39m Optional[weaviate_pb2\u001B[38;5;241m.\u001B[39mFilters]:\n\u001B[0;32m--> 100\u001B[0m     \u001B[38;5;28;01massert\u001B[39;00m \u001B[38;5;28misinstance\u001B[39m(weav_filter, _FilterAnd) \u001B[38;5;129;01mor\u001B[39;00m \u001B[38;5;28misinstance\u001B[39m(weav_filter, _FilterOr)\n\u001B[1;32m    101\u001B[0m     \u001B[38;5;28;01mreturn\u001B[39;00m weaviate_pb2\u001B[38;5;241m.\u001B[39mFilters(\n\u001B[1;32m    102\u001B[0m         operator\u001B[38;5;241m=\u001B[39mweav_filter\u001B[38;5;241m.\u001B[39moperator,\n\u001B[1;32m    103\u001B[0m         filters\u001B[38;5;241m=\u001B[39m[\n\u001B[0;32m   (...)\u001B[0m\n\u001B[1;32m    107\u001B[0m         ],\n\u001B[1;32m    108\u001B[0m     )\n",
      "\u001B[0;31mAssertionError\u001B[0m: "
     ]
    }
   ],
   "source": [
    "import weaviate.collection.classes.filters as wv_filters\n",
    "\n",
    "response = articles.query.near_text(\n",
    "    query=\"The dark side\",\n",
    "    certainty=0.75,\n",
    "    return_properties=[\"title\", \"body\"],\n",
    "    return_metadata=wvc.MetadataQuery(uuid=True),\n",
    "    filters=wvc.Filter(\n",
    "        path=\"\"\n",
    "    )\n",
    ")\n",
    "\n",
    "print(response)"
   ],
   "metadata": {
    "collapsed": false,
    "ExecuteTime": {
     "end_time": "2023-09-15T14:26:32.162613Z",
     "start_time": "2023-09-15T14:26:31.833695Z"
    }
   }
  },
  {
   "cell_type": "markdown",
   "source": [
    "**Task**: Can you construct a `bm25` query (with `options` and with `flat`)\n",
    "- with a query for `galaxy`"
   ],
   "metadata": {
    "collapsed": false
   }
  },
  {
   "cell_type": "code",
   "execution_count": null,
   "outputs": [],
   "source": [
    "response.objects[0]"
   ],
   "metadata": {
    "collapsed": false,
    "ExecuteTime": {
     "start_time": "2023-09-15T14:26:32.162463Z"
    }
   }
  },
  {
   "cell_type": "code",
   "execution_count": null,
   "outputs": [],
   "source": [
    "print(response)"
   ],
   "metadata": {
    "collapsed": false
   }
  },
  {
   "cell_type": "code",
   "execution_count": null,
   "outputs": [],
   "source": [
    "response.objects"
   ],
   "metadata": {
    "collapsed": false
   }
  },
  {
   "cell_type": "code",
   "execution_count": null,
   "outputs": [],
   "source": [],
   "metadata": {
    "collapsed": false
   }
  }
 ],
 "metadata": {
  "kernelspec": {
   "display_name": "Python 3 (ipykernel)",
   "language": "python",
   "name": "python3"
  },
  "language_info": {
   "codemirror_mode": {
    "name": "ipython",
    "version": 3
   },
   "file_extension": ".py",
   "mimetype": "text/x-python",
   "name": "python",
   "nbconvert_exporter": "python",
   "pygments_lexer": "ipython3",
   "version": "3.10.12"
  }
 },
 "nbformat": 4,
 "nbformat_minor": 5
}
