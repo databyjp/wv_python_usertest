{
 "cells": [
  {
   "cell_type": "code",
   "execution_count": 3,
   "metadata": {
    "collapsed": true,
    "ExecuteTime": {
     "end_time": "2023-08-28T11:57:29.985139Z",
     "start_time": "2023-08-28T11:57:29.873064Z"
    }
   },
   "outputs": [],
   "source": [
    "from weaviate import Config\n",
    "import weaviate\n",
    "import os\n",
    "\n",
    "client = weaviate.Client(\n",
    "    \"http://localhost:8080\",\n",
    "    additional_config=Config(grpc_port_experimental=50051),\n",
    "    additional_headers={\n",
    "        \"X-OpenAI-Api-Key\": os.environ[\"OPENAI_APIKEY\"]\n",
    "    }\n",
    ")"
   ]
  },
  {
   "cell_type": "code",
   "execution_count": 5,
   "outputs": [],
   "source": [
    "from weaviate.collection.classes import CollectionConfig, Vectorizer, Property, DataType\n",
    "\n",
    "collection = client.collection.create(\n",
    "    CollectionConfig(\n",
    "        name=\"Test\",\n",
    "        vectorizer=Vectorizer.TEXT2VEC_OPENAI,\n",
    "        properties=[Property(name=\"name\", data_type=DataType.TEXT)],\n",
    "    )\n",
    ")\n",
    "\n",
    "uuids = [\n",
    "    collection.data.insert({\"name\": \"Banana\"}),\n",
    "    collection.data.insert({\"name\": \"Apple\"}),\n",
    "    collection.data.insert({\"name\": \"Mountain\"}),\n",
    "]"
   ],
   "metadata": {
    "collapsed": false,
    "ExecuteTime": {
     "end_time": "2023-08-28T11:57:50.224825Z",
     "start_time": "2023-08-28T11:57:48.521914Z"
    }
   }
  },
  {
   "cell_type": "code",
   "execution_count": 19,
   "outputs": [],
   "source": [
    "collection.query.get_options??"
   ],
   "metadata": {
    "collapsed": false,
    "ExecuteTime": {
     "end_time": "2023-08-28T12:49:22.852546Z",
     "start_time": "2023-08-28T12:49:22.843246Z"
    }
   }
  },
  {
   "cell_type": "code",
   "execution_count": 20,
   "outputs": [],
   "source": [
    "from weaviate.collection.grpc import GetOptions\n",
    "\n",
    "GetOptions??"
   ],
   "metadata": {
    "collapsed": false,
    "ExecuteTime": {
     "end_time": "2023-08-28T12:49:46.722123Z",
     "start_time": "2023-08-28T12:49:46.712364Z"
    }
   }
  },
  {
   "cell_type": "code",
   "execution_count": null,
   "outputs": [],
   "source": [],
   "metadata": {
    "collapsed": false
   }
  }
 ],
 "metadata": {
  "kernelspec": {
   "display_name": "Python 3",
   "language": "python",
   "name": "python3"
  },
  "language_info": {
   "codemirror_mode": {
    "name": "ipython",
    "version": 2
   },
   "file_extension": ".py",
   "mimetype": "text/x-python",
   "name": "python",
   "nbconvert_exporter": "python",
   "pygments_lexer": "ipython2",
   "version": "2.7.6"
  }
 },
 "nbformat": 4,
 "nbformat_minor": 0
}
