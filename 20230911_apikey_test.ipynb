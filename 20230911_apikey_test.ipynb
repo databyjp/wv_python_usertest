{
 "cells": [
  {
   "cell_type": "code",
   "execution_count": 1,
   "metadata": {
    "collapsed": true,
    "ExecuteTime": {
     "end_time": "2023-09-11T11:08:35.375610Z",
     "start_time": "2023-09-11T11:08:35.102038Z"
    }
   },
   "outputs": [],
   "source": [
    "from weaviate import Config\n",
    "import weaviate\n",
    "import os\n",
    "\n",
    "palm_key = \"ya29.a0AfB_byBjOgGR3ALAY2DVA7okO68x5eilqu4FXPaGoPy5XgpLNveGJpzQiraz5gb0D-V3fqYs6lQzEKLLRCOv7ZD9Xoygya9KUHp4o978xolIG-iqVxgw6cUtOgjZtWSZh2MwzU_BfJp5llrIjwX_0tLFyekYVo0mcw3BHZMOR70aCgYKAfoSARISFQGOcNnCy1leP3msdS0urC7O2PLejw0178\"\n",
    "\n",
    "client = weaviate.Client(\n",
    "    \"http://localhost:8080\",\n",
    "    additional_config=Config(grpc_port_experimental=50051),\n",
    "    additional_headers={\n",
    "        \"X-OpenAI-Api-Key\": os.environ[\"OPENAI_APIKEY\"],\n",
    "        \"X-HuggingFace-Api-Key\": os.environ[\"HUGGINGFACE_APIKEY\"],\n",
    "        \"X-Palm-Api-Key\": palm_key,\n",
    "    }\n",
    ")"
   ]
  },
  {
   "cell_type": "code",
   "execution_count": 3,
   "outputs": [],
   "source": [
    "import weaviate.weaviate_classes as wvc\n",
    "\n",
    "articles = client.collection.create(\n",
    "    config=wvc.CollectionConfig(\n",
    "        name=\"TestArticle\",\n",
    "        properties=[\n",
    "            wvc.Property(\n",
    "                name=\"title\",\n",
    "                data_type=wvc.DataType.TEXT,\n",
    "            ),\n",
    "            wvc.Property(\n",
    "                name=\"body\",\n",
    "                data_type=wvc.DataType.TEXT,\n",
    "            ),\n",
    "            wvc.Property(\n",
    "                name=\"url\",\n",
    "                data_type=wvc.DataType.TEXT,\n",
    "                tokenization=wvc.Tokenization.FIELD\n",
    "            ),\n",
    "        ],\n",
    "        vectorizer_config=wvc.Text2VecHuggingFaceConfig(options=wvc.Text2VecHuggingFaceConfigOptions(wait_for_model=True)),\n",
    "    )\n",
    ")"
   ],
   "metadata": {
    "collapsed": false,
    "ExecuteTime": {
     "end_time": "2023-09-11T11:12:34.257933Z",
     "start_time": "2023-09-11T11:12:34.231684Z"
    }
   }
  },
  {
   "cell_type": "code",
   "execution_count": 4,
   "outputs": [],
   "source": [
    "uuid = articles.data.insert(\n",
    "    {\n",
    "        \"title\": \"Something something dark side\",\n",
    "        \"body\": \"A long long time ago, in a galaxy far, far away...\",\n",
    "        \"url\": \"http://www.starwars.com\"\n",
    "    }\n",
    ")"
   ],
   "metadata": {
    "collapsed": false,
    "ExecuteTime": {
     "end_time": "2023-09-11T11:12:52.910446Z",
     "start_time": "2023-09-11T11:12:52.373261Z"
    }
   }
  },
  {
   "cell_type": "code",
   "execution_count": 5,
   "outputs": [
    {
     "data": {
      "text/plain": "UUID('c5ebdc68-5a61-4782-9ef3-99019c8aee2e')"
     },
     "execution_count": 5,
     "metadata": {},
     "output_type": "execute_result"
    }
   ],
   "source": [
    "uuid"
   ],
   "metadata": {
    "collapsed": false,
    "ExecuteTime": {
     "end_time": "2023-09-11T11:12:55.357073Z",
     "start_time": "2023-09-11T11:12:55.341899Z"
    }
   }
  },
  {
   "cell_type": "code",
   "execution_count": 9,
   "outputs": [
    {
     "data": {
      "text/plain": "768"
     },
     "execution_count": 9,
     "metadata": {},
     "output_type": "execute_result"
    }
   ],
   "source": [
    "resp = articles.data.get(metadata=wvc.GetObjectsMetadata(vector=True))\n",
    "len(resp[0].metadata.vector)"
   ],
   "metadata": {
    "collapsed": false,
    "ExecuteTime": {
     "end_time": "2023-09-11T11:13:57.532487Z",
     "start_time": "2023-09-11T11:13:57.525266Z"
    }
   }
  },
  {
   "cell_type": "code",
   "execution_count": 10,
   "outputs": [],
   "source": [
    "client.schema.delete_class(\"TestArticle\")\n",
    "\n",
    "import weaviate.weaviate_classes as wvc\n",
    "\n",
    "articles = client.collection.create(\n",
    "    config=wvc.CollectionConfig(\n",
    "        name=\"TestArticle\",\n",
    "        properties=[\n",
    "            wvc.Property(\n",
    "                name=\"title\",\n",
    "                data_type=wvc.DataType.TEXT,\n",
    "            ),\n",
    "            wvc.Property(\n",
    "                name=\"body\",\n",
    "                data_type=wvc.DataType.TEXT,\n",
    "            ),\n",
    "            wvc.Property(\n",
    "                name=\"url\",\n",
    "                data_type=wvc.DataType.TEXT,\n",
    "                tokenization=wvc.Tokenization.FIELD\n",
    "            ),\n",
    "        ],\n",
    "        vectorizer_config=wvc.Text2VecPalmConfig(project_id=\"devrel-projects\"),\n",
    "    )\n",
    ")"
   ],
   "metadata": {
    "collapsed": false,
    "ExecuteTime": {
     "end_time": "2023-09-11T11:16:26.666437Z",
     "start_time": "2023-09-11T11:16:26.632557Z"
    }
   }
  },
  {
   "cell_type": "code",
   "execution_count": 11,
   "outputs": [],
   "source": [
    "uuid = articles.data.insert(\n",
    "    {\n",
    "        \"title\": \"Something something dark side\",\n",
    "        \"body\": \"A long long time ago, in a galaxy far, far away...\",\n",
    "        \"url\": \"http://www.starwars.com\"\n",
    "    }\n",
    ")"
   ],
   "metadata": {
    "collapsed": false,
    "ExecuteTime": {
     "end_time": "2023-09-11T11:16:33.355393Z",
     "start_time": "2023-09-11T11:16:32.429898Z"
    }
   }
  },
  {
   "cell_type": "code",
   "execution_count": 12,
   "outputs": [
    {
     "data": {
      "text/plain": "768"
     },
     "execution_count": 12,
     "metadata": {},
     "output_type": "execute_result"
    }
   ],
   "source": [
    "resp = articles.data.get(metadata=wvc.GetObjectsMetadata(vector=True))\n",
    "len(resp[0].metadata.vector)"
   ],
   "metadata": {
    "collapsed": false,
    "ExecuteTime": {
     "end_time": "2023-09-11T11:16:37.806543Z",
     "start_time": "2023-09-11T11:16:37.796612Z"
    }
   }
  },
  {
   "cell_type": "code",
   "execution_count": 13,
   "outputs": [
    {
     "data": {
      "text/plain": "UUID('7776b088-8f55-4122-a239-9a1934cdb1c3')"
     },
     "execution_count": 13,
     "metadata": {},
     "output_type": "execute_result"
    }
   ],
   "source": [
    "uuid"
   ],
   "metadata": {
    "collapsed": false,
    "ExecuteTime": {
     "end_time": "2023-09-11T11:16:42.170351Z",
     "start_time": "2023-09-11T11:16:42.164413Z"
    }
   }
  },
  {
   "cell_type": "code",
   "execution_count": 15,
   "outputs": [
    {
     "data": {
      "text/plain": "_CollectionConfig(name='TestArticle', description=None, inverted_index_config=_InvertedIndexConfig(bm25=_BM25Config(b=0.75, k1=1.2), cleanup_interval_seconds=60, stopwords=_StopwordsConfig(preset=<StopwordsPreset.EN: 'en'>, additions=None, removals=None)), multi_tenancy_config=_MultiTenancyConfig(enabled=False), properties=[_Property(data_type=<DataType.TEXT: 'text'>, description=None, index_filterable=True, index_searchable=True, name='title', tokenization=<Tokenization.WORD: 'word'>), _Property(data_type=<DataType.TEXT: 'text'>, description=None, index_filterable=True, index_searchable=True, name='body', tokenization=<Tokenization.WORD: 'word'>), _Property(data_type=<DataType.TEXT: 'text'>, description=None, index_filterable=True, index_searchable=True, name='url', tokenization=<Tokenization.FIELD: 'field'>)], replication_factor=_ReplicationFactor(factor=1), sharding_config=_ShardingConfig(virtual_per_physical=128, desired_count=1, actual_count=1, desired_virtual_count=128, actual_virtual_count=128, key='_id', strategy='hash', function='murmur3'), vector_index_config=_VectorIndexConfig(cleanup_interval_seconds=300, distance=<VectorDistance.COSINE: 'cosine'>, dynamic_ef_min=100, dynamic_ef_max=500, dynamic_ef_factor=8, ef=-1, ef_construction=128, flat_search_cutoff=40000, max_connections=64, pq=_PQConfig(enabled=False, bit_compression=False, segments=0, centroids=256, training_limit=100000, encoder=_PQEncoderConfig(type_=<PQEncoderType.KMEANS: 'kmeans'>, distribution=<PQEncoderDistribution.LOG_NORMAL: 'log-normal'>)), skip=False, vector_cache_max_objects=1000000000000), vector_index_type=<VectorIndexType.HNSW: 'hnsw'>, vectorizer=<Vectorizer.TEXT2VEC_PALM: 'text2vec-palm'>)"
     },
     "execution_count": 15,
     "metadata": {},
     "output_type": "execute_result"
    }
   ],
   "source": [
    "articles.config.get()"
   ],
   "metadata": {
    "collapsed": false,
    "ExecuteTime": {
     "end_time": "2023-09-11T11:17:27.368994Z",
     "start_time": "2023-09-11T11:17:27.357382Z"
    }
   }
  },
  {
   "cell_type": "code",
   "execution_count": null,
   "outputs": [],
   "source": [],
   "metadata": {
    "collapsed": false
   }
  }
 ],
 "metadata": {
  "kernelspec": {
   "display_name": "Python 3",
   "language": "python",
   "name": "python3"
  },
  "language_info": {
   "codemirror_mode": {
    "name": "ipython",
    "version": 2
   },
   "file_extension": ".py",
   "mimetype": "text/x-python",
   "name": "python",
   "nbconvert_exporter": "python",
   "pygments_lexer": "ipython2",
   "version": "2.7.6"
  }
 },
 "nbformat": 4,
 "nbformat_minor": 0
}
